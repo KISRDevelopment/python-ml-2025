{
 "cells": [
  {
   "cell_type": "markdown",
   "id": "aa05c4d0",
   "metadata": {},
   "source": [
    "# Multilayer Perceptron\n",
    "\n",
    "## The Kinds of Functions that an MLP Can Represent"
   ]
  },
  {
   "cell_type": "code",
   "execution_count": 23,
   "id": "a10456fd",
   "metadata": {},
   "outputs": [],
   "source": [
    "import jax\n",
    "import jax.numpy as jnp\n",
    "import matplotlib.pyplot as plt\n",
    "import sklearn.metrics\n",
    "import pandas as pd \n",
    "import numpy as np "
   ]
  },
  {
   "cell_type": "code",
   "execution_count": 21,
   "id": "c5c9372e-d04d-4150-9e3a-c25defc4c13a",
   "metadata": {},
   "outputs": [
    {
     "data": {
      "text/plain": [
       "<matplotlib.contour.QuadContourSet at 0x13bbff770>"
      ]
     },
     "execution_count": 21,
     "metadata": {},
     "output_type": "execute_result"
    },
    {
     "data": {
      "image/png": "[encoded data removed]",
      "text/plain": [
       "<Figure size 500x500 with 1 Axes>"
      ]
     },
     "metadata": {},
     "output_type": "display_data"
    }
   ],
   "source": [
    "#\n",
    "# Create a two dimensional grid that we want to makes predictions over\n",
    "#\n",
    "\n",
    "# The number of points in each dimension\n",
    "N = 100\n",
    "xs = jnp.linspace(-3, 3, N)\n",
    "x1s, x2s = jnp.meshgrid(xs, xs) # creates all combinations of xs * xs\n",
    "# so now x1s and x2s have shape 100x100\n",
    "\n",
    "# Now we make the actual inputs into the neural network\n",
    "# x1s.flatten() gives us a shape of 100*100 = 10,000\n",
    "# and similary for x2s\n",
    "X = jnp.vstack((x1s.flatten(), x2s.flatten())).T\n",
    "\n",
    "# First, let's prepare a random key\n",
    "rng = jax.random.key(123413)\n",
    "n_hidden = 20 # number of hidden units in the first hidden layer\n",
    "\n",
    "#\n",
    "# Now let's initialize the weights of the neural network\n",
    "#\n",
    "params = {} # initialize an empty dictionary\n",
    "\n",
    "# weights from inputs to hidden neurons (2xH)\n",
    "params['W_input_hidden'] = jax.random.normal(rng, (2, n_hidden)) \n",
    "rng, _ = jax.random.split(rng)  # move to the next random key\n",
    "\n",
    "# bias of the hidden neurons is initialized to zero\n",
    "params['b_hidden'] = jnp.zeros(n_hidden)\n",
    "\n",
    "# weights from the hidden neurons to the output neuron (shape is H)\n",
    "params['W_hidden_output'] = jax.random.normal(rng, (n_hidden,)) \n",
    "rng, _ = jax.random.split(rng) # move to next random key\n",
    "\n",
    "# finally, initialize the bias of the output neuron \n",
    "params['b_output'] = 0.0\n",
    "\n",
    "# \n",
    "# Now we can actually run the forward pass of the network\n",
    "#\n",
    "\n",
    "# compute the inputs into the neurons\n",
    "# 1xH + Nx2 @ 2xH = 1xH + NxH = NxH\n",
    "hidden_inputs = params['b_hidden'][None,:] + X @ params['W_input_hidden']\n",
    "\n",
    "# next, we apply the non-linearity to those inputs\n",
    "#hidden_activations = jnp.tanh(hidden_inputs) # NxH\n",
    "hidden_activations = jnp.maximum(0, hidden_inputs) # <-- ReLU\n",
    "\n",
    "# now we compute the output\n",
    "# 1 + NxH @ H = 1 + N = N \n",
    "f = params['b_output'] + hidden_activations @ params['W_hidden_output']\n",
    "p = 1/(1+jnp.exp(-f)) # <-- sigmoid function\n",
    "\n",
    "# Now we want to plot the result\n",
    "\n",
    "# first, we need to reshape the output from N (10,000) to 100x100 \n",
    "P = jnp.reshape(p, (N, N)) # 10,000 -> 100x100\n",
    "\n",
    "f, ax = plt.subplots(1, 1, figsize=(5,5))\n",
    "ax.contourf(x1s, x2s, P)"
   ]
  },
  {
   "cell_type": "markdown",
   "id": "21e7c221-53bc-40dc-a10f-9366b95a2d83",
   "metadata": {},
   "source": [
    "# Implementing the MLP"
   ]
  },
  {
   "cell_type": "code",
   "execution_count": 117,
   "id": "b80da8ab-b0d2-4b9d-bb68-53323ada60ae",
   "metadata": {},
   "outputs": [
    {
     "data": {
      "text/plain": [
       "0.894"
      ]
     },
     "execution_count": 117,
     "metadata": {},
     "output_type": "execute_result"
    }
   ],
   "source": [
    "def prepare_inputs(input_df):\n",
    "    \"\"\"\n",
    "        Prepares the input features that will be fed into the model.\n",
    "\n",
    "        Inputs:\n",
    "            input_df: the input dataframe into the function. Should consist ONLY of input features.\n",
    "        Outputs:\n",
    "            Z: the input feature matrix of size NxK, where K is the number of features\n",
    "    \"\"\"\n",
    "    # Let's identify categorical columns in a dataframe\n",
    "    categorical_cols = input_df.select_dtypes(include='object').columns\n",
    "    \n",
    "    # Let's identify the numeric columns in the dataframe\n",
    "    numeric_cols = input_df.select_dtypes(include='number').columns\n",
    "\n",
    "    # We want to construct the input features into the model\n",
    "    # We will use a numpy array that contains both numeric and categorically encoded values\n",
    "    X = input_df[numeric_cols].to_numpy() # (NxK)\n",
    "    \n",
    "    # Now we need to z-score the numeric features so that they can lead to efficient learning\n",
    "    col_means = np.mean(X, axis=0) # K\n",
    "    col_stds = np.std(X, axis=0, ddof=1) # K\n",
    "    \n",
    "    # Z-score\n",
    "    # (NxK - \n",
    "    #  1xK) \n",
    "    #  / \n",
    "    #  (1xK)\n",
    "    Z = (X - col_means[None, :]) / col_stds[None, :]\n",
    "    \n",
    "    # Now we want to code the categorical columns using one-hot encoding\n",
    "    for col in categorical_cols:\n",
    "        # NxC (C is the number of unique values in the column)\n",
    "        # So for origin this will be Nx3 \n",
    "        dummies = pd.get_dummies( input_df[col] ).to_numpy() \n",
    "        \n",
    "        # concatenate dummies matrix onto Z\n",
    "        #print(Z.shape)\n",
    "        #print(dummies.shape)\n",
    "        Z = np.hstack((Z, dummies)) \n",
    "    \n",
    "    # finally we want to add a column of ones at the start of Z\n",
    "    ones_col = np.ones((Z.shape[0], 1)) # Nx1\n",
    "    \n",
    "    Z = np.hstack((ones_col, Z))\n",
    "\n",
    "    return Z\n",
    "\n",
    "def forward_fn(params, Z):\n",
    "    \"\"\"\n",
    "        The MLP forward function.\n",
    "        This is a neuron network with one hidden layer and ReLU activations.\n",
    "        \n",
    "        Inputs:\n",
    "            params: the weight of the model\n",
    "            Z: the input feature matrix, as returned by prepare_inputs (size NxK)\n",
    "        Output:\n",
    "            yhat: the model's predictions (size N)\n",
    "    \"\"\"\n",
    "    # compute the inputs into the neurons\n",
    "    # 1xH + Nxd @ dxH = 1xH + NxH = NxH\n",
    "    hidden_inputs = params['b_hidden'][None,:] + Z @ params['W_input_hidden']\n",
    "    \n",
    "    # next, we apply the non-linearity to those inputs\n",
    "    #hidden_activations = jnp.tanh(hidden_inputs) # NxH\n",
    "    hidden_activations = jnp.maximum(0, hidden_inputs) # <-- ReLU\n",
    "    \n",
    "    # now we compute the output\n",
    "    # 1 + NxH @ H = 1 + N = N \n",
    "    f = params['b_output'] + hidden_activations @ params['W_hidden_output']\n",
    "    p = 1/(1+jnp.exp(-f)) # <-- sigmoid function (the probability of a positive)\n",
    "\n",
    "    # so that the log doesn't blow up\n",
    "    p = jnp.clip(p, 0.01, 0.99)\n",
    "    jnp.log_simoid\n",
    "    return p\n",
    "\n",
    "def predict(params, input_df):\n",
    "    \"\"\"\n",
    "        Convienience function that prepares inputs and runs the forward function.\n",
    "\n",
    "        Inputs:\n",
    "            params: the weights of the model\n",
    "            input_df: input data frame (input features only, no output column).\n",
    "        Output:\n",
    "            yhat: the model's predictions (size N)\n",
    "    \"\"\"\n",
    "    Z = prepare_inputs(input_df)\n",
    "    return forward_fn(params, Z)\n",
    "\n",
    "def loss_fn(params, Z, y):\n",
    "    \"\"\"\n",
    "        Computes the mean squared error loss function for the model.\n",
    "\n",
    "        Inputs:\n",
    "            params: the weights of the model\n",
    "            Z: the input feature matrix, as returned by prepare_inputs (size NxK)\n",
    "            y: actual observations (size N)\n",
    "        Output:\n",
    "            mse: mean squared error\n",
    "    \"\"\"\n",
    "    p = forward_fn(params, Z) # N\n",
    "\n",
    "    # Log Probability of each data point, given the model (shape N)\n",
    "    log_probability_of_data = y * jnp.log(p) + (1-y) * jnp.log(1-p)\n",
    "\n",
    "    # We want to maximize the log probability of the data under the model\n",
    "    # but gradient descent minimizes a loss\n",
    "    # So we want to minimize the negative log probability\n",
    "    loss = -jnp.mean(log_probability_of_data)\n",
    "    \n",
    "    return loss \n",
    "\n",
    "def optimize(rng, input_df, y, learning_rate, epochs, n_hidden):\n",
    "    \"\"\"\n",
    "        Input parameters:\n",
    "            rng: the random key\n",
    "            input_df: dataframe containing input columns\n",
    "            y: a vector of outputs that we wish to predict\n",
    "            learning_rate: how quickly we want gradient descent learning\n",
    "            epochs: the number of steps of gradient descent\n",
    "            n_hidden: the number of hidden units\n",
    "        Output:\n",
    "            params: fitted model parameters\n",
    "    \"\"\"\n",
    "\n",
    "    # To make this work, we need to convert y to jax\n",
    "    y = jnp.array(y)\n",
    "    \n",
    "    # the magic: the gradient function\n",
    "    # Creates a function that can calculate the  gradient of the model\n",
    "    grad_fn = jax.grad(loss_fn) \n",
    "    \n",
    "    # Prepare our inputs into the linear regression\n",
    "    Z = prepare_inputs(input_df) # NxK\n",
    "\n",
    "    #\n",
    "    # Initialize the parameters\n",
    "    #\n",
    "    params = {} # initialize an empty dictionary\n",
    "    # weights from inputs to hidden neurons (dxH)\n",
    "    n_inputs = Z.shape[1]\n",
    "    params['W_input_hidden'] = jax.random.normal(rng, (n_inputs, n_hidden)) / jnp.sqrt(n_inputs)\n",
    "    rng, _ = jax.random.split(rng)  # move to the next random key\n",
    "    \n",
    "    # bias of the hidden neurons is initialized to zero\n",
    "    params['b_hidden'] = jnp.zeros(n_hidden)\n",
    "    \n",
    "    # weights from the hidden neurons to the output neuron (shape is H)\n",
    "    params['W_hidden_output'] = jax.random.normal(rng, (n_hidden,)) / jnp.sqrt(n_hidden)\n",
    "    rng, _ = jax.random.split(rng) # move to next random key\n",
    "    \n",
    "    # finally, initialize the bias of the output neuron \n",
    "    params['b_output'] = 0.0\n",
    "    \n",
    "    # Run gradient descent loop\n",
    "    for i in range(epochs):\n",
    "\n",
    "        # Compute the gradient of the loss function with respect\n",
    "        # to all model parameters\n",
    "        W_grad = grad_fn(params, Z, y)\n",
    "        \n",
    "        # Update the parameters\n",
    "        for key in params:\n",
    "            params[key] = params[key] - W_grad[key] * learning_rate\n",
    "\n",
    "    # params is the fitted parameter values\n",
    "    return params\n",
    "\n",
    "def mlp_train_test_function(rng,\n",
    "                            train_df, \n",
    "                            test_df, \n",
    "                            input_cols, \n",
    "                            output_col,\n",
    "                            n_hidden):\n",
    "\n",
    "    # build the training input data frame\n",
    "    train_input_df = train_df[input_cols]\n",
    "\n",
    "    # build the training outputs\n",
    "    y = train_df[output_col].to_numpy()\n",
    "    \n",
    "    # Optimize the model using gradient descent\n",
    "    best_params = optimize(rng = rng,\n",
    "                           input_df = train_input_df,\n",
    "                           y = y,\n",
    "                           learning_rate = 0.1,\n",
    "                           epochs = 100,\n",
    "                           n_hidden = n_hidden)\n",
    "\n",
    "    # build the testing input data frame\n",
    "    test_input_df = test_df[input_cols]\n",
    "\n",
    "    # Make predictions on the test set\n",
    "    yhat = predict(params = best_params, input_df = test_input_df)\n",
    "    \n",
    "    # Calculate error of those predictions\n",
    "    ytest = test_df[output_col].to_numpy()\n",
    "    \n",
    "    return sklearn.metrics.accuracy_score(ytest, yhat > 0.5)\n",
    "# load the example 'hard' dataset\n",
    "df = pd.read_csv(\"../data/nonseparable_binary_data.csv\")\n",
    "# initialize random number generator\n",
    "rng = jax.random.key(5635636)\n",
    "# compute accuracy on the training set, using an MLP with 2 hidden units\n",
    "accuracy = mlp_train_test_function(rng,\n",
    "                                   train_df = df,\n",
    "                                   test_df = df,\n",
    "                                   input_cols = ['x1','x2'],\n",
    "                                   output_col = 'y',\n",
    "                                   n_hidden=20)\n",
    "accuracy"
   ]
  },
  {
   "cell_type": "markdown",
   "id": "60ac8ac9-c481-4626-b2b5-b94dfe8ab832",
   "metadata": {},
   "source": [
    "# Evaluation Metrics"
   ]
  },
  {
   "cell_type": "code",
   "execution_count": 118,
   "id": "9da731cd-5d72-43aa-9e4f-784cccf8f827",
   "metadata": {},
   "outputs": [],
   "source": [
    "# Let's define a toy dataset\n",
    "# where we have some actual observations and corresponding predictions\n",
    "y_actual = np.array([0, 1, 1, 0, 1, 1, 0, 1, 1, 1, 0, 1, 1, 0])\n",
    "y_pred = np.array([0.06, 0.92, 0.86, 0.03, 0.4, 0.7, \n",
    "                   0.23, 0.4, .2, 0.8, 0.9, 0.65, 0.75, 0.4])\n"
   ]
  },
  {
   "cell_type": "code",
   "execution_count": 119,
   "id": "1bcdd71d-db6f-47aa-ad46-61eb171fb0bd",
   "metadata": {},
   "outputs": [
    {
     "data": {
      "text/plain": [
       "0.7142857142857143"
      ]
     },
     "execution_count": 119,
     "metadata": {},
     "output_type": "execute_result"
    }
   ],
   "source": [
    "# Now we want to see the metrics that require hard decisions\n",
    "y_pred_hard = y_pred > 0.5\n",
    "\n",
    "sklearn.metrics.accuracy_score(y_actual, y_pred_hard)"
   ]
  },
  {
   "cell_type": "code",
   "execution_count": 120,
   "id": "5580e6ad-c3d9-41f7-b519-77ab49fa73d7",
   "metadata": {},
   "outputs": [
    {
     "data": {
      "text/plain": [
       "array([1, 1, 1, 1, 1, 1, 1, 1, 1, 1, 1, 1, 1, 1])"
      ]
     },
     "execution_count": 120,
     "metadata": {},
     "output_type": "execute_result"
    }
   ],
   "source": [
    "np.ones_like(y_actual)"
   ]
  },
  {
   "cell_type": "code",
   "execution_count": 121,
   "id": "e4f3fc65-2713-4f66-a246-fccb5a967302",
   "metadata": {},
   "outputs": [
    {
     "data": {
      "text/plain": [
       "0.6428571428571429"
      ]
     },
     "execution_count": 121,
     "metadata": {},
     "output_type": "execute_result"
    }
   ],
   "source": [
    "# Let's also define our null model. \n",
    "# This will be a model that always predicts the proportion of positives on the dataset\n",
    "y_pred_null = np.ones_like(y_actual) * np.mean(y_actual)\n",
    "y_pred_null_hard = y_pred_null > 0.5\n",
    "\n",
    "sklearn.metrics.accuracy_score(y_actual, y_pred_null_hard)"
   ]
  },
  {
   "cell_type": "code",
   "execution_count": 122,
   "id": "10dd7030-a953-4718-b595-20e657a94dd9",
   "metadata": {},
   "outputs": [
    {
     "data": {
      "text/plain": [
       "0.7333333333333334"
      ]
     },
     "execution_count": 122,
     "metadata": {},
     "output_type": "execute_result"
    }
   ],
   "source": [
    "sklearn.metrics.balanced_accuracy_score(y_actual, y_pred_hard)"
   ]
  },
  {
   "cell_type": "code",
   "execution_count": 123,
   "id": "758619f5-be6c-4c8e-afc1-a68f06185d5b",
   "metadata": {},
   "outputs": [
    {
     "data": {
      "text/plain": [
       "0.5"
      ]
     },
     "execution_count": 123,
     "metadata": {},
     "output_type": "execute_result"
    }
   ],
   "source": [
    "sklearn.metrics.balanced_accuracy_score(y_actual, y_pred_null_hard)"
   ]
  },
  {
   "cell_type": "code",
   "execution_count": 124,
   "id": "953a25b6-2caf-43b8-9680-a1858c57e712",
   "metadata": {},
   "outputs": [
    {
     "data": {
      "text/plain": [
       "0.6666666666666666"
      ]
     },
     "execution_count": 124,
     "metadata": {},
     "output_type": "execute_result"
    }
   ],
   "source": [
    "sklearn.metrics.recall_score(y_actual, y_pred_hard)"
   ]
  },
  {
   "cell_type": "code",
   "execution_count": 125,
   "id": "3e6fb315-1fa5-4911-a305-2d09627da240",
   "metadata": {},
   "outputs": [
    {
     "data": {
      "text/plain": [
       "1.0"
      ]
     },
     "execution_count": 125,
     "metadata": {},
     "output_type": "execute_result"
    }
   ],
   "source": [
    "sklearn.metrics.recall_score(y_actual, y_pred_null_hard)"
   ]
  },
  {
   "cell_type": "code",
   "execution_count": 126,
   "id": "0e0fa019-fcea-4be8-851b-8f769ed4941f",
   "metadata": {},
   "outputs": [
    {
     "data": {
      "text/plain": [
       "0.8571428571428571"
      ]
     },
     "execution_count": 126,
     "metadata": {},
     "output_type": "execute_result"
    }
   ],
   "source": [
    "sklearn.metrics.precision_score(y_actual, y_pred_hard)"
   ]
  },
  {
   "cell_type": "code",
   "execution_count": 127,
   "id": "8f137c27-c307-4d04-ae2b-bc72dc86909e",
   "metadata": {},
   "outputs": [
    {
     "data": {
      "text/plain": [
       "0.6428571428571429"
      ]
     },
     "execution_count": 127,
     "metadata": {},
     "output_type": "execute_result"
    }
   ],
   "source": [
    "sklearn.metrics.precision_score(y_actual, y_pred_null_hard)"
   ]
  },
  {
   "cell_type": "code",
   "execution_count": 128,
   "id": "4f812f1e-e2f8-4435-9310-e59169155d04",
   "metadata": {},
   "outputs": [
    {
     "data": {
      "text/plain": [
       "0.75"
      ]
     },
     "execution_count": 128,
     "metadata": {},
     "output_type": "execute_result"
    }
   ],
   "source": [
    "sklearn.metrics.f1_score(y_actual, y_pred_hard)"
   ]
  },
  {
   "cell_type": "code",
   "execution_count": 129,
   "id": "93453e51-31ab-4171-bc89-1ba1360d84c5",
   "metadata": {},
   "outputs": [
    {
     "data": {
      "text/plain": [
       "0.782608695652174"
      ]
     },
     "execution_count": 129,
     "metadata": {},
     "output_type": "execute_result"
    }
   ],
   "source": [
    "sklearn.metrics.f1_score(y_actual, y_pred_null_hard)"
   ]
  },
  {
   "cell_type": "code",
   "execution_count": 130,
   "id": "4c1d30a9-efdd-49c6-8c05-0812e8b18e47",
   "metadata": {},
   "outputs": [
    {
     "data": {
      "text/plain": [
       "0.7555555555555555"
      ]
     },
     "execution_count": 130,
     "metadata": {},
     "output_type": "execute_result"
    }
   ],
   "source": [
    "# Let's look at the metrics that are based on soft predictions\n",
    "\n",
    "sklearn.metrics.roc_auc_score(y_actual, y_pred) # Not the hard predictions"
   ]
  },
  {
   "cell_type": "code",
   "execution_count": 131,
   "id": "10df573f-23dd-4db3-94bc-78c2638f40e7",
   "metadata": {},
   "outputs": [
    {
     "data": {
      "text/plain": [
       "0.5"
      ]
     },
     "execution_count": 131,
     "metadata": {},
     "output_type": "execute_result"
    }
   ],
   "source": [
    "sklearn.metrics.roc_auc_score(y_actual, y_pred_null) # Not the hard predictions"
   ]
  },
  {
   "cell_type": "code",
   "execution_count": 132,
   "id": "547fdb34-71f0-4320-b33a-de13a96a259d",
   "metadata": {},
   "outputs": [
    {
     "data": {
      "text/plain": [
       "0.8063492063492064"
      ]
     },
     "execution_count": 132,
     "metadata": {},
     "output_type": "execute_result"
    }
   ],
   "source": [
    "# AUC-PR\n",
    "sklearn.metrics.average_precision_score(y_actual, y_pred) # Not the hard predictions"
   ]
  },
  {
   "cell_type": "code",
   "execution_count": 133,
   "id": "d713789e-5b9e-4fd5-b1ab-8c59bba7b74d",
   "metadata": {},
   "outputs": [
    {
     "data": {
      "text/plain": [
       "0.6428571428571429"
      ]
     },
     "execution_count": 133,
     "metadata": {},
     "output_type": "execute_result"
    }
   ],
   "source": [
    "sklearn.metrics.average_precision_score(y_actual, y_pred_null) # Not the hard predictions"
   ]
  },
  {
   "cell_type": "markdown",
   "id": "597b7708-82e7-410d-a52d-4387b8196ecd",
   "metadata": {},
   "source": [
    "# Let's try to do CV on our model"
   ]
  },
  {
   "cell_type": "code",
   "execution_count": 138,
   "id": "1ddf3215-6557-4dda-885b-d811a0995c0e",
   "metadata": {},
   "outputs": [
    {
     "data": {
      "text/plain": [
       "accuracy         0.912842\n",
       "accuracy_null    0.605956\n",
       "auc_roc          0.958677\n",
       "auc_pr           0.934843\n",
       "auc_pr_null      0.394044\n",
       "dtype: float64"
      ]
     },
     "execution_count": 138,
     "metadata": {},
     "output_type": "execute_result"
    }
   ],
   "source": [
    "def cv(df, train_test_fn, folds, random_state):\n",
    "    \"\"\"\n",
    "        Cross-validation: splits dataset into N folds, repeatedly trains on N-1 folds and test on the remaining.\n",
    "\n",
    "        Inputs:\n",
    "            df: dataframe of inputs and outputs\n",
    "            train_test_fn: the training and testing function used\n",
    "            folds: number of folds\n",
    "            random_state: pseudo random number generator state\n",
    "        Output:\n",
    "            metrics: loss on each split (size N)\n",
    "    \n",
    "    \"\"\"\n",
    "    # instantiate the splitter\n",
    "    kf = sklearn.model_selection.KFold(n_splits=folds, \n",
    "                                       shuffle=True, \n",
    "                                       random_state=random_state)\n",
    "    \n",
    "    metrics = []\n",
    "    for train_index, test_index in kf.split(df):\n",
    "        train_df = df.iloc[train_index]\n",
    "        test_df = df.iloc[test_index]\n",
    "        \n",
    "        # evaluate\n",
    "        metric = train_test_fn(train_df, test_df)\n",
    "        metrics.append(metric)\n",
    "    \n",
    "    return metrics \n",
    "\n",
    "def mlp_train_test_function(rng,\n",
    "                            train_df, \n",
    "                            test_df, \n",
    "                            input_cols, \n",
    "                            output_col,\n",
    "                            n_hidden):\n",
    "\n",
    "    # build the training input data frame\n",
    "    train_input_df = train_df[input_cols]\n",
    "\n",
    "    # build the training outputs\n",
    "    y = train_df[output_col].to_numpy()\n",
    "    \n",
    "    # Optimize the model using gradient descent\n",
    "    best_params = optimize(rng = rng,\n",
    "                           input_df = train_input_df,\n",
    "                           y = y,\n",
    "                           learning_rate = 0.1,\n",
    "                           epochs = 100,\n",
    "                           n_hidden = n_hidden)\n",
    "\n",
    "    # build the testing input data frame\n",
    "    test_input_df = test_df[input_cols]\n",
    "\n",
    "    # Make predictions on the test set\n",
    "    yhat = predict(params = best_params, input_df = test_input_df)\n",
    "    \n",
    "    # Calculate error of those predictions\n",
    "    ytest = test_df[output_col].to_numpy()\n",
    "\n",
    "    # We will return multiple metrics\n",
    "    yhat_hard = yhat > 0.5\n",
    "\n",
    "    # this is our null model, and it is based only on the training set\n",
    "    yhat_null = jnp.mean(y) * jnp.ones_like(ytest)\n",
    "    yhat_hard_null = yhat_null > 0.5\n",
    "    \n",
    "    return dict(\n",
    "        accuracy = sklearn.metrics.accuracy_score(ytest, yhat_hard),\n",
    "        accuracy_null = sklearn.metrics.accuracy_score(ytest, yhat_hard_null),\n",
    "        auc_roc = sklearn.metrics.roc_auc_score(ytest, yhat), # soft decision\n",
    "        auc_pr = sklearn.metrics.average_precision_score(ytest, yhat),\n",
    "        auc_pr_null = sklearn.metrics.average_precision_score(ytest, yhat_null)\n",
    "    )\n",
    "\n",
    "df = pd.read_csv(\"../data/nonseparable_binary_data.csv\")\n",
    "\n",
    "# get the metrics on the training set ... just to make sure that the function\n",
    "# works\n",
    "metrics = mlp_train_test_function(rng,\n",
    "                                  train_df = df,\n",
    "                                  test_df = df,\n",
    "                                  input_cols = ['x1','x2'],\n",
    "                                  output_col = 'y',\n",
    "                                  n_hidden=10)\n",
    "\n",
    "def factory(rng, input_cols, output_col, n_hidden):\n",
    "\n",
    "    def train_test_fn(train_df, test_df):\n",
    "\n",
    "        return mlp_train_test_function(rng,\n",
    "                                  train_df = train_df,\n",
    "                                  test_df = test_df,\n",
    "                                  input_cols = input_cols,\n",
    "                                  output_col = output_col,\n",
    "                                  n_hidden=n_hidden)\n",
    "\n",
    "    return train_test_fn\n",
    "\n",
    "# Load the spambase dataset\n",
    "df = pd.read_csv(\"../data/spambase.csv\")\n",
    "\n",
    "# grab all column names, except the last one\n",
    "input_cols = df.columns[:-1]\n",
    "\n",
    "# grab the output column name\n",
    "output_col = df.columns[-1]\n",
    "\n",
    "rng = jax.random.key(4234)\n",
    "train_test_fn = factory(rng,\n",
    "                        input_cols = input_cols,\n",
    "                        output_col = output_col,\n",
    "                        n_hidden = 2)\n",
    "results = cv(df = df,\n",
    "             train_test_fn = train_test_fn,\n",
    "             folds = 5,\n",
    "             random_state = 234234)\n",
    "results_df = pd.DataFrame(results)\n",
    "np.mean(results_df, axis=0)"
   ]
  },
  {
   "cell_type": "code",
   "execution_count": 105,
   "id": "314ff87a-6831-4f33-ac21-c6b0737c6440",
   "metadata": {},
   "outputs": [
    {
     "data": {
      "text/plain": [
       "['a', 'b', 'c']"
      ]
     },
     "execution_count": 105,
     "metadata": {},
     "output_type": "execute_result"
    }
   ],
   "source": [
    "a = ['a','b','c','d','e']\n",
    "a[:-2]"
   ]
  },
  {
   "cell_type": "code",
   "execution_count": null,
   "id": "b342da9b-a164-49b8-b369-f5ea91b2ec07",
   "metadata": {},
   "outputs": [],
   "source": []
  }
 ],
 "metadata": {
  "kernelspec": {
   "display_name": "Python 3 (ipykernel)",
   "language": "python",
   "name": "python3"
  },
  "language_info": {
   "codemirror_mode": {
    "name": "ipython",
    "version": 3
   },
   "file_extension": ".py",
   "mimetype": "text/x-python",
   "name": "python",
   "nbconvert_exporter": "python",
   "pygments_lexer": "ipython3",
   "version": "3.12.10"
  }
 },
 "nbformat": 4,
 "nbformat_minor": 5
}
