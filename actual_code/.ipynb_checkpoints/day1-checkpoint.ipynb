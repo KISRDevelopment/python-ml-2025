{
 "cells": [
  {
   "cell_type": "code",
   "execution_count": 1,
   "id": "5dec5238-9aef-44ea-8997-04c9f6880d35",
   "metadata": {},
   "outputs": [
    {
     "data": {
      "text/plain": [
       "[1, 1.5, 5]"
      ]
     },
     "execution_count": 1,
     "metadata": {},
     "output_type": "execute_result"
    }
   ],
   "source": [
    "a = [1, 1.5, 5]\n",
    "a"
   ]
  },
  {
   "cell_type": "code",
   "execution_count": 2,
   "id": "b909c9db-4f51-4331-b1aa-2651a772b1f1",
   "metadata": {},
   "outputs": [
    {
     "data": {
      "text/plain": [
       "1"
      ]
     },
     "execution_count": 2,
     "metadata": {},
     "output_type": "execute_result"
    }
   ],
   "source": [
    "a[0]"
   ]
  },
  {
   "cell_type": "code",
   "execution_count": 3,
   "id": "315bda31-e8cc-4bf3-9478-bedd2ae303d5",
   "metadata": {},
   "outputs": [
    {
     "data": {
      "text/plain": [
       "1.5"
      ]
     },
     "execution_count": 3,
     "metadata": {},
     "output_type": "execute_result"
    }
   ],
   "source": [
    "a[1]"
   ]
  },
  {
   "cell_type": "code",
   "execution_count": 4,
   "id": "186298af-dfd4-4aaa-b26d-e4c07ac3b8a8",
   "metadata": {},
   "outputs": [
    {
     "data": {
      "text/plain": [
       "5"
      ]
     },
     "execution_count": 4,
     "metadata": {},
     "output_type": "execute_result"
    }
   ],
   "source": [
    "a[2]"
   ]
  },
  {
   "cell_type": "code",
   "execution_count": 5,
   "id": "2339975a-8dad-4edb-bcd4-ba79a2d880b1",
   "metadata": {},
   "outputs": [
    {
     "data": {
      "text/plain": [
       "[1, 1.5, 5, 1, 1.5, 5]"
      ]
     },
     "execution_count": 5,
     "metadata": {},
     "output_type": "execute_result"
    }
   ],
   "source": [
    "a + a"
   ]
  },
  {
   "cell_type": "code",
   "execution_count": 6,
   "id": "3c4466b9-a04f-47d4-8b8a-e100e1d60d48",
   "metadata": {},
   "outputs": [],
   "source": [
    "import numpy as np"
   ]
  },
  {
   "cell_type": "code",
   "execution_count": 7,
   "id": "73c52e39-e1c9-42b4-a31f-3d9e18374bba",
   "metadata": {},
   "outputs": [
    {
     "data": {
      "text/plain": [
       "array([1. , 1.5, 2. ])"
      ]
     },
     "execution_count": 7,
     "metadata": {},
     "output_type": "execute_result"
    }
   ],
   "source": [
    "a = np.array([1, 1.5, 2])\n",
    "a"
   ]
  },
  {
   "cell_type": "code",
   "execution_count": 8,
   "id": "8c521842-3ef0-43c3-b493-bf5ff48b6ea8",
   "metadata": {},
   "outputs": [
    {
     "data": {
      "text/plain": [
       "array([2., 3., 4.])"
      ]
     },
     "execution_count": 8,
     "metadata": {},
     "output_type": "execute_result"
    }
   ],
   "source": [
    "a + a"
   ]
  },
  {
   "cell_type": "code",
   "execution_count": 9,
   "id": "d2a9da0d-3e96-4a90-83d8-6690bf4dce9c",
   "metadata": {},
   "outputs": [
    {
     "data": {
      "text/plain": [
       "(3,)"
      ]
     },
     "execution_count": 9,
     "metadata": {},
     "output_type": "execute_result"
    }
   ],
   "source": [
    "a.shape"
   ]
  },
  {
   "cell_type": "code",
   "execution_count": 10,
   "id": "15960e35-1f1d-4cc5-bbd4-16e354b9318b",
   "metadata": {},
   "outputs": [
    {
     "data": {
      "text/plain": [
       "array([2. , 2.5, 3. ])"
      ]
     },
     "execution_count": 10,
     "metadata": {},
     "output_type": "execute_result"
    }
   ],
   "source": [
    "a + 1"
   ]
  },
  {
   "cell_type": "code",
   "execution_count": 11,
   "id": "3b743db3-fe4e-445f-978e-a2e41ef92cbd",
   "metadata": {},
   "outputs": [
    {
     "data": {
      "text/plain": [
       "array([1.  , 2.25, 4.  ])"
      ]
     },
     "execution_count": 11,
     "metadata": {},
     "output_type": "execute_result"
    }
   ],
   "source": [
    "a * a"
   ]
  },
  {
   "cell_type": "code",
   "execution_count": 12,
   "id": "50d37f08-62c3-45ba-88cc-bb2912abf15b",
   "metadata": {},
   "outputs": [
    {
     "data": {
      "text/plain": [
       "np.float64(7.25)"
      ]
     },
     "execution_count": 12,
     "metadata": {},
     "output_type": "execute_result"
    }
   ],
   "source": [
    "a @ a"
   ]
  },
  {
   "cell_type": "code",
   "execution_count": 13,
   "id": "83926b3c-04db-4250-8675-3444821924c8",
   "metadata": {},
   "outputs": [
    {
     "data": {
      "text/plain": [
       "np.float64(7.25)"
      ]
     },
     "execution_count": 13,
     "metadata": {},
     "output_type": "execute_result"
    }
   ],
   "source": [
    "a[0] * a[0] + a[1] * a[1] + a[2] * a[2]"
   ]
  },
  {
   "cell_type": "code",
   "execution_count": 14,
   "id": "52c48da2-c2aa-4e38-9550-0b06de681eea",
   "metadata": {},
   "outputs": [
    {
     "data": {
      "text/plain": [
       "array([0, 2, 4])"
      ]
     },
     "execution_count": 14,
     "metadata": {},
     "output_type": "execute_result"
    }
   ],
   "source": [
    "np.arange(start = 0, stop = 5, step = 2)"
   ]
  },
  {
   "cell_type": "code",
   "execution_count": 15,
   "id": "8f144ba5-1a92-4e0b-a6f1-4b769a5caed1",
   "metadata": {},
   "outputs": [
    {
     "data": {
      "text/plain": [
       "array([0.        , 0.11111111, 0.22222222, 0.33333333, 0.44444444,\n",
       "       0.55555556, 0.66666667, 0.77777778, 0.88888889, 1.        ])"
      ]
     },
     "execution_count": 15,
     "metadata": {},
     "output_type": "execute_result"
    }
   ],
   "source": [
    "np.linspace(start = 0, stop = 1,num=10)"
   ]
  },
  {
   "cell_type": "code",
   "execution_count": 16,
   "id": "4a23c2d0-ae72-4a79-b254-accfc522adc5",
   "metadata": {},
   "outputs": [
    {
     "data": {
      "text/plain": [
       "np.float64(1.0)"
      ]
     },
     "execution_count": 16,
     "metadata": {},
     "output_type": "execute_result"
    }
   ],
   "source": [
    "a[0]"
   ]
  },
  {
   "cell_type": "code",
   "execution_count": 17,
   "id": "057384f2-b56c-4dfa-9c74-13b73ff35cf7",
   "metadata": {},
   "outputs": [
    {
     "data": {
      "text/plain": [
       "np.float64(1.5)"
      ]
     },
     "execution_count": 17,
     "metadata": {},
     "output_type": "execute_result"
    }
   ],
   "source": [
    "a[1]"
   ]
  },
  {
   "cell_type": "code",
   "execution_count": 18,
   "id": "e85860a2-ca6e-422c-8d1a-793cc962850c",
   "metadata": {},
   "outputs": [
    {
     "data": {
      "text/plain": [
       "np.float64(2.0)"
      ]
     },
     "execution_count": 18,
     "metadata": {},
     "output_type": "execute_result"
    }
   ],
   "source": [
    "a[2]"
   ]
  },
  {
   "cell_type": "code",
   "execution_count": 19,
   "id": "f95dde96-2a33-4cb7-904b-f6fc40c2dfc2",
   "metadata": {},
   "outputs": [],
   "source": [
    "a[2] = 100"
   ]
  },
  {
   "cell_type": "code",
   "execution_count": 20,
   "id": "ad5adaec-fd34-4d5c-a198-e613e34f608c",
   "metadata": {},
   "outputs": [
    {
     "data": {
      "text/plain": [
       "array([  1. ,   1.5, 100. ])"
      ]
     },
     "execution_count": 20,
     "metadata": {},
     "output_type": "execute_result"
    }
   ],
   "source": [
    "a"
   ]
  },
  {
   "cell_type": "code",
   "execution_count": 21,
   "id": "a0af9e9e-d2dd-483e-aa7f-08da07272344",
   "metadata": {},
   "outputs": [
    {
     "data": {
      "text/plain": [
       "array([3, 4, 5, 6, 7, 8, 9])"
      ]
     },
     "execution_count": 21,
     "metadata": {},
     "output_type": "execute_result"
    }
   ],
   "source": [
    "a = np.array([3, 4, 5, 6, 7, 8, 9])\n",
    "a"
   ]
  },
  {
   "cell_type": "code",
   "execution_count": 22,
   "id": "03ddb9d2-38fa-42bd-b5ef-369360d7d25d",
   "metadata": {},
   "outputs": [
    {
     "data": {
      "text/plain": [
       "array([4, 5, 6])"
      ]
     },
     "execution_count": 22,
     "metadata": {},
     "output_type": "execute_result"
    }
   ],
   "source": [
    "a[1:4]"
   ]
  },
  {
   "cell_type": "code",
   "execution_count": 23,
   "id": "dbf0905f-34f4-4bb2-93b9-febd127c9c17",
   "metadata": {},
   "outputs": [
    {
     "data": {
      "text/plain": [
       "array([3, 6, 8])"
      ]
     },
     "execution_count": 23,
     "metadata": {},
     "output_type": "execute_result"
    }
   ],
   "source": [
    "a[ [0, 3, 5] ]"
   ]
  },
  {
   "cell_type": "code",
   "execution_count": 24,
   "id": "221ee723-caa0-413b-9075-66db9a0a509e",
   "metadata": {},
   "outputs": [
    {
     "data": {
      "text/plain": [
       "array([3, 5, 5, 5, 7, 8, 9])"
      ]
     },
     "execution_count": 24,
     "metadata": {},
     "output_type": "execute_result"
    }
   ],
   "source": [
    "a[1:4] = 5\n",
    "a"
   ]
  },
  {
   "cell_type": "code",
   "execution_count": 25,
   "id": "4dc55850-818d-444f-8233-6294342cb58c",
   "metadata": {},
   "outputs": [],
   "source": [
    "a[1:4] = [0, 1, 2]"
   ]
  },
  {
   "cell_type": "code",
   "execution_count": 26,
   "id": "9a87311d-982a-45c1-8a64-7a182b4e2998",
   "metadata": {},
   "outputs": [
    {
     "data": {
      "text/plain": [
       "array([3, 0, 1, 2, 7, 8, 9])"
      ]
     },
     "execution_count": 26,
     "metadata": {},
     "output_type": "execute_result"
    }
   ],
   "source": [
    "a"
   ]
  },
  {
   "cell_type": "code",
   "execution_count": 27,
   "id": "1dd1f31c-badd-423c-9a64-52417dba4ac9",
   "metadata": {},
   "outputs": [
    {
     "data": {
      "text/plain": [
       "array([ True,  True,  True,  True, False, False, False])"
      ]
     },
     "execution_count": 27,
     "metadata": {},
     "output_type": "execute_result"
    }
   ],
   "source": [
    "a < 6"
   ]
  },
  {
   "cell_type": "code",
   "execution_count": 28,
   "id": "0d4bbfb6-503b-4826-a794-761b0c5d33c1",
   "metadata": {},
   "outputs": [
    {
     "data": {
      "text/plain": [
       "array([3, 0, 1, 2])"
      ]
     },
     "execution_count": 28,
     "metadata": {},
     "output_type": "execute_result"
    }
   ],
   "source": [
    "a[ a < 6 ]"
   ]
  },
  {
   "cell_type": "code",
   "execution_count": 29,
   "id": "b7a36f5e-e6a1-49df-8bff-96df79decdd0",
   "metadata": {},
   "outputs": [
    {
     "data": {
      "text/plain": [
       "np.int64(42)"
      ]
     },
     "execution_count": 29,
     "metadata": {},
     "output_type": "execute_result"
    }
   ],
   "source": [
    "a = np.array([3, 4, 5, 6, 7, 8, 9])\n",
    "np.sum(a)"
   ]
  },
  {
   "cell_type": "code",
   "execution_count": 30,
   "id": "db2e4f25-57b1-4db6-97dc-24deb03b2ad4",
   "metadata": {},
   "outputs": [
    {
     "data": {
      "text/plain": [
       "np.float64(6.0)"
      ]
     },
     "execution_count": 30,
     "metadata": {},
     "output_type": "execute_result"
    }
   ],
   "source": [
    "np.mean(a)"
   ]
  },
  {
   "cell_type": "code",
   "execution_count": 31,
   "id": "4da07f8f-246b-40d1-8ba6-ae5a98c2ec36",
   "metadata": {},
   "outputs": [
    {
     "data": {
      "text/plain": [
       "np.float64(6.0)"
      ]
     },
     "execution_count": 31,
     "metadata": {},
     "output_type": "execute_result"
    }
   ],
   "source": [
    "np.median(a)"
   ]
  },
  {
   "cell_type": "code",
   "execution_count": 32,
   "id": "e10b90d9-2ac3-4c54-a63a-2f5c88d306fc",
   "metadata": {},
   "outputs": [
    {
     "data": {
      "text/plain": [
       "np.float64(2.0)"
      ]
     },
     "execution_count": 32,
     "metadata": {},
     "output_type": "execute_result"
    }
   ],
   "source": [
    "np.std(a)"
   ]
  },
  {
   "cell_type": "code",
   "execution_count": 33,
   "id": "23fe86c4-e898-4f30-88f3-b910e905a91b",
   "metadata": {},
   "outputs": [
    {
     "data": {
      "text/plain": [
       "np.int64(3)"
      ]
     },
     "execution_count": 33,
     "metadata": {},
     "output_type": "execute_result"
    }
   ],
   "source": [
    "np.min(a)"
   ]
  },
  {
   "cell_type": "code",
   "execution_count": 34,
   "id": "229ec3a4-7962-48f9-8101-c9fb8b82624a",
   "metadata": {},
   "outputs": [
    {
     "data": {
      "text/plain": [
       "np.int64(9)"
      ]
     },
     "execution_count": 34,
     "metadata": {},
     "output_type": "execute_result"
    }
   ],
   "source": [
    "np.max(a)"
   ]
  },
  {
   "cell_type": "code",
   "execution_count": 35,
   "id": "23bbafb4-a5ac-4b47-be0f-2aed0cedbc84",
   "metadata": {},
   "outputs": [
    {
     "data": {
      "text/plain": [
       "np.int64(6)"
      ]
     },
     "execution_count": 35,
     "metadata": {},
     "output_type": "execute_result"
    }
   ],
   "source": [
    "np.argmax(a)"
   ]
  },
  {
   "cell_type": "code",
   "execution_count": 36,
   "id": "b51ca715-6e0f-49c4-9e95-80e45b252ecf",
   "metadata": {},
   "outputs": [
    {
     "data": {
      "text/plain": [
       "np.int64(9)"
      ]
     },
     "execution_count": 36,
     "metadata": {},
     "output_type": "execute_result"
    }
   ],
   "source": [
    "a[6]"
   ]
  },
  {
   "cell_type": "markdown",
   "id": "10259086-a8c7-4d06-bdb3-b6fcf1d5936b",
   "metadata": {},
   "source": [
    "# Multidimensional Arrays\n",
    "\n",
    "The following series of examples demonstrate how to deal with multidimensional arrays."
   ]
  },
  {
   "cell_type": "code",
   "execution_count": 37,
   "id": "c624d24c-4499-4e4a-b338-41eedb31565c",
   "metadata": {},
   "outputs": [
    {
     "data": {
      "text/plain": [
       "array([[ 1,  2,  3],\n",
       "       [ 4,  5,  6],\n",
       "       [ 7,  8,  9],\n",
       "       [10, 11, 12]])"
      ]
     },
     "execution_count": 37,
     "metadata": {},
     "output_type": "execute_result"
    }
   ],
   "source": [
    "a = [\n",
    "    [1, 2, 3],\n",
    "    [4, 5, 6],\n",
    "    [7, 8, 9],\n",
    "    [10, 11, 12]\n",
    "]\n",
    "a = np.array(a)\n",
    "a"
   ]
  },
  {
   "cell_type": "code",
   "execution_count": 38,
   "id": "84e1483b-c758-47f6-b515-3b77abf57187",
   "metadata": {},
   "outputs": [
    {
     "data": {
      "text/plain": [
       "(4, 3)"
      ]
     },
     "execution_count": 38,
     "metadata": {},
     "output_type": "execute_result"
    }
   ],
   "source": [
    "a.shape"
   ]
  },
  {
   "cell_type": "code",
   "execution_count": 39,
   "id": "4da943f2-1cec-46cd-9b34-004e78582c9e",
   "metadata": {},
   "outputs": [
    {
     "data": {
      "text/plain": [
       "4"
      ]
     },
     "execution_count": 39,
     "metadata": {},
     "output_type": "execute_result"
    }
   ],
   "source": [
    "a.shape[0]"
   ]
  },
  {
   "cell_type": "code",
   "execution_count": 40,
   "id": "7d3931d6-1b7f-4f66-b199-8317b4826564",
   "metadata": {},
   "outputs": [
    {
     "data": {
      "text/plain": [
       "3"
      ]
     },
     "execution_count": 40,
     "metadata": {},
     "output_type": "execute_result"
    }
   ],
   "source": [
    "a.shape[1]"
   ]
  },
  {
   "cell_type": "code",
   "execution_count": 41,
   "id": "802df44e-b70b-4a69-9cc1-c56c89d64655",
   "metadata": {},
   "outputs": [
    {
     "data": {
      "text/plain": [
       "array([10, 11, 12])"
      ]
     },
     "execution_count": 41,
     "metadata": {},
     "output_type": "execute_result"
    }
   ],
   "source": [
    "a[3, :]"
   ]
  },
  {
   "cell_type": "code",
   "execution_count": 42,
   "id": "bcb4d13e-33df-429d-af15-95e11b613364",
   "metadata": {},
   "outputs": [
    {
     "data": {
      "text/plain": [
       "array([[4, 5, 6],\n",
       "       [7, 8, 9]])"
      ]
     },
     "execution_count": 42,
     "metadata": {},
     "output_type": "execute_result"
    }
   ],
   "source": [
    "a[ 1:3, : ]"
   ]
  },
  {
   "cell_type": "code",
   "execution_count": 43,
   "id": "dea8d863-546c-4a71-83ee-ae93f6363dba",
   "metadata": {},
   "outputs": [
    {
     "data": {
      "text/plain": [
       "array([[1, 2, 3],\n",
       "       [4, 5, 6]])"
      ]
     },
     "execution_count": 43,
     "metadata": {},
     "output_type": "execute_result"
    }
   ],
   "source": [
    "z = a[[0, 1], :]\n",
    "z"
   ]
  },
  {
   "cell_type": "code",
   "execution_count": 44,
   "id": "2f50ed0f-5541-4c68-b4c7-582a56a72180",
   "metadata": {},
   "outputs": [
    {
     "data": {
      "text/plain": [
       "array([[1, 2],\n",
       "       [4, 5]])"
      ]
     },
     "execution_count": 44,
     "metadata": {},
     "output_type": "execute_result"
    }
   ],
   "source": [
    "z = z[:, [0, 1]]\n",
    "z"
   ]
  },
  {
   "cell_type": "markdown",
   "id": "242129bd-ee24-43d0-801c-c08fa4992c5a",
   "metadata": {},
   "source": [
    "# Broadcasting\n",
    "\n",
    "This is numpy's most powerful feature."
   ]
  },
  {
   "cell_type": "code",
   "execution_count": 45,
   "id": "b9cf843d-997a-4a16-b818-a631b0670ac0",
   "metadata": {},
   "outputs": [
    {
     "data": {
      "text/plain": [
       "array([[0, 1],\n",
       "       [3, 4],\n",
       "       [6, 7]])"
      ]
     },
     "execution_count": 45,
     "metadata": {},
     "output_type": "execute_result"
    }
   ],
   "source": [
    "m = np.array([ [0, 1], [3, 4], [6, 7] ])\n",
    "m"
   ]
  },
  {
   "cell_type": "code",
   "execution_count": 46,
   "id": "b95bc417-59c8-4f34-9195-2e891f22ef1f",
   "metadata": {},
   "outputs": [
    {
     "data": {
      "text/plain": [
       "array([ 1,  2, -1])"
      ]
     },
     "execution_count": 46,
     "metadata": {},
     "output_type": "execute_result"
    }
   ],
   "source": [
    "vec = np.array([1, 2, -1])\n",
    "vec"
   ]
  },
  {
   "cell_type": "code",
   "execution_count": null,
   "id": "f4ba1680-0b7a-48b9-8765-a850494b3f0b",
   "metadata": {},
   "outputs": [],
   "source": [
    "z = np.array([ [1, 2, -1], [1, 2, -1] ]).T\n",
    "z"
   ]
  },
  {
   "cell_type": "code",
   "execution_count": null,
   "id": "90daac34-b889-48ba-a9c7-dae4aeab210c",
   "metadata": {},
   "outputs": [],
   "source": [
    "m + z"
   ]
  },
  {
   "cell_type": "code",
   "execution_count": null,
   "id": "d9312347-9eed-4c77-9302-cc93e54dfd5d",
   "metadata": {},
   "outputs": [],
   "source": [
    "vec[None, :] # N -> 1xN"
   ]
  },
  {
   "cell_type": "code",
   "execution_count": null,
   "id": "20c0fbcf-1bc0-447a-910f-9a290eaf63cb",
   "metadata": {},
   "outputs": [],
   "source": [
    "vec[:, None] # N -> Nx1"
   ]
  },
  {
   "cell_type": "code",
   "execution_count": null,
   "id": "06ea4c15-cd4f-4b6e-a873-67ca3bb6a6f2",
   "metadata": {},
   "outputs": [],
   "source": [
    "m.shape"
   ]
  },
  {
   "cell_type": "code",
   "execution_count": null,
   "id": "56717d96-239c-4478-ab94-e3fccad2cdc4",
   "metadata": {},
   "outputs": [],
   "source": [
    "m + vec[:, None] # 3x2 + 3x1 = 3x2"
   ]
  },
  {
   "cell_type": "code",
   "execution_count": null,
   "id": "15a6253b-2fe2-4e70-8119-f92250501540",
   "metadata": {},
   "outputs": [],
   "source": [
    "m1 = np.array([ [0, 1], [3, 4], [6, 7] ])\n",
    "m2 = np.array([ [-1, 0, 20, 100], [0, 0, 10, 1] ])\n",
    "m1.shape"
   ]
  },
  {
   "cell_type": "code",
   "execution_count": null,
   "id": "f9a76353-a5a9-4ad0-b1d3-0e7eacc9ea3d",
   "metadata": {},
   "outputs": [],
   "source": [
    "m2.shape"
   ]
  },
  {
   "cell_type": "code",
   "execution_count": null,
   "id": "00dfc03d-7f49-4643-860a-29e3a985145c",
   "metadata": {},
   "outputs": [],
   "source": [
    "m1 @ m2"
   ]
  },
  {
   "cell_type": "markdown",
   "id": "89ab40b9-8978-453a-9832-7191da1a4a80",
   "metadata": {},
   "source": [
    "# Aggregations"
   ]
  },
  {
   "cell_type": "code",
   "execution_count": null,
   "id": "9589ec3a-103b-488b-b2cf-ac038b518fe4",
   "metadata": {},
   "outputs": [],
   "source": [
    "np.max(m1)"
   ]
  },
  {
   "cell_type": "code",
   "execution_count": null,
   "id": "487fb4ef-9bb9-42e0-b4fa-e5eeae72dbbe",
   "metadata": {},
   "outputs": [],
   "source": [
    "# maximum in each column\n",
    "np.max(m1, axis=0) # NxM => M"
   ]
  },
  {
   "cell_type": "code",
   "execution_count": null,
   "id": "43be38f0-b0e0-4885-811d-4e9a09565c75",
   "metadata": {},
   "outputs": [],
   "source": [
    "m1"
   ]
  },
  {
   "cell_type": "code",
   "execution_count": null,
   "id": "267c6d5e-3790-45fd-a879-3465b9a66c17",
   "metadata": {},
   "outputs": [],
   "source": [
    "np.max(m1, axis=1) # maximum in each row NxM => N"
   ]
  },
  {
   "cell_type": "markdown",
   "id": "8a717b89-cf3c-4c3a-887a-d749fa44224f",
   "metadata": {},
   "source": [
    "# Quick overview of Pandas "
   ]
  },
  {
   "cell_type": "code",
   "execution_count": null,
   "id": "915db13f-193e-4934-a05b-393af90ff707",
   "metadata": {},
   "outputs": [],
   "source": [
    "import pandas as pd"
   ]
  },
  {
   "cell_type": "code",
   "execution_count": null,
   "id": "5927e386-58df-48a7-a417-873cff8393a2",
   "metadata": {},
   "outputs": [],
   "source": [
    "mat = np.array([ [4, 0.5], [10, 0.75], [3, 0.3] ])\n",
    "mat"
   ]
  },
  {
   "cell_type": "code",
   "execution_count": null,
   "id": "fe54b9c6-efa4-4622-b679-886e60d1fa65",
   "metadata": {},
   "outputs": [],
   "source": [
    "df = pd.DataFrame(data = mat, columns=['stock', 'price_kd'])"
   ]
  },
  {
   "cell_type": "code",
   "execution_count": null,
   "id": "fb2eb1db-d75c-47ae-801f-f82fd754a9c0",
   "metadata": {},
   "outputs": [],
   "source": [
    "df.stock"
   ]
  },
  {
   "cell_type": "code",
   "execution_count": null,
   "id": "94cd423a-d8ef-4e55-93ff-c9fbcfadc031",
   "metadata": {},
   "outputs": [],
   "source": [
    "df.price_kd.mean()"
   ]
  },
  {
   "cell_type": "code",
   "execution_count": null,
   "id": "d97005ef-4fb9-4b99-aa25-dd053ad765eb",
   "metadata": {},
   "outputs": [],
   "source": [
    "df.iloc[1]"
   ]
  },
  {
   "cell_type": "code",
   "execution_count": null,
   "id": "8c37e90d-b4f1-4b89-99b4-b9ed1e22c51f",
   "metadata": {},
   "outputs": [],
   "source": [
    "df.iloc[1].price_kd"
   ]
  },
  {
   "cell_type": "code",
   "execution_count": null,
   "id": "9d339f32-3a2a-43b7-bfd8-34fd196e876b",
   "metadata": {},
   "outputs": [],
   "source": [
    "df.loc[0]"
   ]
  },
  {
   "cell_type": "code",
   "execution_count": null,
   "id": "b8e880c5-3982-47be-980b-6a70049a495a",
   "metadata": {},
   "outputs": [],
   "source": [
    "df"
   ]
  },
  {
   "cell_type": "code",
   "execution_count": null,
   "id": "eb544f69-0620-4e68-8b70-1585bf871fd9",
   "metadata": {},
   "outputs": [],
   "source": [
    "df2 = df.drop(1)\n",
    "df2"
   ]
  },
  {
   "cell_type": "code",
   "execution_count": null,
   "id": "c33527da-2dce-405c-8676-bb3802f21e31",
   "metadata": {},
   "outputs": [],
   "source": [
    "df2.iloc[1]"
   ]
  },
  {
   "cell_type": "code",
   "execution_count": null,
   "id": "965e9b52-c043-4d47-bc54-9f980f62868e",
   "metadata": {},
   "outputs": [],
   "source": [
    "df = pd.DataFrame(data = mat, \n",
    "                  columns=['stock', 'price_kd'],\n",
    "                  index=['a','b','c'])\n",
    "df"
   ]
  },
  {
   "cell_type": "code",
   "execution_count": null,
   "id": "66daa7cc-528b-4905-83c6-e3ab31bd1ca8",
   "metadata": {},
   "outputs": [],
   "source": [
    "df.loc['a']"
   ]
  },
  {
   "cell_type": "code",
   "execution_count": null,
   "id": "ccfeccff-7385-4156-a97e-d5fa5710797c",
   "metadata": {},
   "outputs": [],
   "source": [
    "df.iloc[0]"
   ]
  },
  {
   "cell_type": "code",
   "execution_count": null,
   "id": "db8185d4-87c6-4b6b-ad91-23f337c51587",
   "metadata": {},
   "outputs": [],
   "source": [
    "df.iloc[1]\n",
    "df.iloc[2]"
   ]
  },
  {
   "cell_type": "code",
   "execution_count": null,
   "id": "310a22d7-c2a2-4ea6-a5bf-3adf0494a78d",
   "metadata": {},
   "outputs": [],
   "source": [
    "df.loc['b']"
   ]
  },
  {
   "cell_type": "code",
   "execution_count": null,
   "id": "74a53a2f-5c55-4140-bc32-53be8c136a33",
   "metadata": {},
   "outputs": [],
   "source": [
    "df.iloc[1]"
   ]
  },
  {
   "cell_type": "markdown",
   "id": "6f9f53ec-8a6d-43ea-9abe-96f331d7e382",
   "metadata": {},
   "source": [
    "# Loading a Dataset"
   ]
  },
  {
   "cell_type": "code",
   "execution_count": null,
   "id": "f9b29e05-e427-43be-87ea-90e856affb32",
   "metadata": {},
   "outputs": [],
   "source": [
    "df = pd.read_json('../data/cars.json')\n",
    "df"
   ]
  },
  {
   "cell_type": "code",
   "execution_count": null,
   "id": "fbf5e3a8-91ee-4fba-8557-3015d717e404",
   "metadata": {},
   "outputs": [],
   "source": [
    "df.describe()"
   ]
  },
  {
   "cell_type": "code",
   "execution_count": null,
   "id": "d74c2881-9203-4e0b-8f37-6f92f29da2c5",
   "metadata": {},
   "outputs": [],
   "source": [
    "df.plot(x = 'Horsepower',\n",
    "        y = 'Miles_per_Gallon',\n",
    "        kind = 'scatter')"
   ]
  },
  {
   "cell_type": "code",
   "execution_count": null,
   "id": "66eabc6a-f33a-4f0a-a34f-e7deb671c8ff",
   "metadata": {},
   "outputs": [],
   "source": [
    "import matplotlib.pyplot as plt\n",
    "import seaborn as sns"
   ]
  },
  {
   "cell_type": "code",
   "execution_count": null,
   "id": "6f751e07-d4ff-445c-a035-863c116def12",
   "metadata": {},
   "outputs": [],
   "source": [
    "fig, ax = plt.subplots(1, 1, figsize=(8, 6))\n",
    "sns.scatterplot(\n",
    "    ax = ax,\n",
    "    data = df,\n",
    "    x = 'Horsepower',\n",
    "    y = 'Miles_per_Gallon',\n",
    "    hue = 'Origin')\n",
    "ax.set_xlabel('Horsepower', fontsize=16)\n",
    "ax.set_ylabel('Miles per Gallon', fontsize=16)\n",
    "ax.xaxis.set_tick_params(labelsize=14)\n",
    "ax.yaxis.set_tick_params(labelsize=14)\n",
    "ax.grid(True, linestyle='--')\n",
    "ax.legend(frameon=False, fontsize=18)"
   ]
  },
  {
   "cell_type": "markdown",
   "id": "d0f8b00c-df49-40c8-85fd-6aab66dcb555",
   "metadata": {},
   "source": [
    "# Brute Force Optimization"
   ]
  },
  {
   "cell_type": "code",
   "execution_count": null,
   "id": "747e6517-eee7-4b48-8f67-b58b37a8f1ca",
   "metadata": {},
   "outputs": [],
   "source": [
    "df = pd.read_json(\"../data/cars.json\")\n",
    "df"
   ]
  },
  {
   "cell_type": "code",
   "execution_count": null,
   "id": "9a509b38-9f6b-467a-8ab1-ee72c01f604d",
   "metadata": {},
   "outputs": [],
   "source": [
    "X = df.Horsepower.to_numpy()\n",
    "y = df.Miles_per_Gallon.to_numpy()\n",
    "ix_excluded = np.isnan(y) | np.isnan(X) \n",
    "X = X[~ix_excluded]\n",
    "y = y[~ix_excluded]"
   ]
  },
  {
   "cell_type": "code",
   "execution_count": null,
   "id": "cda4abdd-71da-4813-8271-0de4e531c32f",
   "metadata": {},
   "outputs": [],
   "source": [
    "np.array([True, False, False]) | np.array([False, True, True])"
   ]
  },
  {
   "cell_type": "code",
   "execution_count": null,
   "id": "adb85cc4-a1f1-43a6-9532-ef5bdd0a1f43",
   "metadata": {},
   "outputs": [],
   "source": [
    "\n",
    "# every place where the input or output is not available"
   ]
  },
  {
   "cell_type": "code",
   "execution_count": null,
   "id": "10a06181-7aa5-487b-bab8-663d209d7765",
   "metadata": {},
   "outputs": [],
   "source": []
  },
  {
   "cell_type": "markdown",
   "id": "297d76f5-a5bf-403f-9c8f-ddd705fb6ae2",
   "metadata": {},
   "source": [
    "## Grid-Search: The Wrong Way"
   ]
  },
  {
   "cell_type": "code",
   "execution_count": null,
   "id": "2f89e140-bb0f-4f42-af61-6e1c96e65e0c",
   "metadata": {},
   "outputs": [],
   "source": [
    "b0s = np.linspace(start = -50, stop = 50, num=100)\n",
    "b1s = np.linspace(start = -2, stop = 2, num=100)"
   ]
  },
  {
   "cell_type": "code",
   "execution_count": null,
   "id": "839ef0ec-ba85-468f-857b-47b20da5e12e",
   "metadata": {},
   "outputs": [],
   "source": [
    "for a in [1,2,3]:\n",
    "    print(a)"
   ]
  },
  {
   "cell_type": "code",
   "execution_count": null,
   "id": "89cdea10-7825-4ce4-88bf-c2ae49185d2f",
   "metadata": {},
   "outputs": [],
   "source": [
    "min_loss = np.inf\n",
    "best_p = None\n",
    "for b0 in b0s:\n",
    "    for b1 in b1s:\n",
    "        # run the model given b0 and b1\n",
    "        yhat = b0 + b1 * X\n",
    "\n",
    "        # compute the MSE loss\n",
    "        loss = np.mean(np.square(yhat - y))\n",
    "\n",
    "        # if this loss is less than the minimum that we have seen so far,\n",
    "        # set b0 and b1 as the new solution\n",
    "        if loss < min_loss:\n",
    "            min_loss = loss\n",
    "            best_p = (b0, b1)\n",
    "best_p"
   ]
  },
  {
   "cell_type": "code",
   "execution_count": null,
   "id": "a035d622-1da0-4c25-85e9-b358998f931f",
   "metadata": {},
   "outputs": [],
   "source": [
    "min_loss"
   ]
  },
  {
   "cell_type": "markdown",
   "id": "4a866758-9760-42fa-b81e-03debed9d8fa",
   "metadata": {},
   "source": [
    "# Grid-Search: The Right Way"
   ]
  },
  {
   "cell_type": "code",
   "execution_count": null,
   "id": "5d5834c3-df5f-4033-a5a8-a2691acf0416",
   "metadata": {},
   "outputs": [],
   "source": [
    "As = [1,2,3,4] # N\n",
    "Bs = [-1,-2,-3] # M\n",
    "U, V = np.meshgrid(As, Bs) # MxN\n",
    "U\n",
    "V"
   ]
  },
  {
   "cell_type": "code",
   "execution_count": null,
   "id": "86eb53d9-4a3d-4ea4-9bc3-fc0f4b887a94",
   "metadata": {},
   "outputs": [],
   "source": [
    "B0, B1 = np.meshgrid(b0s, b1s) # 100 x 100\n",
    "B0 # the b0 values of each combination\n"
   ]
  },
  {
   "cell_type": "code",
   "execution_count": null,
   "id": "4bb49af0-2095-4f1d-987a-01d4afdb8367",
   "metadata": {},
   "outputs": [],
   "source": [
    "Yhat = B0[:, :, None] + B1[:, :, None] * X[None, None, :] \n",
    "# 100x100x1 + \n",
    "# 100x100x1 * \n",
    "# 1x1xN      = 100x100xN\n",
    "Yhat.shape\n",
    "\n",
    "# Squared Error for each observation in each combination of b0 and b1\n",
    "# 100x100xN - \n",
    "# 1x1xN        = 100x100xN\n",
    "se = np.square(Yhat - y[None, None, :])\n",
    "print(se.shape)\n",
    "\n",
    "# We computing the mse for each combination\n",
    "mse = np.mean(se, axis=2) \n",
    "\n",
    "# Getting the flattened index of the best solution (\n",
    "ix = mse.argmin()\n",
    "ix # the flattened index\n",
    "\n",
    "# Convert flattened index into 2d index\n",
    "ix_min_b1, ix_min_b0 = np.unravel_index(ix, mse.shape)\n",
    "\n",
    "# Read out the solution\n",
    "min_b0 = b0s[ix_min_b0]\n",
    "min_b1 = b1s[ix_min_b1]\n",
    "\n",
    "print(min_b0, min_b1)\n",
    "print(mse.flatten()[ix])"
   ]
  },
  {
   "cell_type": "markdown",
   "id": "d1cce8e3-18ff-4619-aaf2-3b21e1496049",
   "metadata": {},
   "source": [
    "# Plot the Result"
   ]
  },
  {
   "cell_type": "code",
   "execution_count": null,
   "id": "a9128401-7b37-4c34-8b89-5894106ca138",
   "metadata": {
    "scrolled": true
   },
   "outputs": [],
   "source": [
    "fig, ax = plt.subplots(1, 1, figsize=(8, 6))\n",
    "\n",
    "# Plot the data\n",
    "sns.scatterplot(\n",
    "    ax = ax,\n",
    "    data = df,\n",
    "    x = 'Horsepower',\n",
    "    y = 'Miles_per_Gallon',\n",
    "    hue = 'Origin')\n",
    "ax.set_xlabel('Horsepower', fontsize=16)\n",
    "ax.set_ylabel('Miles per Gallon', fontsize=16)\n",
    "ax.xaxis.set_tick_params(labelsize=14)\n",
    "ax.yaxis.set_tick_params(labelsize=14)\n",
    "ax.grid(True, linestyle='--')\n",
    "ax.legend(frameon=False, fontsize=18)\n",
    "\n",
    "# We would like to the plot the line now\n",
    "minimum_hp = df.Horsepower.min()\n",
    "maximum_hp = df.Horsepower.max()\n",
    "xs = np.linspace(minimum_hp, maximum_hp, 100)\n",
    "yhat = min_b0 + min_b1 * xs\n",
    "\n",
    "# plot\n",
    "ax.plot(xs, yhat, linestyle='--', linewidth=2, color='purple')\n"
   ]
  },
  {
   "cell_type": "markdown",
   "id": "986f9072-54df-4169-b726-55d3410b8db0",
   "metadata": {},
   "source": [
    "# Gradient Descent"
   ]
  },
  {
   "cell_type": "code",
   "execution_count": null,
   "id": "f5d4ef9e-00f5-4b6f-9446-f81eb122f4b7",
   "metadata": {},
   "outputs": [],
   "source": [
    "# Load dataset\n",
    "df = pd.read_json(\"../data/cars.json\")\n",
    "X = df.Horsepower.to_numpy()\n",
    "y = df.Miles_per_Gallon.to_numpy()\n",
    "ix_excluded = np.isnan(y) | np.isnan(X) \n",
    "X = X[~ix_excluded]\n",
    "y = y[~ix_excluded]"
   ]
  },
  {
   "cell_type": "code",
   "execution_count": null,
   "id": "fd5f6247-8b08-41da-92fb-0eef18fdc726",
   "metadata": {},
   "outputs": [],
   "source": [
    "def optimize(X, y, learning_rate, epochs):\n",
    "\n",
    "    # z-score the inputs\n",
    "    X = (X - np.mean(X)) / np.std(X)\n",
    "\n",
    "    # randomly initialize a solution for b0 and b1\n",
    "    b0, b1 = np.random.randn(2) # draws two variates a standard normal distribution\n",
    "\n",
    "    # initialize empty arraw to track history\n",
    "    history = []\n",
    "\n",
    "    for i in range(epochs):\n",
    "        # compute the model's predictions\n",
    "        yhat = X * b1 + b0\n",
    "        mse = np.mean(np.square(yhat - y))\n",
    "        history.append([ (b0, b1), mse ])\n",
    "        \n",
    "        # compute the gradient at those predictions\n",
    "        b0_grad = np.mean(2 * (yhat - y))\n",
    "        b1_grad = np.mean(2 * (yhat - y) * X)\n",
    "        \n",
    "        # update the solution\n",
    "        b0 = b0 - learning_rate * b0_grad\n",
    "        b1 = b1 - learning_rate * b1_grad\n",
    "\n",
    "    return b0, b1\n",
    "\n",
    "b0, b1 = optimize(X, y, 0.1, 100)\n",
    "print(\"b0 = \", b0, \" and b1 = \", b1)\n",
    "\n",
    "# X is still unnormalize\n",
    "Z = (X - np.mean(X)) / np.std(X)\n",
    "yhat = b0 + b1 * Z\n",
    "\n",
    "mse = np.mean(np.square(yhat - y))\n",
    "print(\"MSE = \", mse)"
   ]
  },
  {
   "cell_type": "markdown",
   "id": "6ceeb0cd-99e0-4fe6-b364-30868dee98c6",
   "metadata": {},
   "source": [
    "# Trying Other Input Features\n",
    "\n",
    "Do not do what I am going to do here because you should not select the best fitting feature based on the whole dataset. This is just for illustration."
   ]
  },
  {
   "cell_type": "code",
   "execution_count": null,
   "id": "1b389c88-8e2c-47de-ad0f-5922e423bab6",
   "metadata": {},
   "outputs": [],
   "source": [
    "features = ['Cylinders', 'Displacement', 'Horsepower', 'Weight_in_lbs']\n",
    "for feature in features:\n",
    "    X = df[feature].to_numpy()\n",
    "    y = df.Miles_per_Gallon.to_numpy()\n",
    "    ix_excluded = np.isnan(y) | np.isnan(X) \n",
    "    X = X[~ix_excluded]\n",
    "    y = y[~ix_excluded]\n",
    "    \n",
    "    b0, b1 = optimize(X, y, 0.1, 100)\n",
    "    \n",
    "    # X is still unnormalize\n",
    "    Z = (X - np.mean(X)) / np.std(X)\n",
    "    yhat = b0 + b1 * Z\n",
    "    mse = np.mean(np.square(yhat - y))\n",
    "    print(f\"Feature: {feature}, MSE: {mse}\") "
   ]
  },
  {
   "cell_type": "code",
   "execution_count": null,
   "id": "0d39370a-3a9a-46b9-8b24-69bf38410501",
   "metadata": {},
   "outputs": [],
   "source": []
  }
 ],
 "metadata": {
  "kernelspec": {
   "display_name": "Python 3 (ipykernel)",
   "language": "python",
   "name": "python3"
  },
  "language_info": {
   "codemirror_mode": {
    "name": "ipython",
    "version": 3
   },
   "file_extension": ".py",
   "mimetype": "text/x-python",
   "name": "python",
   "nbconvert_exporter": "python",
   "pygments_lexer": "ipython3",
   "version": "3.12.10"
  }
 },
 "nbformat": 4,
 "nbformat_minor": 5
}
