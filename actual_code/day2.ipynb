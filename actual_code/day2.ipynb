{
 "cells": [
  {
   "cell_type": "markdown",
   "id": "e6cdee9d-5291-4360-b7b5-be92e7e0f214",
   "metadata": {},
   "source": [
    "# Multivariate Linear Regression"
   ]
  },
  {
   "cell_type": "code",
   "execution_count": 1,
   "id": "a14fec6e-166a-4a06-adc8-871601cb8a84",
   "metadata": {},
   "outputs": [],
   "source": [
    "import numpy as np\n",
    "import pandas as pd"
   ]
  },
  {
   "cell_type": "code",
   "execution_count": 2,
   "id": "263d8cdf-bedd-414f-89f6-0aced99ed2d6",
   "metadata": {},
   "outputs": [
    {
     "name": "stdout",
     "output_type": "stream",
     "text": [
      "Before cleaning:  (406, 9)\n",
      "After cleaning:  (392, 9)\n"
     ]
    }
   ],
   "source": [
    "df = pd.read_json('../data/cars.json')\n",
    "\n",
    "#\n",
    "# We want to do: Exclude ANY row that has ANY missing value\n",
    "#\n",
    "\n",
    "# find everywhere where there are missing values\n",
    "missing_vals = pd.isna(df)\n",
    "\n",
    "# we want to go over every row and find how many missing missing values there are\n",
    "num_missing = np.sum(missing_vals, axis=1) # this will take NxK => N\n",
    "\n",
    "# we want an array that tells us which rows should be included\n",
    "ix = (num_missing == 0)\n",
    "np.sum(ix)\n",
    "\n",
    "# use ix to index into the dataframe and make it clean\n",
    "print(\"Before cleaning: \", df.shape)\n",
    "df = df[ix]\n",
    "print(\"After cleaning: \", df.shape)"
   ]
  },
  {
   "cell_type": "code",
   "execution_count": 3,
   "id": "f958e92a-d650-42a6-9ac6-cc0ab8b0ab62",
   "metadata": {},
   "outputs": [
    {
     "data": {
      "text/html": [
       "<div>\n",
       "<style scoped>\n",
       "    .dataframe tbody tr th:only-of-type {\n",
       "        vertical-align: middle;\n",
       "    }\n",
       "\n",
       "    .dataframe tbody tr th {\n",
       "        vertical-align: top;\n",
       "    }\n",
       "\n",
       "    .dataframe thead th {\n",
       "        text-align: right;\n",
       "    }\n",
       "</style>\n",
       "<table border=\"1\" class=\"dataframe\">\n",
       "  <thead>\n",
       "    <tr style=\"text-align: right;\">\n",
       "      <th></th>\n",
       "      <th>Apple</th>\n",
       "      <th>Banana</th>\n",
       "      <th>Strawberry</th>\n",
       "    </tr>\n",
       "  </thead>\n",
       "  <tbody>\n",
       "    <tr>\n",
       "      <th>0</th>\n",
       "      <td>True</td>\n",
       "      <td>False</td>\n",
       "      <td>False</td>\n",
       "    </tr>\n",
       "    <tr>\n",
       "      <th>1</th>\n",
       "      <td>False</td>\n",
       "      <td>True</td>\n",
       "      <td>False</td>\n",
       "    </tr>\n",
       "    <tr>\n",
       "      <th>2</th>\n",
       "      <td>False</td>\n",
       "      <td>False</td>\n",
       "      <td>True</td>\n",
       "    </tr>\n",
       "  </tbody>\n",
       "</table>\n",
       "</div>"
      ],
      "text/plain": [
       "   Apple  Banana  Strawberry\n",
       "0   True   False       False\n",
       "1  False    True       False\n",
       "2  False   False        True"
      ]
     },
     "execution_count": 3,
     "metadata": {},
     "output_type": "execute_result"
    }
   ],
   "source": [
    "s = pd.Series(['Apple', 'Banana', 'Strawberry'])\n",
    "s\n",
    "\n",
    "pd.get_dummies(s)"
   ]
  },
  {
   "cell_type": "code",
   "execution_count": 4,
   "id": "d52ee4ff-c7ad-4532-9b38-b2e1a236413c",
   "metadata": {},
   "outputs": [
    {
     "data": {
      "text/html": [
       "<div>\n",
       "<style scoped>\n",
       "    .dataframe tbody tr th:only-of-type {\n",
       "        vertical-align: middle;\n",
       "    }\n",
       "\n",
       "    .dataframe tbody tr th {\n",
       "        vertical-align: top;\n",
       "    }\n",
       "\n",
       "    .dataframe thead th {\n",
       "        text-align: right;\n",
       "    }\n",
       "</style>\n",
       "<table border=\"1\" class=\"dataframe\">\n",
       "  <thead>\n",
       "    <tr style=\"text-align: right;\">\n",
       "      <th></th>\n",
       "      <th>Name</th>\n",
       "      <th>Miles_per_Gallon</th>\n",
       "      <th>Cylinders</th>\n",
       "      <th>Displacement</th>\n",
       "      <th>Horsepower</th>\n",
       "      <th>Weight_in_lbs</th>\n",
       "      <th>Acceleration</th>\n",
       "      <th>Year</th>\n",
       "      <th>Origin</th>\n",
       "    </tr>\n",
       "  </thead>\n",
       "  <tbody>\n",
       "    <tr>\n",
       "      <th>0</th>\n",
       "      <td>chevrolet chevelle malibu</td>\n",
       "      <td>18.0</td>\n",
       "      <td>8</td>\n",
       "      <td>307.0</td>\n",
       "      <td>130.0</td>\n",
       "      <td>3504</td>\n",
       "      <td>12.0</td>\n",
       "      <td>1970-01-01</td>\n",
       "      <td>USA</td>\n",
       "    </tr>\n",
       "    <tr>\n",
       "      <th>1</th>\n",
       "      <td>buick skylark 320</td>\n",
       "      <td>15.0</td>\n",
       "      <td>8</td>\n",
       "      <td>350.0</td>\n",
       "      <td>165.0</td>\n",
       "      <td>3693</td>\n",
       "      <td>11.5</td>\n",
       "      <td>1970-01-01</td>\n",
       "      <td>USA</td>\n",
       "    </tr>\n",
       "    <tr>\n",
       "      <th>2</th>\n",
       "      <td>plymouth satellite</td>\n",
       "      <td>18.0</td>\n",
       "      <td>8</td>\n",
       "      <td>318.0</td>\n",
       "      <td>150.0</td>\n",
       "      <td>3436</td>\n",
       "      <td>11.0</td>\n",
       "      <td>1970-01-01</td>\n",
       "      <td>USA</td>\n",
       "    </tr>\n",
       "    <tr>\n",
       "      <th>3</th>\n",
       "      <td>amc rebel sst</td>\n",
       "      <td>16.0</td>\n",
       "      <td>8</td>\n",
       "      <td>304.0</td>\n",
       "      <td>150.0</td>\n",
       "      <td>3433</td>\n",
       "      <td>12.0</td>\n",
       "      <td>1970-01-01</td>\n",
       "      <td>USA</td>\n",
       "    </tr>\n",
       "    <tr>\n",
       "      <th>4</th>\n",
       "      <td>ford torino</td>\n",
       "      <td>17.0</td>\n",
       "      <td>8</td>\n",
       "      <td>302.0</td>\n",
       "      <td>140.0</td>\n",
       "      <td>3449</td>\n",
       "      <td>10.5</td>\n",
       "      <td>1970-01-01</td>\n",
       "      <td>USA</td>\n",
       "    </tr>\n",
       "    <tr>\n",
       "      <th>...</th>\n",
       "      <td>...</td>\n",
       "      <td>...</td>\n",
       "      <td>...</td>\n",
       "      <td>...</td>\n",
       "      <td>...</td>\n",
       "      <td>...</td>\n",
       "      <td>...</td>\n",
       "      <td>...</td>\n",
       "      <td>...</td>\n",
       "    </tr>\n",
       "    <tr>\n",
       "      <th>401</th>\n",
       "      <td>ford mustang gl</td>\n",
       "      <td>27.0</td>\n",
       "      <td>4</td>\n",
       "      <td>140.0</td>\n",
       "      <td>86.0</td>\n",
       "      <td>2790</td>\n",
       "      <td>15.6</td>\n",
       "      <td>1982-01-01</td>\n",
       "      <td>USA</td>\n",
       "    </tr>\n",
       "    <tr>\n",
       "      <th>402</th>\n",
       "      <td>vw pickup</td>\n",
       "      <td>44.0</td>\n",
       "      <td>4</td>\n",
       "      <td>97.0</td>\n",
       "      <td>52.0</td>\n",
       "      <td>2130</td>\n",
       "      <td>24.6</td>\n",
       "      <td>1982-01-01</td>\n",
       "      <td>Europe</td>\n",
       "    </tr>\n",
       "    <tr>\n",
       "      <th>403</th>\n",
       "      <td>dodge rampage</td>\n",
       "      <td>32.0</td>\n",
       "      <td>4</td>\n",
       "      <td>135.0</td>\n",
       "      <td>84.0</td>\n",
       "      <td>2295</td>\n",
       "      <td>11.6</td>\n",
       "      <td>1982-01-01</td>\n",
       "      <td>USA</td>\n",
       "    </tr>\n",
       "    <tr>\n",
       "      <th>404</th>\n",
       "      <td>ford ranger</td>\n",
       "      <td>28.0</td>\n",
       "      <td>4</td>\n",
       "      <td>120.0</td>\n",
       "      <td>79.0</td>\n",
       "      <td>2625</td>\n",
       "      <td>18.6</td>\n",
       "      <td>1982-01-01</td>\n",
       "      <td>USA</td>\n",
       "    </tr>\n",
       "    <tr>\n",
       "      <th>405</th>\n",
       "      <td>chevy s-10</td>\n",
       "      <td>31.0</td>\n",
       "      <td>4</td>\n",
       "      <td>119.0</td>\n",
       "      <td>82.0</td>\n",
       "      <td>2720</td>\n",
       "      <td>19.4</td>\n",
       "      <td>1982-01-01</td>\n",
       "      <td>USA</td>\n",
       "    </tr>\n",
       "  </tbody>\n",
       "</table>\n",
       "<p>392 rows × 9 columns</p>\n",
       "</div>"
      ],
      "text/plain": [
       "                          Name  Miles_per_Gallon  Cylinders  Displacement  \\\n",
       "0    chevrolet chevelle malibu              18.0          8         307.0   \n",
       "1            buick skylark 320              15.0          8         350.0   \n",
       "2           plymouth satellite              18.0          8         318.0   \n",
       "3                amc rebel sst              16.0          8         304.0   \n",
       "4                  ford torino              17.0          8         302.0   \n",
       "..                         ...               ...        ...           ...   \n",
       "401            ford mustang gl              27.0          4         140.0   \n",
       "402                  vw pickup              44.0          4          97.0   \n",
       "403              dodge rampage              32.0          4         135.0   \n",
       "404                ford ranger              28.0          4         120.0   \n",
       "405                 chevy s-10              31.0          4         119.0   \n",
       "\n",
       "     Horsepower  Weight_in_lbs  Acceleration        Year  Origin  \n",
       "0         130.0           3504          12.0  1970-01-01     USA  \n",
       "1         165.0           3693          11.5  1970-01-01     USA  \n",
       "2         150.0           3436          11.0  1970-01-01     USA  \n",
       "3         150.0           3433          12.0  1970-01-01     USA  \n",
       "4         140.0           3449          10.5  1970-01-01     USA  \n",
       "..          ...            ...           ...         ...     ...  \n",
       "401        86.0           2790          15.6  1982-01-01     USA  \n",
       "402        52.0           2130          24.6  1982-01-01  Europe  \n",
       "403        84.0           2295          11.6  1982-01-01     USA  \n",
       "404        79.0           2625          18.6  1982-01-01     USA  \n",
       "405        82.0           2720          19.4  1982-01-01     USA  \n",
       "\n",
       "[392 rows x 9 columns]"
      ]
     },
     "execution_count": 4,
     "metadata": {},
     "output_type": "execute_result"
    }
   ],
   "source": [
    "df"
   ]
  },
  {
   "cell_type": "code",
   "execution_count": 5,
   "id": "8c2c1b8e-fb5b-4357-bb3a-c3b3916ad469",
   "metadata": {},
   "outputs": [],
   "source": [
    "# We want to convert the year string into a number representing the year\n",
    "# so we don't have to categorically encode it\n",
    "#year_col = pd.to_datetime(df.Year)\n",
    "#year_col.dt.year\n",
    "df.Year = pd.to_datetime(df.Year).dt.year"
   ]
  },
  {
   "cell_type": "code",
   "execution_count": 6,
   "id": "45f850c4-d378-41e0-a573-eb5fa234ccef",
   "metadata": {},
   "outputs": [
    {
     "name": "stdout",
     "output_type": "stream",
     "text": [
      "<class 'pandas.core.frame.DataFrame'>\n",
      "Index: 392 entries, 0 to 405\n",
      "Data columns (total 9 columns):\n",
      " #   Column            Non-Null Count  Dtype  \n",
      "---  ------            --------------  -----  \n",
      " 0   Name              392 non-null    object \n",
      " 1   Miles_per_Gallon  392 non-null    float64\n",
      " 2   Cylinders         392 non-null    int64  \n",
      " 3   Displacement      392 non-null    float64\n",
      " 4   Horsepower        392 non-null    float64\n",
      " 5   Weight_in_lbs     392 non-null    int64  \n",
      " 6   Acceleration      392 non-null    float64\n",
      " 7   Year              392 non-null    int32  \n",
      " 8   Origin            392 non-null    object \n",
      "dtypes: float64(4), int32(1), int64(2), object(2)\n",
      "memory usage: 29.1+ KB\n"
     ]
    }
   ],
   "source": [
    "df.info()"
   ]
  },
  {
   "cell_type": "code",
   "execution_count": 7,
   "id": "5b03ef61-5e56-4972-a706-da8ebb97c3d8",
   "metadata": {},
   "outputs": [
    {
     "name": "stdout",
     "output_type": "stream",
     "text": [
      "Index(['Name', 'Origin'], dtype='object')\n"
     ]
    },
    {
     "data": {
      "text/plain": [
       "Index(['Cylinders', 'Displacement', 'Horsepower', 'Weight_in_lbs',\n",
       "       'Acceleration', 'Year'],\n",
       "      dtype='object')"
      ]
     },
     "execution_count": 7,
     "metadata": {},
     "output_type": "execute_result"
    }
   ],
   "source": [
    "# Let's identify categorical columns in a dataframe\n",
    "categorical_cols = df.select_dtypes(include='object').columns\n",
    "print(categorical_cols)\n",
    "# Let's identify the numeric columns in the dataframe\n",
    "numeric_cols = df.select_dtypes(include='number').columns\n",
    "numeric_cols = numeric_cols[1:] # We do not want the output column\n",
    "numeric_cols"
   ]
  },
  {
   "cell_type": "code",
   "execution_count": 8,
   "id": "6fb89956-0d54-4bd4-922b-a9aa8440cd54",
   "metadata": {},
   "outputs": [
    {
     "data": {
      "text/plain": [
       "(392, 10)"
      ]
     },
     "execution_count": 8,
     "metadata": {},
     "output_type": "execute_result"
    }
   ],
   "source": [
    "# We want to construct the input features into the model\n",
    "# We will use a numpy array that contains both numeric and categorically encoded values\n",
    "X = df[numeric_cols].to_numpy() # 392x6 (NxK)\n",
    "\n",
    "# Now we need to z-score the numeric features so that they can lead to efficient learning\n",
    "col_means = np.mean(X, axis=0) # K\n",
    "col_stds = np.std(X, axis=0, ddof=1) # K\n",
    "\n",
    "# Z-score\n",
    "# (NxK - \n",
    "#  1xK) \n",
    "#  / \n",
    "#  (1xK)\n",
    "Z = (X - col_means[None, :]) / col_stds[None, :]\n",
    "\n",
    "# Now we want to code the categorical columns using one-hot encoding\n",
    "categorical_cols = ['Origin']\n",
    "for col in categorical_cols:\n",
    "    # NxC (C is the number of unique values in the column)\n",
    "    # So for origin this will be Nx3 \n",
    "    dummies = pd.get_dummies( df[col] ).to_numpy() \n",
    "    \n",
    "    # concatenate dummies matrix onto Z\n",
    "    Z = np.hstack((Z, dummies)) \n",
    "\n",
    "# finally we want to add a column of ones at the start of Z\n",
    "ones_col = np.ones((Z.shape[0], 1)) # Nx1\n",
    "\n",
    "Z = np.hstack((ones_col, Z))\n",
    "Z.shape"
   ]
  },
  {
   "cell_type": "code",
   "execution_count": 9,
   "id": "d4bb159f-1cec-4338-b1e1-c857d6b954b5",
   "metadata": {},
   "outputs": [
    {
     "data": {
      "text/plain": [
       "array([[1, 4],\n",
       "       [2, 5],\n",
       "       [3, 6]])"
      ]
     },
     "execution_count": 9,
     "metadata": {},
     "output_type": "execute_result"
    }
   ],
   "source": [
    "# Digression: hstack versus vstack\n",
    "\n",
    "a = np.array([1,2,3])\n",
    "b = np.array([4,5,6])\n",
    "\n",
    "# we want to create a matrix of size 3x2 where first column is a and second is b\n",
    "np.hstack((a[:, None], b[:, None]))\n",
    "np.vstack((a, b)).T"
   ]
  },
  {
   "cell_type": "code",
   "execution_count": 10,
   "id": "4e60942b-86c7-4ca9-ba82-407d8caaf181",
   "metadata": {},
   "outputs": [
    {
     "data": {
      "text/plain": [
       "(392, 10)"
      ]
     },
     "execution_count": 10,
     "metadata": {},
     "output_type": "execute_result"
    }
   ],
   "source": [
    "# let's create a function that enapsulates all the complicated input creation operations\n",
    "# we are assuming that input_df contains ONLY the input columns (no output column)\n",
    "def prepare_inputs(input_df):\n",
    "\n",
    "    # Let's identify categorical columns in a dataframe\n",
    "    categorical_cols = input_df.select_dtypes(include='object').columns\n",
    "    \n",
    "    # Let's identify the numeric columns in the dataframe\n",
    "    numeric_cols = input_df.select_dtypes(include='number').columns\n",
    "\n",
    "    # We want to construct the input features into the model\n",
    "    # We will use a numpy array that contains both numeric and categorically encoded values\n",
    "    X = input_df[numeric_cols].to_numpy() # (NxK)\n",
    "    \n",
    "    # Now we need to z-score the numeric features so that they can lead to efficient learning\n",
    "    col_means = np.mean(X, axis=0) # K\n",
    "    col_stds = np.std(X, axis=0, ddof=1) # K\n",
    "    \n",
    "    # Z-score\n",
    "    # (NxK - \n",
    "    #  1xK) \n",
    "    #  / \n",
    "    #  (1xK)\n",
    "    Z = (X - col_means[None, :]) / col_stds[None, :]\n",
    "    \n",
    "    # Now we want to code the categorical columns using one-hot encoding\n",
    "    for col in categorical_cols:\n",
    "        # NxC (C is the number of unique values in the column)\n",
    "        # So for origin this will be Nx3 \n",
    "        dummies = pd.get_dummies( input_df[col] ).to_numpy() \n",
    "        \n",
    "        # concatenate dummies matrix onto Z\n",
    "        #print(Z.shape)\n",
    "        #print(dummies.shape)\n",
    "        Z = np.hstack((Z, dummies)) \n",
    "    \n",
    "    # finally we want to add a column of ones at the start of Z\n",
    "    ones_col = np.ones((Z.shape[0], 1)) # Nx1\n",
    "    \n",
    "    Z = np.hstack((ones_col, Z))\n",
    "\n",
    "    return Z\n",
    "\n",
    "input_df = df[['Cylinders', \n",
    "               'Displacement', \n",
    "               'Origin', 'Horsepower', 'Year', 'Weight_in_lbs','Acceleration']]\n",
    "Z = prepare_inputs(input_df)\n",
    "Z.shape"
   ]
  },
  {
   "cell_type": "code",
   "execution_count": 11,
   "id": "59da7ff1-4b95-48a3-91f1-834d618baa77",
   "metadata": {},
   "outputs": [],
   "source": [
    "def forward_fn(Beta, Z):\n",
    "    # Beta is size K\n",
    "    # Z is size NxK\n",
    "    # (NxK) @ K = N\n",
    "    # this is the linear regression model\n",
    "    return Z @ Beta\n",
    "\n",
    "# lets test this function: initialize some random Beta\n",
    "# Beta is [b0, b1, b2, ...]\n",
    "Beta = np.random.randn(Z.shape[1]) # K\n",
    "Beta\n",
    "\n",
    "forward_fn(Beta, Z)\n",
    "\n",
    "def predict(Beta, input_df):\n",
    "    Z = prepare_inputs(input_df)\n",
    "    return forward_fn(Beta, Z)\n",
    "#predict(Beta, input_df)"
   ]
  },
  {
   "cell_type": "code",
   "execution_count": 12,
   "id": "4a3cef9f-8e0c-455e-81df-b8cd27109047",
   "metadata": {},
   "outputs": [
    {
     "data": {
      "text/plain": [
       "np.float64(11.032279293106619)"
      ]
     },
     "execution_count": 12,
     "metadata": {},
     "output_type": "execute_result"
    }
   ],
   "source": [
    "#\n",
    "# Objective: write the learning algorithm (gradient descent)\n",
    "#\n",
    "def optimize(input_df, y, learning_rate, epochs):\n",
    "    \"\"\"\n",
    "        Input parameters:\n",
    "            input_df: dataframe containing input columns\n",
    "            y: a vector of outputs that we wish to predict\n",
    "            learning_rate: how quickly we want gradient descent learning\n",
    "            epochs: the number of steps of gradient descent\n",
    "        Output:\n",
    "            Beta: fitted model parameters\n",
    "    \"\"\"\n",
    "    \n",
    "    # Prepare our inputs into the linear regression\n",
    "    Z = prepare_inputs(input_df) # NxK\n",
    "\n",
    "    # Randomly initialize our solution\n",
    "    Beta = np.random.randn(Z.shape[1]) # K\n",
    "\n",
    "    # Run gradient descent loop\n",
    "    for i in range(epochs):\n",
    "\n",
    "        # Compute model's predictions\n",
    "        yhat = forward_fn(Beta, Z) # N\n",
    "\n",
    "        # Compute the gradient at those predictions\n",
    "        # Z is NxK\n",
    "        # yhat is N\n",
    "        # y is N\n",
    "        # KxN @ N = K\n",
    "        Beta_grad = 2 * Z.T @ (yhat - y) / Z.shape[0]\n",
    "        \n",
    "        # Update the parameters\n",
    "        Beta = Beta - learning_rate * Beta_grad\n",
    "\n",
    "    # Beta is the fitted parameter values\n",
    "    return Beta\n",
    "\n",
    "best_Beta = optimize(input_df = input_df, \n",
    "                     y = df.Miles_per_Gallon.to_numpy(),\n",
    "                     learning_rate = 0.1,\n",
    "                     epochs = 100)\n",
    "best_Beta\n",
    "\n",
    "# How good was the model?\n",
    "# What we need to do: run the model forward function and then compute loss\n",
    "yhat = predict(Beta = best_Beta, \n",
    "               input_df = input_df) # N\n",
    "\n",
    "# compute mean squared error\n",
    "y = df.Miles_per_Gallon.to_numpy()\n",
    "np.mean(np.square(yhat - y))"
   ]
  },
  {
   "cell_type": "markdown",
   "id": "84a24398-8ff8-4423-aa0b-de8996fd189c",
   "metadata": {},
   "source": [
    "# Evaluation"
   ]
  },
  {
   "cell_type": "code",
   "execution_count": 13,
   "id": "3e9a9002-8552-4921-8a98-01c309fa2498",
   "metadata": {},
   "outputs": [
    {
     "data": {
      "text/plain": [
       "np.float64(19.21050796092065)"
      ]
     },
     "execution_count": 13,
     "metadata": {},
     "output_type": "execute_result"
    }
   ],
   "source": [
    "# We will create little function that takes the training dataframe and the testing dataframe\n",
    "# and returns MSE on test\n",
    "def mvlr_train_test_function(train_df, test_df, input_cols, output_col):\n",
    "\n",
    "    # build the training input data frame\n",
    "    train_input_df = train_df[input_cols]\n",
    "\n",
    "    # build the training outputs\n",
    "    y = train_df[output_col].to_numpy()\n",
    "    \n",
    "    # Optimize the model using gradient descent\n",
    "    best_Beta = optimize(input_df = train_input_df,\n",
    "                         y = y,\n",
    "                         learning_rate = 0.1,\n",
    "                         epochs = 100)\n",
    "\n",
    "    # build the testing input data frame\n",
    "    test_input_df = test_df[input_cols]\n",
    "\n",
    "    # Make predictions on the test set\n",
    "    yhat = predict(Beta = best_Beta,\n",
    "                   input_df = test_input_df)\n",
    "    \n",
    "    # Calculate error of those predictions\n",
    "    ytest = test_df[output_col].to_numpy()\n",
    "    mse = np.mean(np.square(yhat - ytest))\n",
    "\n",
    "    return mse \n",
    "\n",
    "# Illustration: train and test on the same data frame\n",
    "mvlr_train_test_function(train_df = df,\n",
    "                         test_df = df,\n",
    "                         input_cols = ['Cylinders', 'Horsepower', 'Origin'],\n",
    "                         output_col = 'Miles_per_Gallon')\n"
   ]
  },
  {
   "cell_type": "markdown",
   "id": "6de7aaee-f4b3-4075-895d-c2c2599d2931",
   "metadata": {},
   "source": [
    "## Cross-Validation"
   ]
  },
  {
   "cell_type": "code",
   "execution_count": 14,
   "id": "52efe376-45db-431e-ac85-eac13e0b2232",
   "metadata": {},
   "outputs": [
    {
     "name": "stdout",
     "output_type": "stream",
     "text": [
      "Train indecies:  [1 2 3 4 5 6 8 9]\n",
      "Test indecies:  [0 7]\n",
      "Train indecies:  [0 1 4 5 6 7 8 9]\n",
      "Test indecies:  [2 3]\n",
      "Train indecies:  [0 2 3 4 5 7 8 9]\n",
      "Test indecies:  [1 6]\n",
      "Train indecies:  [0 1 2 3 5 6 7 8]\n",
      "Test indecies:  [4 9]\n",
      "Train indecies:  [0 1 2 3 4 6 7 9]\n",
      "Test indecies:  [5 8]\n"
     ]
    }
   ],
   "source": [
    "# Just a toy dataset\n",
    "X = np.array([\n",
    "    [1, 2],\n",
    "    [3, 4],\n",
    "    [5, 6],\n",
    "    [-10, 10],\n",
    "    [0, 0],\n",
    "    [0, 0],\n",
    "    [0, 0],\n",
    "    [0, 1],\n",
    "    [3, 8],\n",
    "    [10, 11]])\n",
    "y = np.array([0, 1, 100, 5, 2, 1, 1, 2, 3, 4])\n",
    "\n",
    "# Make the class available in the notebook\n",
    "from sklearn.model_selection import KFold\n",
    "\n",
    "splitter = KFold(n_splits = 5, # Number of folds\n",
    "                 shuffle = True, # Shuffle before splitting\n",
    "                 random_state = 2341234) # Random state for the RNG generator\n",
    "\n",
    "# Split the data into 5 training/testing folds and iterate over every split\n",
    "for train_indecies, test_indecies in splitter.split(X):\n",
    "    print(\"Train indecies: \", train_indecies)\n",
    "    print(\"Test indecies: \", test_indecies)"
   ]
  },
  {
   "cell_type": "code",
   "execution_count": 19,
   "id": "81ca8292-699b-47aa-8c66-e430adad36dc",
   "metadata": {},
   "outputs": [
    {
     "name": "stdout",
     "output_type": "stream",
     "text": [
      "Average CV MSE:  18.126769936393515\n",
      "Standard Error:  0.7324680821587949\n"
     ]
    }
   ],
   "source": [
    "splitter = KFold(n_splits = 5, # Number of folds\n",
    "                 shuffle = True, # Shuffle before splitting\n",
    "                 random_state = 2341234) # Random state for the RNG generator\n",
    "\n",
    "# Split the data into 5 training/testing folds and iterate over every split\n",
    "mses = []\n",
    "for train_indecies, test_indecies in splitter.split(df):\n",
    "    #print(\"Train indecies: \", train_indecies)\n",
    "    #print(\"Test indecies: \", test_indecies)\n",
    "\n",
    "    # construct the training and testing frames\n",
    "    train_df = df.iloc[train_indecies]\n",
    "    test_df = df.iloc[test_indecies]\n",
    "\n",
    "    # train and test\n",
    "    mse = mvlr_train_test_function(train_df = train_df,\n",
    "                                   test_df = test_df,\n",
    "                                   input_cols = ['Cylinders', \n",
    "                                                 'Horsepower', \n",
    "                                                 'Origin',\n",
    "                                                 'Acceleration',\n",
    "                                                 'Weight_in_lbs'],\n",
    "                                   output_col = 'Miles_per_Gallon')\n",
    "    # record the mse\n",
    "    mses.append(mse)\n",
    "    \n",
    "# report average MSE and its standard error of the mean\n",
    "print(\"Average CV MSE: \", np.mean(mses))\n",
    "print(\"Standard Error: \", np.std(mses) / np.sqrt(len(mses)))"
   ]
  },
  {
   "cell_type": "code",
   "execution_count": null,
   "id": "d41976c8-d979-4cad-9b0d-27dd05d141c1",
   "metadata": {},
   "outputs": [],
   "source": []
  }
 ],
 "metadata": {
  "kernelspec": {
   "display_name": "Python 3 (ipykernel)",
   "language": "python",
   "name": "python3"
  },
  "language_info": {
   "codemirror_mode": {
    "name": "ipython",
    "version": 3
   },
   "file_extension": ".py",
   "mimetype": "text/x-python",
   "name": "python",
   "nbconvert_exporter": "python",
   "pygments_lexer": "ipython3",
   "version": "3.12.10"
  }
 },
 "nbformat": 4,
 "nbformat_minor": 5
}
