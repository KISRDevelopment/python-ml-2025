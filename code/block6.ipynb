{
 "cells": [
  {
   "cell_type": "markdown",
   "id": "7ffd671c",
   "metadata": {},
   "source": [
    "# Block 6: Feature Selection"
   ]
  },
  {
   "cell_type": "code",
   "execution_count": 13,
   "id": "4ee049e0",
   "metadata": {},
   "outputs": [],
   "source": [
    "import numpy as np \n",
    "import pandas as pd \n",
    "import matplotlib.pyplot as plt\n",
    "import sklearn.model_selection\n",
    "import itertools\n",
    "from typing import List"
   ]
  },
  {
   "cell_type": "markdown",
   "id": "853e620b",
   "metadata": {},
   "source": [
    "## Preliminaries: Some Cleanup\n",
    "\n",
    "### Model Class \n",
    "\n",
    "Lets encapsulate our model in a class so that it is more easy to use.\n"
   ]
  },
  {
   "cell_type": "code",
   "execution_count": 48,
   "id": "0a95d978",
   "metadata": {},
   "outputs": [],
   "source": [
    "class LinearModel:\n",
    "\n",
    "    def __init__(self, \n",
    "                 features: List[str]):\n",
    "        self._features = features \n",
    "    \n",
    "    def train(self, df: pd.DataFrame, y: np.ndarray, steps: int = 100, eta: float = 0.01):\n",
    "\n",
    "        # prepare inputs and outputs\n",
    "        X = self._prepare_input_matrix(df)\n",
    "        \n",
    "        # randomly initialize solution \n",
    "        Beta = np.random.rand(X.shape[1]) # K\n",
    "\n",
    "        # iterate for steps\n",
    "        history = []\n",
    "        for i in range(steps):\n",
    "            # compute model predictions\n",
    "            yhat = X @ Beta # N\n",
    "            mse = np.mean(np.square(yhat - y))\n",
    "            history.append([Beta, mse])\n",
    "\n",
    "            # compute gradient at those predictions\n",
    "            # (NxK).T @ N = K\n",
    "            Beta_grad = 2 * X.T @ (yhat - y) / X.shape[0]\n",
    "            \n",
    "            # update solution\n",
    "            Beta = Beta - eta * Beta_grad\n",
    "        \n",
    "        # save the parameters\n",
    "        self._params, _ = history[-1]\n",
    "\n",
    "        return history\n",
    "    \n",
    "    def _prepare_input_matrix(self, df: pd.DataFrame):\n",
    "\n",
    "        # we need to separate categorical from numeric features\n",
    "        # because they require separate processing\n",
    "        # let's get categorical columns\n",
    "        categorical_cols = df.select_dtypes(include='object').columns\n",
    "        \n",
    "        # let's get numeric\n",
    "        ordinal_cols = df.select_dtypes(include='number').columns\n",
    "\n",
    "        # construct input features\n",
    "        X = df[ordinal_cols].to_numpy()\n",
    "\n",
    "        # z-score (NxK' - 1xK') / 1xK' = NxK'\n",
    "        X = (X - np.mean(X, axis=0)[None, :]) / np.std(X, axis=0)[None, :]\n",
    "\n",
    "        # code categorical features\n",
    "        for feature in categorical_cols:\n",
    "            dummies = pd.get_dummies(df[feature]).to_numpy().astype(float)\n",
    "            X = np.hstack((X, dummies)) \n",
    "\n",
    "        # add a column of ones\n",
    "        ones_col = np.ones((X.shape[0], 1)) # Nx1\n",
    "        X = np.hstack((ones_col, X)) # K\n",
    "        \n",
    "        return X \n",
    "    \n",
    "    def predict(self, df: pd.DataFrame):\n",
    "         \n",
    "        X = self._prepare_input_matrix(df)\n",
    "\n",
    "        # compute model predictions\n",
    "        yhat = X @ self._params # N\n",
    "\n",
    "        return yhat \n"
   ]
  },
  {
   "cell_type": "markdown",
   "id": "3c3db697",
   "metadata": {},
   "source": [
    "### Cross-Validation\n",
    "\n",
    "Let's make it easy to run CV on a model."
   ]
  },
  {
   "cell_type": "code",
   "execution_count": 62,
   "id": "e881cf6e",
   "metadata": {},
   "outputs": [],
   "source": [
    "def cv(df, y, folds, random_state):\n",
    "\n",
    "    kf = sklearn.model_selection.KFold(n_splits=folds, \n",
    "                                       shuffle=True, \n",
    "                                       random_state=random_state)\n",
    "    \n",
    "    features = df.columns.tolist()\n",
    "    mses = []\n",
    "    for train_index, test_index in kf.split(df):\n",
    "        train_df = df.iloc[train_index]\n",
    "        ytrain = y[train_index]\n",
    "\n",
    "        test_df = df.iloc[test_index]\n",
    "        ytest = y[test_index]\n",
    "\n",
    "        # train and predict\n",
    "        model = LinearModel(features)\n",
    "        model.train(train_df[features], ytrain)\n",
    "        yhat = model.predict(test_df[features])\n",
    "        \n",
    "        # evaluate\n",
    "        mse = np.mean(np.square(yhat - ytest))\n",
    "        mses.append(mse)\n",
    "    \n",
    "    return mses \n"
   ]
  },
  {
   "cell_type": "code",
   "execution_count": 63,
   "id": "f640ac54",
   "metadata": {},
   "outputs": [
    {
     "name": "stdout",
     "output_type": "stream",
     "text": [
      "Before:  (406, 9)\n",
      "After:  (392, 9)\n"
     ]
    }
   ],
   "source": [
    "# load dataset\n",
    "df = pd.read_json('../data/cars.json')\n",
    "\n",
    "# Filter dataframe\n",
    "required_cols = ['Miles_per_Gallon', 'Cylinders', 'Displacement', 'Horsepower', 'Weight_in_lbs', 'Acceleration', 'Origin']\n",
    "\n",
    "# only include rows where ALL columns are not nan\n",
    "ix_included = np.sum(pd.isna(df[required_cols]), axis=1) == 0\n",
    "\n",
    "# exclude examples with no horsepower or mpg\n",
    "print(\"Before: \", df.shape)\n",
    "df = df[ix_included]\n",
    "print(\"After: \", df.shape)\n",
    "df = df[required_cols]"
   ]
  },
  {
   "cell_type": "code",
   "execution_count": 64,
   "id": "257b572b",
   "metadata": {},
   "outputs": [
    {
     "name": "stdout",
     "output_type": "stream",
     "text": [
      "7.08978163351333\n",
      "7.08978163351333\n"
     ]
    }
   ],
   "source": [
    "# Let's test the new class \n",
    "model = LinearModel(['Displacement', 'Origin'])\n",
    "history = model.train(df, df[ 'Miles_per_Gallon'].to_numpy())\n",
    "print(history[-1][1])\n",
    "yhat = model.predict(df)\n",
    "mse = np.mean(np.square(yhat - df.Miles_per_Gallon))\n",
    "print(mse)\n"
   ]
  },
  {
   "cell_type": "code",
   "execution_count": 66,
   "id": "c4244c61",
   "metadata": {},
   "outputs": [
    {
     "data": {
      "text/plain": [
       "[np.float64(21.818435572593533),\n",
       " np.float64(38.102850174784635),\n",
       " np.float64(25.744303249836637),\n",
       " np.float64(20.829373256247006),\n",
       " np.float64(26.318520526734744)]"
      ]
     },
     "execution_count": 66,
     "metadata": {},
     "output_type": "execute_result"
    }
   ],
   "source": [
    "# run CV \n",
    "mses = cv(df[['Displacement', 'Origin']], df['Miles_per_Gallon'].to_numpy(), folds=5, random_state=4234)\n",
    "mses"
   ]
  },
  {
   "cell_type": "markdown",
   "id": "80ab58b7",
   "metadata": {},
   "source": [
    "## Brute Force Selection"
   ]
  },
  {
   "cell_type": "code",
   "execution_count": 51,
   "id": "16b9d122",
   "metadata": {},
   "outputs": [
    {
     "name": "stdout",
     "output_type": "stream",
     "text": [
      "[('a',), ('b',), ('c',)]\n",
      "[('a', 'b'), ('a', 'c'), ('b', 'c')]\n",
      "[('a', 'b', 'c')]\n",
      "[('a',), ('b',), ('c',), ('a', 'b'), ('a', 'c'), ('b', 'c')]\n"
     ]
    }
   ],
   "source": [
    "# let's play with combinations function because we'll use it in brute force\n",
    "# selection\n",
    "cols = ['a', 'b', 'c']\n",
    "\n",
    "# combinations of length 3\n",
    "print(list(itertools.combinations(cols, 1)))\n",
    "# combinations of length 2\n",
    "print(list(itertools.combinations(cols, 2)))\n",
    "# combinations of length 3\n",
    "print(list(itertools.combinations(cols, 3)))\n",
    "\n",
    "# to get all combinations\n",
    "all_combinations = [comb for i in range(1, len(cols)) for comb in itertools.combinations(cols, i)]\n",
    "print(all_combinations)"
   ]
  },
  {
   "cell_type": "code",
   "execution_count": 69,
   "id": "4ae3af3f",
   "metadata": {},
   "outputs": [
    {
     "name": "stdout",
     "output_type": "stream",
     "text": [
      "['Displacement', 'Weight_in_lbs', 'Origin']\n"
     ]
    }
   ],
   "source": [
    "def brute_force_selection(df, \n",
    "                          input_cols, \n",
    "                          output_col):\n",
    "\n",
    "    # generate all combinations\n",
    "    all_combinations = [comb for i in range(1, len(input_cols)) for comb in itertools.combinations(input_cols, i)]\n",
    "\n",
    "    # start cross validation\n",
    "    all_mses = []\n",
    "    for combination in all_combinations:\n",
    "        # important to keep random state the same for all combinations\n",
    "        # so that generated splits are the same\n",
    "        mses = cv(df[list(combination)], df[output_col].to_numpy(), folds=5, random_state=234234)   \n",
    "        all_mses.append(mses)\n",
    "        \n",
    "    # organize all results in a 2D matrix (Rows = combinations, cols = folds)\n",
    "    all_mses = np.array(all_mses) # Combinations x Folds\n",
    "\n",
    "    # compute average MSE for each combination\n",
    "    avg_mse = np.mean(all_mses, axis=1) # Combinations\n",
    "    \n",
    "    # pick best\n",
    "    best_ix = np.argmin(avg_mse)\n",
    "    best_combination = list(all_combinations[best_ix])\n",
    "\n",
    "    # now train the best combination on the whole dataset and return the fitted model\n",
    "    model = LinearModel(best_combination)\n",
    "    model.train(df[best_combination], df[output_col].to_numpy())\n",
    "    \n",
    "    return model\n",
    "\n",
    "\n",
    "model = brute_force_selection(df, ['Cylinders', \n",
    "                                   'Displacement', \n",
    "                                   'Horsepower', \n",
    "                                   'Weight_in_lbs', \n",
    "                                   'Acceleration', \n",
    "                                   'Origin'], 'Miles_per_Gallon')\n",
    "print(model._features)\n"
   ]
  },
  {
   "cell_type": "code",
   "execution_count": null,
   "id": "804f347b",
   "metadata": {},
   "outputs": [],
   "source": []
  }
 ],
 "metadata": {
  "kernelspec": {
   "display_name": "python-ml-2025",
   "language": "python",
   "name": "python3"
  },
  "language_info": {
   "codemirror_mode": {
    "name": "ipython",
    "version": 3
   },
   "file_extension": ".py",
   "mimetype": "text/x-python",
   "name": "python",
   "nbconvert_exporter": "python",
   "pygments_lexer": "ipython3",
   "version": "3.12.10"
  }
 },
 "nbformat": 4,
 "nbformat_minor": 5
}
