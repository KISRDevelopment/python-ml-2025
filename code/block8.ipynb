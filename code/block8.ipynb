{
 "cells": [
  {
   "cell_type": "markdown",
   "id": "7a82a62b",
   "metadata": {},
   "source": [
    "# Block 8: JAX\n",
    "\n",
    "Wouldn't it be nice if we didn't have to do the derivative calculations manually? JAX is very similar to numpy, but it has a number of extra important capabilities, the most important of which is auto differentiation of arbitrary computations.\n",
    "\n",
    "I had a difficult choice at this juncture: whether to introduce you to the more common `pytorch` library, or whether to use the less known `jax`. The first is widely used and somewhat similar to numpy, but introduces a number of new concepts. `jax` is actually faster, and I feel that introduces minimal changes which will hopefully be easier to appreciate within the short time span of this course.\n",
    "\n",
    "## Objectives\n",
    "\n",
    "- Learn auto differentiation in JAX\n",
    "- Learn randomness in JAX\n",
    "- Modify our linear model to use JAX and auto differentiation\n",
    "- Quickly test the modified model\n",
    "- Modify the linear model to become non-linear\n",
    "- Quickly test the non-linear model"
   ]
  },
  {
   "cell_type": "code",
   "execution_count": 1,
   "id": "c385c418",
   "metadata": {},
   "outputs": [],
   "source": [
    "import numpy as np \n",
    "import pandas as pd \n",
    "from typing import List\n",
    "import jax.numpy as jnp \n",
    "import jax\n",
    "import matplotlib.pyplot as plt"
   ]
  },
  {
   "cell_type": "markdown",
   "id": "54dc4eec",
   "metadata": {},
   "source": [
    "## Autodiff"
   ]
  },
  {
   "cell_type": "code",
   "execution_count": 2,
   "id": "56d1ef9f",
   "metadata": {},
   "outputs": [
    {
     "data": {
      "text/plain": [
       "{'b0': Array(1., dtype=float32, weak_type=True),\n",
       " 'b1': Array(10., dtype=float32, weak_type=True)}"
      ]
     },
     "execution_count": 2,
     "metadata": {},
     "output_type": "execute_result"
    }
   ],
   "source": [
    "# simple gradient\n",
    "grad_fn = jax.grad(jax.numpy.sin)\n",
    "grad_fn(0.)\n",
    "grad_fn = jax.grad(jax.numpy.cos)\n",
    "grad_fn(0.)\n",
    "\n",
    "# gradient of a function that takes a parameter\n",
    "def some_fn(w):\n",
    "    return w * 2\n",
    "\n",
    "grad_fn = jax.grad(some_fn)\n",
    "grad_fn(4.)\n",
    "\n",
    "# gradient of a function that takes a parameter + an input\n",
    "def some_fn(w, x):\n",
    "    return w*x\n",
    "\n",
    "grad_fn = jax.grad(some_fn)\n",
    "grad_fn(4., 10)\n",
    "\n",
    "# gradient of a function that takes multiple parameters\n",
    "def some_fn(p, x):\n",
    "    return p['b0'] + p['b1'] * x \n",
    "\n",
    "grad_fn = jax.grad(some_fn)\n",
    "grad_fn({ \"b0\" : 1., \"b1\" : 3.5 }, 10.) # neat! will return derivative with respect to b0 and with respect to b1\n"
   ]
  },
  {
   "cell_type": "markdown",
   "id": "9c9d2213",
   "metadata": {},
   "source": [
    "## Randomness\n",
    "\n",
    "JAX is explicit about random number generation. There is no magical \"global\" random number generator seed. Instead, any function that involves any kind of randomness, but receive a \"key\" that controls how the random numbers are generated."
   ]
  },
  {
   "cell_type": "code",
   "execution_count": 3,
   "id": "efb58948",
   "metadata": {},
   "outputs": [
    {
     "name": "stdout",
     "output_type": "stream",
     "text": [
      "[-0.02830462  0.46713185  0.29570296]\n",
      "[-0.02830462  0.46713185  0.29570296]\n",
      "[ 0.07592554 -0.48634264  1.2903206 ]\n",
      "[ 0.07592554 -0.48634264  1.2903206 ]\n",
      "[ 0.07592554 -0.48634264  1.2903206 ]\n",
      "[ 0.07592554 -0.48634264  1.2903206 ]\n",
      "[ 0.07592554 -0.48634264  1.2903206 ]\n",
      "[ 0.07592554 -0.48634264  1.2903206 ]\n",
      "[ 0.07592554 -0.48634264  1.2903206 ]\n",
      "[ 0.07592554 -0.48634264  1.2903206 ]\n",
      "[ 0.07592554 -0.48634264  1.2903206 ]\n",
      "[ 0.07592554 -0.48634264  1.2903206 ]\n",
      "[ 0.07592554 -0.48634264  1.2903206 ]\n",
      "\n",
      "[ 0.07592554 -0.48634264  1.2903206 ]\n",
      "[-0.7197971  1.5521808 -0.8557356]\n",
      "[ 1.5832745   0.06891013 -0.23817426]\n",
      "[ 0.16889559 -1.978758   -1.169645  ]\n",
      "[ 0.32114476  0.21683139 -0.9483882 ]\n",
      "[-0.69533247  0.40693274  0.3515198 ]\n",
      "[-1.0713949   0.20744139  1.0686921 ]\n",
      "[-1.490867    0.15006733 -0.24445076]\n",
      "[ 0.64465773 -1.0203602  -1.672845  ]\n",
      "[1.1716218  0.42618108 0.23057559]\n",
      "\n",
      "[ 0.07592554 -0.48634264  1.2903206 ]\n",
      "[ 0.60576403  0.7990441  -0.908927  ]\n",
      "[ 0.4323065  0.5872638 -1.1416743]\n",
      "[-0.2818947 -1.367489  -1.6350379]\n",
      "[0.6549178  0.17345214 1.6018405 ]\n",
      "[-0.2166012  -1.9878021  -0.61060226]\n",
      "[-0.25440374 -0.6385937  -0.68521845]\n",
      "[ 0.2886397  -0.00963292  0.15268941]\n",
      "[ 0.14384735 -0.15262456 -1.7989424 ]\n",
      "[-1.3462586   0.5520057  -0.75974613]\n"
     ]
    }
   ],
   "source": [
    "key = jax.random.key(42)\n",
    "print(jax.random.normal(key, 3)) # generate 3 standard normal values\n",
    "\n",
    "print(jax.random.normal(key, 3)) # generate 3 standard normal values, because we are passing the same key, we get the same valeus\n",
    "\n",
    "key, _ = jax.random.split(key, 2) # split into two new \"child\" keys ... we just use the first one\n",
    "print(jax.random.normal(key, 3)) # generate 3 standard normal values, now the key is different so we get a diff value\n",
    "\n",
    "# this doesn't work, it will keep generating same value\n",
    "for i in range(10):\n",
    "    val = jax.random.normal(key, 3)\n",
    "    print(val)\n",
    "\n",
    "print()\n",
    "# a bit better but not ideal ...\n",
    "key = jax.random.key(42)\n",
    "for i in range(10):\n",
    "    key, _ = jax.random.split(key)\n",
    "    val = jax.random.normal(key, 3)\n",
    "    print(val)\n",
    "\n",
    "print()\n",
    "\n",
    "# good solution\n",
    "key = jax.random.key(42)\n",
    "for i in range(10):\n",
    "    loop_key = jax.random.fold_in(key, i)\n",
    "    val = jax.random.normal(loop_key, 3)\n",
    "    print(val)"
   ]
  },
  {
   "cell_type": "markdown",
   "id": "7db5d238",
   "metadata": {},
   "source": [
    "# LinearModel with AutoDiff\n",
    "\n",
    "I copied the functions from `linear_model_numpy.py` and made few changes to adapt the code to jax"
   ]
  },
  {
   "cell_type": "code",
   "execution_count": null,
   "id": "76d6802f",
   "metadata": {},
   "outputs": [],
   "source": [
    "def prepare_inputs(input_df):\n",
    "    \"\"\"\n",
    "        Prepares the input features that will be fed into the model.\n",
    "\n",
    "        Inputs:\n",
    "            input_df: the input dataframe into the function. Should consist ONLY of input features.\n",
    "        Outputs:\n",
    "            Z: the input feature matrix of size NxK, where K is the number of features\n",
    "    \"\"\"\n",
    "    # Let's identify categorical columns in a dataframe\n",
    "    categorical_cols = input_df.select_dtypes(include='object').columns\n",
    "    \n",
    "    # Let's identify the numeric columns in the dataframe\n",
    "    numeric_cols = input_df.select_dtypes(include='number').columns\n",
    "\n",
    "    # We want to construct the input features into the model\n",
    "    # We will use a numpy array that contains both numeric and categorically encoded values\n",
    "    X = input_df[numeric_cols].to_numpy() # (NxK)\n",
    "    \n",
    "    # Now we need to z-score the numeric features so that they can lead to efficient learning\n",
    "    col_means = np.mean(X, axis=0) # K\n",
    "    col_stds = np.std(X, axis=0, ddof=1) # K\n",
    "    \n",
    "    # Z-score\n",
    "    # (NxK - \n",
    "    #  1xK) \n",
    "    #  / \n",
    "    #  (1xK)\n",
    "    Z = (X - col_means[None, :]) / col_stds[None, :]\n",
    "    \n",
    "    # Now we want to code the categorical columns using one-hot encoding\n",
    "    for col in categorical_cols:\n",
    "        # NxC (C is the number of unique values in the column)\n",
    "        # So for origin this will be Nx3 \n",
    "        dummies = pd.get_dummies( input_df[col] ).to_numpy() \n",
    "        \n",
    "        # concatenate dummies matrix onto Z\n",
    "        #print(Z.shape)\n",
    "        #print(dummies.shape)\n",
    "        Z = np.hstack((Z, dummies)) \n",
    "    \n",
    "    # finally we want to add a column of ones at the start of Z\n",
    "    ones_col = np.ones((Z.shape[0], 1)) # Nx1\n",
    "    \n",
    "    Z = np.hstack((ones_col, Z))\n",
    "\n",
    "    # go to JAX domain\n",
    "    return jnp.array(Z) # <-- JAX\n",
    "\n",
    "@jax.jit # <-- this optimizes the function to run faster, but requires certain constraints. Mainly, no pandas!\n",
    "def forward_fn(Beta, Z):\n",
    "    \"\"\"\n",
    "        Linear regression forward function.\n",
    "        Implements the equation y(x) = b0 + b1 * x1 + b2 * x2 + ...\n",
    "        \n",
    "        Inputs:\n",
    "            Beta: the coefficients of the model (size K)\n",
    "            Z: the input feature matrix, as returned by prepare_inputs (size NxK)\n",
    "        Output:\n",
    "            yhat: the model's predictions (size N)\n",
    "    \"\"\"\n",
    "    return Z @ Beta\n",
    "\n",
    "def predict(Beta, input_df):\n",
    "    \"\"\"\n",
    "        Convienience function that prepares inputs and runs the forward function.\n",
    "\n",
    "        Inputs:\n",
    "            Beta: the coefficients of the model (size K)\n",
    "            input_df: input data frame (input features only, no output column).\n",
    "        Output:\n",
    "            yhat: the model's predictions (size N)\n",
    "    \"\"\"\n",
    "    Z = prepare_inputs(input_df)\n",
    "    return forward_fn(Beta, Z)\n",
    "\n",
    "@jax.jit # <-- optimize\n",
    "def loss_fn(Beta, Z, y):\n",
    "    \"\"\"\n",
    "        Computes the mean squared error loss function for the model.\n",
    "\n",
    "        Inputs:\n",
    "            Beta: the coefficients of the model (size K)\n",
    "            Z: the input feature matrix, as returned by prepare_inputs (size NxK)\n",
    "            y: actual observations (size N)\n",
    "        Output:\n",
    "            mse: mean squared error\n",
    "    \"\"\"\n",
    "    yhat = forward_fn(Beta, Z)\n",
    "    mse = jnp.mean(jnp.square(yhat - y)) # <-- JAX\n",
    "    return mse \n",
    "\n",
    "def optimize(rng, input_df, y, learning_rate, epochs):\n",
    "    \"\"\"\n",
    "        Input parameters:\n",
    "            rng: JAX random key to be used for initializing solution\n",
    "            input_df: dataframe containing input columns\n",
    "            y: a vector of outputs that we wish to predict\n",
    "            learning_rate: how quickly we want gradient descent learning\n",
    "            epochs: the number of steps of gradient descent\n",
    "        Output:\n",
    "            Beta: fitted model parameters\n",
    "    \"\"\"\n",
    "\n",
    "    # move y into jax's domain\n",
    "    y = jnp.array(y) # <-- JAX\n",
    "    \n",
    "    # Create a function that computes the gradient of the loss_fn with respect to the first argument (Beta)\n",
    "    grad_fn = jax.grad(loss_fn) # <-- JAX\n",
    "\n",
    "    # Prepare our inputs into the linear regression\n",
    "    Z = prepare_inputs(input_df) # NxK\n",
    "\n",
    "    # Randomly initialize our solution\n",
    "    Beta = jax.random.normal(key = rng, shape=Z.shape[1]) # <-- JAX\n",
    "    \n",
    "    # Run gradient descent loop\n",
    "    for i in range(epochs):\n",
    "        # compute gradient\n",
    "        # this is very powerful ... JAX takes care of derivative computation\n",
    "        # so loss_fn (and forward_fn) could be as complex as you like\n",
    "        # as long as they are reasonably continous\n",
    "        Beta_grad = grad_fn(Beta, Z, y) # <-- JAX\n",
    "        \n",
    "        # Update the parameters\n",
    "        Beta = Beta - learning_rate * Beta_grad\n",
    "\n",
    "    # Beta is the fitted parameter values\n",
    "    return Beta\n"
   ]
  },
  {
   "cell_type": "code",
   "execution_count": 11,
   "id": "2a8de1a1",
   "metadata": {},
   "outputs": [
    {
     "name": "stdout",
     "output_type": "stream",
     "text": [
      "Before:  (406, 9)\n",
      "After:  (392, 9)\n"
     ]
    }
   ],
   "source": [
    "# load dataset\n",
    "df = pd.read_json('../data/cars.json')\n",
    "\n",
    "# Filter dataframe\n",
    "required_cols = ['Miles_per_Gallon', 'Cylinders', 'Displacement', 'Horsepower', 'Weight_in_lbs', 'Acceleration', 'Origin']\n",
    "\n",
    "# only include rows where ALL columns are not nan\n",
    "ix_included = np.sum(pd.isna(df[required_cols]), axis=1) == 0\n",
    "\n",
    "# exclude examples with no horsepower or mpg\n",
    "print(\"Before: \", df.shape)\n",
    "df = df[ix_included]\n",
    "print(\"After: \", df.shape)\n",
    "df = df[required_cols]"
   ]
  },
  {
   "cell_type": "code",
   "execution_count": 9,
   "id": "ca6547d8",
   "metadata": {},
   "outputs": [
    {
     "name": "stdout",
     "output_type": "stream",
     "text": [
      "19.055416\n"
     ]
    }
   ],
   "source": [
    "# Let's test the new class \n",
    "rng = jax.random.key(1234)\n",
    "\n",
    "input_features = ['Displacement', 'Origin', 'Cylinders', 'Horsepower']\n",
    "input_df = df[input_features]\n",
    "y = df.Miles_per_Gallon.to_numpy()\n",
    "\n",
    "Beta = optimize(rng, input_df, y, learning_rate=0.1, epochs=500)\n",
    "Beta\n",
    "\n",
    "Z = prepare_inputs(input_df)\n",
    "mse = loss_fn(Beta, Z, y)\n",
    "print(mse)\n",
    "\n",
    "# try with different rng seed"
   ]
  },
  {
   "cell_type": "markdown",
   "id": "35c8439e",
   "metadata": {},
   "source": [
    "## Non-Linear Model\n",
    "\n",
    "Let's make a slight change to the model, so that it is non-linear:\n",
    "\n",
    "$f(\\mathbf{x}_{i})=\\text{exp}(\\frac{1}{K}(b_{0}+b_{1}x_{i1}+...+b_{k}x_{iK}))$"
   ]
  },
  {
   "cell_type": "code",
   "execution_count": 12,
   "id": "a4ae90b3",
   "metadata": {},
   "outputs": [],
   "source": [
    "@jax.jit\n",
    "def forward_fn(Beta, Z):\n",
    "    \"\"\"\n",
    "        Nonlinear model forward function.\n",
    "        Implements the equation y(x) = exp(b0 + b1 * x1 + b2 * x2 + ...)\n",
    "        \n",
    "        Inputs:\n",
    "            Beta: the coefficients of the model (size K)\n",
    "            Z: the input feature matrix, as returned by prepare_inputs (size NxK)\n",
    "        Output:\n",
    "            yhat: the model's predictions (size N)\n",
    "    \"\"\"\n",
    "    u = Z @ Beta # NxK @ K = N\n",
    "    u = u / Z.shape[1]\n",
    "    return jnp.exp(u)\n",
    "\n",
    "# At this point, forward_fn overrides the previous definition\n",
    "# so all the functions that use forward_fn will be using the latest one instead\n",
    "# even if you try to run the cell above, it will use this function."
   ]
  },
  {
   "cell_type": "code",
   "execution_count": 13,
   "id": "1d904ce1",
   "metadata": {},
   "outputs": [
    {
     "name": "stdout",
     "output_type": "stream",
     "text": [
      "16.242918\n"
     ]
    }
   ],
   "source": [
    "# Let's test the new class \n",
    "rng = jax.random.key(143143)\n",
    "\n",
    "input_features = ['Displacement', 'Origin', 'Cylinders', 'Horsepower']\n",
    "input_df = df[input_features]\n",
    "y = df.Miles_per_Gallon.to_numpy()\n",
    "\n",
    "Beta = optimize(rng, input_df, y, learning_rate=0.01, epochs=500)\n",
    "\n",
    "Z = prepare_inputs(input_df)\n",
    "mse = loss_fn(Beta, Z, y)\n",
    "print(mse)\n",
    "\n",
    "# try with different rng seed"
   ]
  },
  {
   "cell_type": "code",
   "execution_count": 15,
   "id": "6f4d662e",
   "metadata": {},
   "outputs": [
    {
     "data": {
      "text/plain": [
       "[<matplotlib.lines.Line2D at 0x133cd8560>]"
      ]
     },
     "execution_count": 15,
     "metadata": {},
     "output_type": "execute_result"
    },
    {
     "data": {
      "image/png": "[encoded data removed]",
      "text/plain": [
       "<Figure size 500x500 with 1 Axes>"
      ]
     },
     "metadata": {},
     "output_type": "display_data"
    }
   ],
   "source": [
    "yhat = predict(Beta, input_df)\n",
    "\n",
    "fig, ax = plt.subplots(1, 1, figsize=(5, 5))\n",
    "\n",
    "ax.plot(input_df.Horsepower, df.Miles_per_Gallon, marker='o', linestyle='')\n",
    "ax.plot(input_df.Horsepower, yhat, marker='x', linestyle='', color='orange')"
   ]
  }
 ],
 "metadata": {
  "kernelspec": {
   "display_name": "python-ml-2025",
   "language": "python",
   "name": "python3"
  },
  "language_info": {
   "codemirror_mode": {
    "name": "ipython",
    "version": 3
   },
   "file_extension": ".py",
   "mimetype": "text/x-python",
   "name": "python",
   "nbconvert_exporter": "python",
   "pygments_lexer": "ipython3",
   "version": "3.12.10"
  }
 },
 "nbformat": 4,
 "nbformat_minor": 5
}
