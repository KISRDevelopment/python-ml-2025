{
 "cells": [
  {
   "cell_type": "markdown",
   "id": "f6adf700",
   "metadata": {},
   "source": [
    "# Block 1: What is Machine Learning"
   ]
  },
  {
   "cell_type": "markdown",
   "id": "c7d40fe5",
   "metadata": {},
   "source": [
    "## Overview of Numpy\n",
    "\n",
    "`numpy` is a the heart of many data science and ML frameworks in Python. By default, Python cannot do vector operations like in matlab, where you can simply add two vectors `a` and `b` with a statement like `a + b`. `numpy` adds that ability to Python."
   ]
  },
  {
   "cell_type": "markdown",
   "id": "c6f7044f",
   "metadata": {},
   "source": [
    "### Vectors"
   ]
  },
  {
   "cell_type": "code",
   "execution_count": null,
   "id": "848b61f7",
   "metadata": {},
   "outputs": [
    {
     "name": "stdout",
     "output_type": "stream",
     "text": [
      "1 , 2.5 , 3.7\n",
      "[1.  2.5 3.7]\n",
      "[2.  5.  7.4]\n",
      "(3,)\n",
      "[5.  6.5 7.7]\n",
      "[ 1.    6.25 13.69]\n",
      "[0.33333333 0.83333333 1.23333333]\n",
      "[ 1.    6.25 13.69]\n",
      "20.94\n",
      "[0 1 2 3 4]\n",
      "[0 1 2 3 4]\n",
      "[1 2 3 4]\n",
      "[5 4 3 2]\n",
      "[0 2 4]\n",
      "[0.   0.25 0.5  0.75 1.  ]\n",
      "[ 10.          11.93877551  13.87755102  15.81632653  17.75510204\n",
      "  19.69387755  21.63265306  23.57142857  25.51020408  27.44897959\n",
      "  29.3877551   31.32653061  33.26530612  35.20408163  37.14285714\n",
      "  39.08163265  41.02040816  42.95918367  44.89795918  46.83673469\n",
      "  48.7755102   50.71428571  52.65306122  54.59183673  56.53061224\n",
      "  58.46938776  60.40816327  62.34693878  64.28571429  66.2244898\n",
      "  68.16326531  70.10204082  72.04081633  73.97959184  75.91836735\n",
      "  77.85714286  79.79591837  81.73469388  83.67346939  85.6122449\n",
      "  87.55102041  89.48979592  91.42857143  93.36734694  95.30612245\n",
      "  97.24489796  99.18367347 101.12244898 103.06122449 105.        ]\n"
     ]
    }
   ],
   "source": [
    "# gotta have this before you use the numpy module\n",
    "# it says: make all the features from the numpy module available with a short\n",
    "# prefix of np \n",
    "import numpy as np\n",
    "\n",
    "# this is a regular Python array\n",
    "a = [1, 2.5, 3.7]\n",
    "\n",
    "# we access python arrays with a zero-based index:\n",
    "print(a[0], ',', a[1], ',', a[2])\n",
    "\n",
    "# Exercise: see what happens if you try to do: a + a\n",
    "\n",
    "# let's sprinke some numpy magic: this is a numpy array now\n",
    "# if \n",
    "a = np.array(a)\n",
    "print(a)\n",
    "\n",
    "# in the notebook, the value of the last expression in the cell is automatically printed\n",
    "# the vector a is added to itself\n",
    "print(a + a)\n",
    "\n",
    "# each vector has a shape\n",
    "print(a.shape)  # prints (3,): indicating a vector of 3 elements\n",
    "\n",
    "# we can do other math operations and they'd work as you'd expect\n",
    "print(a + 4) # 5, 6.5, 7.7\n",
    "print(a * a) # 1, 6.25, 13.69\n",
    "print(a / 3.0) # 0.33, 0.833, 1.23\n",
    "print(a ** 2) # 1, 6.25, 13.69\n",
    "\n",
    "# how about this cool operator:\n",
    "print(a @ a) # 20.94, @ is the 'dot product' operator\n",
    "\n",
    "# we can initialize a vector to a sequential integer range\n",
    "# first arg: start index (default 0)\n",
    "# second arg: one MORE than the end index\n",
    "# third arg: increment (default 1)\n",
    "print(np.arange(start=0, stop=5, step=1))\n",
    "print(np.arange(5)) # [0,1,2,3,4]\n",
    "print(np.arange(1, 5)) # [1,2,3,4]\n",
    "print(np.arange(5, 1, -1)) # [5,4,3,2]\n",
    "print(np.arange(0, 5, 2)) # [0, 2, 4]\n",
    "\n",
    "# we can create a vector of equally spaced points\n",
    "a = np.linspace(start = 0, stop = 1, num=5)\n",
    "print(a)\n",
    "print(np.linspace(10, 105))"
   ]
  },
  {
   "cell_type": "markdown",
   "id": "fec40dce",
   "metadata": {},
   "source": [
    "### Vector Indexing"
   ]
  },
  {
   "cell_type": "code",
   "execution_count": null,
   "id": "b3ae15a7",
   "metadata": {},
   "outputs": [
    {
     "name": "stdout",
     "output_type": "stream",
     "text": [
      "1\n",
      "2.5\n",
      "[1, 2.5, 100]\n",
      "[4 5 6]\n",
      "[4 5 6]\n",
      "[3 5 5 5 7 8 9]\n",
      "[3 0 1 2 7 8 9]\n",
      "[ True  True  True  True False False False]\n",
      "[3 0 1 2]\n"
     ]
    }
   ],
   "source": [
    "# this is a regular Python array\n",
    "a = [1, 2.5, 3.7]\n",
    "# we can index and set elements as though it is a normal array\n",
    "print(a[0])\n",
    "print(a[1])\n",
    "\n",
    "a[2] = 100\n",
    "print(a) # 1, 2.5, 100\n",
    "\n",
    "# let's reset the array\n",
    "a = np.array([3, 4, 5, 6, 7, 8, 9])\n",
    "\n",
    "# get a _slice_ of an array\n",
    "print(a[1:4]) # prints a[1], a[2], a[3] [4 5 6]\n",
    "print(a[[1,2,3]]) # same thing\n",
    "\n",
    "# set a slice of the array to a constant\n",
    "a[1:4] = 5\n",
    "print(a) # [3 5 5 5 7 8 9]\n",
    "\n",
    "# set a slice to an array\n",
    "a[1:4] = [0, 1, 2]\n",
    "print(a) # [3 0 1 2 7 8 9]\n",
    "\n",
    "# error: setting a slice to an array that is different length\n",
    "#a[1:4] = [5, 6]\n",
    "#print(a)\n",
    "\n",
    "# look at this operation: it returns a _boolean_ vector, where each element is true whenever the element in a is less than 6\n",
    "print(a < 6)\n",
    "\n",
    "# get the elements that are less than 6 (this is called boolean indexing)\n",
    "print(a[a < 6]) # [3, 0, 1, 2]"
   ]
  },
  {
   "cell_type": "markdown",
   "id": "81c16aad",
   "metadata": {},
   "source": [
    "### Aggregations"
   ]
  },
  {
   "cell_type": "code",
   "execution_count": 44,
   "id": "b9211b1d",
   "metadata": {},
   "outputs": [
    {
     "name": "stdout",
     "output_type": "stream",
     "text": [
      "42\n",
      "6.0\n",
      "6.0\n",
      "2.0\n",
      "9\n",
      "3\n",
      "6\n",
      "0\n"
     ]
    }
   ],
   "source": [
    "# let's reset the array\n",
    "a = np.array([3, 4, 5, 6, 7, 8, 9])\n",
    "\n",
    "print(np.sum(a)) # 42\n",
    "print(np.mean(a)) # 6\n",
    "print(np.median(a)) # 6\n",
    "print(np.std(a)) # 2\n",
    "print(np.max(a)) # 9\n",
    "print(np.min(a)) # 3\n",
    "print(np.argmax(a)) # INDEX of the maximum element\n",
    "print(np.argmin(a)) # INDEX of the minimum element"
   ]
  },
  {
   "cell_type": "markdown",
   "id": "1d9a1012",
   "metadata": {},
   "source": [
    "### Multidimensional arrays"
   ]
  },
  {
   "cell_type": "code",
   "execution_count": 67,
   "id": "68d9b901",
   "metadata": {},
   "outputs": [
    {
     "name": "stdout",
     "output_type": "stream",
     "text": [
      "[[ 1  2  3]\n",
      " [ 4  5  6]\n",
      " [ 7  8  9]\n",
      " [10 11 12]]\n",
      "[[ 1  2  3]\n",
      " [ 4  5  6]\n",
      " [ 7  8  9]\n",
      " [10 11 12]]\n",
      "(4, 3)\n",
      "4\n",
      "3\n",
      "[ 1  4  7 10]\n",
      "[ 2  5  8 11]\n",
      "[ 3  6  9 12]\n",
      "[1 2 3]\n",
      "[4 5 6]\n",
      "[[1 2 3]\n",
      " [4 5 6]]\n",
      "[[ 1  2]\n",
      " [ 4  5]\n",
      " [ 7  8]\n",
      " [10 11]]\n",
      "[[1 2]\n",
      " [4 5]\n",
      " [7 8]]\n",
      "[1 5 7]\n"
     ]
    }
   ],
   "source": [
    "# this is a Python \"multidimensional array\": an array of arrays\n",
    "a = [[1,2,3],\n",
    "     [4,5,6],\n",
    "     [7,8,9],\n",
    "     [10,11,12]]\n",
    "\n",
    "\n",
    "# again, it is awkard to do anything useful with it numerically\n",
    "# with numpy, it becomes a 2d matrix\n",
    "a = np.array(a)\n",
    "print(a)\n",
    "print(a)\n",
    "print(a.shape)\n",
    "print(a.shape[0])\n",
    "print(a.shape[1])\n",
    "\n",
    "# let's get the first column:\n",
    "print(a[:, 0]) # [1, 4, 7, 10]\n",
    "print(a[:, 1]) # [2, 5, 8, 11] second column\n",
    "print(a[:, 2]) # [3, 6, 9, 12] third column\n",
    "# notice how all of the above return simple vectors\n",
    "\n",
    "# we can also get the rows\n",
    "print(a[0, :]) # [1, 2, 3]\n",
    "print(a[1, :]) # [4, 5, 6]\n",
    "\n",
    "# get a sub-matrix consisting of 1st and 2nd rows\n",
    "print(a[[0,1],:]) # [[1,2,3],[4,5,6]]\n",
    "print(a[:,[0,1]]) # first two columns\n",
    "\n",
    "# what if we want specific block from the matrix?\n",
    "# would this work?\n",
    "#print(a[[0,1,2],[0,1]]) # error\n",
    "\n",
    "# gotta do it in two stages\n",
    "b = a[[0,1,2], :]\n",
    "b = b[:, [0,1]]\n",
    "print(b)\n",
    "\n",
    "# what if\n",
    "print(a[[0,1,2],[0,1, 0]]) # returns a vector of elements at (0, 0), (1, 1), (2, 0)\n"
   ]
  },
  {
   "cell_type": "markdown",
   "id": "b4e4422f",
   "metadata": {},
   "source": [
    "### Broadcasting\n",
    "\n",
    "This is one of `numpy`'s most powerful features. It allows you to avoid have loops in your code."
   ]
  },
  {
   "cell_type": "code",
   "execution_count": 81,
   "id": "a6a8858c",
   "metadata": {},
   "outputs": [
    {
     "name": "stdout",
     "output_type": "stream",
     "text": [
      "[[1 2]\n",
      " [5 6]\n",
      " [5 6]]\n",
      "[[ 1  1]\n",
      " [ 2  2]\n",
      " [-1 -1]]\n",
      "[[1 2]\n",
      " [5 6]\n",
      " [5 6]]\n",
      "[[ 1  2 -1]]\n",
      "[[ 1]\n",
      " [ 2]\n",
      " [-1]]\n",
      "[[1 2]\n",
      " [5 6]\n",
      " [5 6]]\n",
      "[[  0   0  10   1]\n",
      " [ -3   0 100 304]\n",
      " [ -6   0 190 607]]\n"
     ]
    }
   ],
   "source": [
    "# Let's say you want to add a vector to every column in a matrix\n",
    "vec = np.array([1, 2, -1])\n",
    "m = np.array([ [0, 1], [3, 4], [6, 7] ])\n",
    "\n",
    "# manual inefficient way:\n",
    "r = np.zeros_like(m)\n",
    "for j in range(m.shape[1]):\n",
    "    r[:, j] = m[:, j] + vec  # adding jth column vector to vec and storing back in jth column\n",
    "print(r)\n",
    "\n",
    "# efficient way\n",
    "#print(m + vec) # not quite, shape mismatch\n",
    "\n",
    "# what we really want is to repeat the vector to match the shape of m\n",
    "# so that we can then add them together\n",
    "# so imagine this\n",
    "repeated_vec = np.array([[1, 1], [2, 2], [-1, -1]])\n",
    "print(repeated_vec)\n",
    "print(m + repeated_vec) # perfect! but how to 'repeat' the vector\n",
    "\n",
    "# first, lets see how to ADD a dimension to a vector\n",
    "print(vec[None, :]) # vec is now a matrix with one row and 3 columns (shape (1, 3))\n",
    "print(vec[:, None]) # vec is now a matrix with 3 rows and one column (shape (3, 1))\n",
    "\n",
    "# now we can add each column of m to vec\n",
    "# Think of it in terms of dimensions: I want to add a column vector to each column \n",
    "# in a matrix\n",
    "# In terms of shapes, that would be like (3x1) + (3x2) = (3x2) <-- resulting shape\n",
    "# a dimension will be compatible if they are equal, or if one of them is one\n",
    "# so 3 = 3, and 1 is compatible with 2.\n",
    "# That dimension will be 'stretched' to become size 2. Just like repeated_vec above!\n",
    "print(vec[:, None] + m) # no loops necessary!\n",
    "\n",
    "# Exercise: add a row vector to a matrix\n",
    "\n",
    "# Advice: ALWAYS trace the shapes of your matrix operations to keep your sanity\n",
    "\n",
    "# Matrix multiplication: (3x2) @ (2x4) = (3x4)\n",
    "m1 = np.array([ [0, 1], [3, 4], [6, 7] ])\n",
    "m2 = np.array([ [-1, 0, 20, 100], [0, 0, 10, 1] ])\n",
    "print(m1 @ m2)\n"
   ]
  },
  {
   "cell_type": "markdown",
   "id": "17f1065e",
   "metadata": {
    "vscode": {
     "languageId": "markdown"
    }
   },
   "source": [
    "### Aggregations with matrices"
   ]
  },
  {
   "cell_type": "code",
   "execution_count": 82,
   "id": "8d39cc32",
   "metadata": {},
   "outputs": [
    {
     "name": "stdout",
     "output_type": "stream",
     "text": [
      "[ 9 12]\n",
      "[ 1  7 13]\n",
      "[6 7]\n"
     ]
    }
   ],
   "source": [
    "mat = np.array([ [0, 1], [3, 4], [6, 7] ])\n",
    "\n",
    "print(np.sum(mat, axis=0)) # get the sum of each column\n",
    "print(np.sum(mat, axis=1)) # get the sum of each row\n",
    "print(np.max(mat, axis=0)) # get the max of each column ..."
   ]
  },
  {
   "cell_type": "markdown",
   "id": "026022f5",
   "metadata": {},
   "source": [
    "# Overview of Pandas\n",
    "\n",
    "`numpy` is great but often you have some tabular data (an excel sheet, a CSV file) that you would like to load with column names. `pandas` is another powerful library that is built on top of `numpy` that allows you to easily load and manipulate _dataframes_, which are just tables."
   ]
  },
  {
   "cell_type": "code",
   "execution_count": 83,
   "id": "15ffa63a",
   "metadata": {},
   "outputs": [],
   "source": [
    "import pandas as pd "
   ]
  },
  {
   "cell_type": "code",
   "execution_count": 91,
   "id": "f5f2c785",
   "metadata": {},
   "outputs": [
    {
     "data": {
      "text/plain": [
       "np.float64(0.75)"
      ]
     },
     "execution_count": 91,
     "metadata": {},
     "output_type": "execute_result"
    }
   ],
   "source": [
    "# lets create a dataframe from a conventional numpy array\n",
    "mat = np.array([ [4, 0.5], [10, 0.75], [3, 0.3] ])\n",
    "df = pd.DataFrame(data = mat,\n",
    "                  columns = ['stock', 'price_kd'])\n",
    "df\n",
    "\n",
    "\n",
    "# lets get the stock column\n",
    "df.stock\n",
    "\n",
    "# do usual aggregations\n",
    "df.stock.mean()\n",
    "\n",
    "# access second row\n",
    "df.iloc[1]\n",
    "\n",
    "df.iloc[1].price_kd"
   ]
  },
  {
   "cell_type": "markdown",
   "id": "3f0e9d78",
   "metadata": {},
   "source": [
    "## Loading a dataset"
   ]
  },
  {
   "cell_type": "code",
   "execution_count": null,
   "id": "4ff645f2",
   "metadata": {},
   "outputs": [
    {
     "data": {
      "text/html": [
       "<div>\n",
       "<style scoped>\n",
       "    .dataframe tbody tr th:only-of-type {\n",
       "        vertical-align: middle;\n",
       "    }\n",
       "\n",
       "    .dataframe tbody tr th {\n",
       "        vertical-align: top;\n",
       "    }\n",
       "\n",
       "    .dataframe thead th {\n",
       "        text-align: right;\n",
       "    }\n",
       "</style>\n",
       "<table border=\"1\" class=\"dataframe\">\n",
       "  <thead>\n",
       "    <tr style=\"text-align: right;\">\n",
       "      <th></th>\n",
       "      <th>Name</th>\n",
       "      <th>Miles_per_Gallon</th>\n",
       "      <th>Cylinders</th>\n",
       "      <th>Displacement</th>\n",
       "      <th>Horsepower</th>\n",
       "      <th>Weight_in_lbs</th>\n",
       "      <th>Acceleration</th>\n",
       "      <th>Year</th>\n",
       "      <th>Origin</th>\n",
       "    </tr>\n",
       "  </thead>\n",
       "  <tbody>\n",
       "    <tr>\n",
       "      <th>0</th>\n",
       "      <td>chevrolet chevelle malibu</td>\n",
       "      <td>18.0</td>\n",
       "      <td>8</td>\n",
       "      <td>307.0</td>\n",
       "      <td>130.0</td>\n",
       "      <td>3504</td>\n",
       "      <td>12.0</td>\n",
       "      <td>1970-01-01</td>\n",
       "      <td>USA</td>\n",
       "    </tr>\n",
       "    <tr>\n",
       "      <th>1</th>\n",
       "      <td>buick skylark 320</td>\n",
       "      <td>15.0</td>\n",
       "      <td>8</td>\n",
       "      <td>350.0</td>\n",
       "      <td>165.0</td>\n",
       "      <td>3693</td>\n",
       "      <td>11.5</td>\n",
       "      <td>1970-01-01</td>\n",
       "      <td>USA</td>\n",
       "    </tr>\n",
       "    <tr>\n",
       "      <th>2</th>\n",
       "      <td>plymouth satellite</td>\n",
       "      <td>18.0</td>\n",
       "      <td>8</td>\n",
       "      <td>318.0</td>\n",
       "      <td>150.0</td>\n",
       "      <td>3436</td>\n",
       "      <td>11.0</td>\n",
       "      <td>1970-01-01</td>\n",
       "      <td>USA</td>\n",
       "    </tr>\n",
       "    <tr>\n",
       "      <th>3</th>\n",
       "      <td>amc rebel sst</td>\n",
       "      <td>16.0</td>\n",
       "      <td>8</td>\n",
       "      <td>304.0</td>\n",
       "      <td>150.0</td>\n",
       "      <td>3433</td>\n",
       "      <td>12.0</td>\n",
       "      <td>1970-01-01</td>\n",
       "      <td>USA</td>\n",
       "    </tr>\n",
       "    <tr>\n",
       "      <th>4</th>\n",
       "      <td>ford torino</td>\n",
       "      <td>17.0</td>\n",
       "      <td>8</td>\n",
       "      <td>302.0</td>\n",
       "      <td>140.0</td>\n",
       "      <td>3449</td>\n",
       "      <td>10.5</td>\n",
       "      <td>1970-01-01</td>\n",
       "      <td>USA</td>\n",
       "    </tr>\n",
       "    <tr>\n",
       "      <th>...</th>\n",
       "      <td>...</td>\n",
       "      <td>...</td>\n",
       "      <td>...</td>\n",
       "      <td>...</td>\n",
       "      <td>...</td>\n",
       "      <td>...</td>\n",
       "      <td>...</td>\n",
       "      <td>...</td>\n",
       "      <td>...</td>\n",
       "    </tr>\n",
       "    <tr>\n",
       "      <th>401</th>\n",
       "      <td>ford mustang gl</td>\n",
       "      <td>27.0</td>\n",
       "      <td>4</td>\n",
       "      <td>140.0</td>\n",
       "      <td>86.0</td>\n",
       "      <td>2790</td>\n",
       "      <td>15.6</td>\n",
       "      <td>1982-01-01</td>\n",
       "      <td>USA</td>\n",
       "    </tr>\n",
       "    <tr>\n",
       "      <th>402</th>\n",
       "      <td>vw pickup</td>\n",
       "      <td>44.0</td>\n",
       "      <td>4</td>\n",
       "      <td>97.0</td>\n",
       "      <td>52.0</td>\n",
       "      <td>2130</td>\n",
       "      <td>24.6</td>\n",
       "      <td>1982-01-01</td>\n",
       "      <td>Europe</td>\n",
       "    </tr>\n",
       "    <tr>\n",
       "      <th>403</th>\n",
       "      <td>dodge rampage</td>\n",
       "      <td>32.0</td>\n",
       "      <td>4</td>\n",
       "      <td>135.0</td>\n",
       "      <td>84.0</td>\n",
       "      <td>2295</td>\n",
       "      <td>11.6</td>\n",
       "      <td>1982-01-01</td>\n",
       "      <td>USA</td>\n",
       "    </tr>\n",
       "    <tr>\n",
       "      <th>404</th>\n",
       "      <td>ford ranger</td>\n",
       "      <td>28.0</td>\n",
       "      <td>4</td>\n",
       "      <td>120.0</td>\n",
       "      <td>79.0</td>\n",
       "      <td>2625</td>\n",
       "      <td>18.6</td>\n",
       "      <td>1982-01-01</td>\n",
       "      <td>USA</td>\n",
       "    </tr>\n",
       "    <tr>\n",
       "      <th>405</th>\n",
       "      <td>chevy s-10</td>\n",
       "      <td>31.0</td>\n",
       "      <td>4</td>\n",
       "      <td>119.0</td>\n",
       "      <td>82.0</td>\n",
       "      <td>2720</td>\n",
       "      <td>19.4</td>\n",
       "      <td>1982-01-01</td>\n",
       "      <td>USA</td>\n",
       "    </tr>\n",
       "  </tbody>\n",
       "</table>\n",
       "<p>406 rows × 9 columns</p>\n",
       "</div>"
      ],
      "text/plain": [
       "                          Name  Miles_per_Gallon  Cylinders  Displacement  \\\n",
       "0    chevrolet chevelle malibu              18.0          8         307.0   \n",
       "1            buick skylark 320              15.0          8         350.0   \n",
       "2           plymouth satellite              18.0          8         318.0   \n",
       "3                amc rebel sst              16.0          8         304.0   \n",
       "4                  ford torino              17.0          8         302.0   \n",
       "..                         ...               ...        ...           ...   \n",
       "401            ford mustang gl              27.0          4         140.0   \n",
       "402                  vw pickup              44.0          4          97.0   \n",
       "403              dodge rampage              32.0          4         135.0   \n",
       "404                ford ranger              28.0          4         120.0   \n",
       "405                 chevy s-10              31.0          4         119.0   \n",
       "\n",
       "     Horsepower  Weight_in_lbs  Acceleration        Year  Origin  \n",
       "0         130.0           3504          12.0  1970-01-01     USA  \n",
       "1         165.0           3693          11.5  1970-01-01     USA  \n",
       "2         150.0           3436          11.0  1970-01-01     USA  \n",
       "3         150.0           3433          12.0  1970-01-01     USA  \n",
       "4         140.0           3449          10.5  1970-01-01     USA  \n",
       "..          ...            ...           ...         ...     ...  \n",
       "401        86.0           2790          15.6  1982-01-01     USA  \n",
       "402        52.0           2130          24.6  1982-01-01  Europe  \n",
       "403        84.0           2295          11.6  1982-01-01     USA  \n",
       "404        79.0           2625          18.6  1982-01-01     USA  \n",
       "405        82.0           2720          19.4  1982-01-01     USA  \n",
       "\n",
       "[406 rows x 9 columns]"
      ]
     },
     "execution_count": 95,
     "metadata": {},
     "output_type": "execute_result"
    }
   ],
   "source": [
    "df = pd.read_json('../data/cars.json')\n",
    "df"
   ]
  },
  {
   "cell_type": "code",
   "execution_count": 103,
   "id": "2a73e230",
   "metadata": {},
   "outputs": [
    {
     "data": {
      "text/html": [
       "<div>\n",
       "<style scoped>\n",
       "    .dataframe tbody tr th:only-of-type {\n",
       "        vertical-align: middle;\n",
       "    }\n",
       "\n",
       "    .dataframe tbody tr th {\n",
       "        vertical-align: top;\n",
       "    }\n",
       "\n",
       "    .dataframe thead th {\n",
       "        text-align: right;\n",
       "    }\n",
       "</style>\n",
       "<table border=\"1\" class=\"dataframe\">\n",
       "  <thead>\n",
       "    <tr style=\"text-align: right;\">\n",
       "      <th></th>\n",
       "      <th>Miles_per_Gallon</th>\n",
       "      <th>Cylinders</th>\n",
       "      <th>Displacement</th>\n",
       "      <th>Horsepower</th>\n",
       "      <th>Weight_in_lbs</th>\n",
       "      <th>Acceleration</th>\n",
       "    </tr>\n",
       "  </thead>\n",
       "  <tbody>\n",
       "    <tr>\n",
       "      <th>count</th>\n",
       "      <td>398.000000</td>\n",
       "      <td>406.000000</td>\n",
       "      <td>406.000000</td>\n",
       "      <td>400.000000</td>\n",
       "      <td>406.000000</td>\n",
       "      <td>406.000000</td>\n",
       "    </tr>\n",
       "    <tr>\n",
       "      <th>mean</th>\n",
       "      <td>23.514573</td>\n",
       "      <td>5.475369</td>\n",
       "      <td>194.779557</td>\n",
       "      <td>105.082500</td>\n",
       "      <td>2979.413793</td>\n",
       "      <td>15.519704</td>\n",
       "    </tr>\n",
       "    <tr>\n",
       "      <th>std</th>\n",
       "      <td>7.815984</td>\n",
       "      <td>1.712160</td>\n",
       "      <td>104.922458</td>\n",
       "      <td>38.768779</td>\n",
       "      <td>847.004328</td>\n",
       "      <td>2.803359</td>\n",
       "    </tr>\n",
       "    <tr>\n",
       "      <th>min</th>\n",
       "      <td>9.000000</td>\n",
       "      <td>3.000000</td>\n",
       "      <td>68.000000</td>\n",
       "      <td>46.000000</td>\n",
       "      <td>1613.000000</td>\n",
       "      <td>8.000000</td>\n",
       "    </tr>\n",
       "    <tr>\n",
       "      <th>25%</th>\n",
       "      <td>17.500000</td>\n",
       "      <td>4.000000</td>\n",
       "      <td>105.000000</td>\n",
       "      <td>75.750000</td>\n",
       "      <td>2226.500000</td>\n",
       "      <td>13.700000</td>\n",
       "    </tr>\n",
       "    <tr>\n",
       "      <th>50%</th>\n",
       "      <td>23.000000</td>\n",
       "      <td>4.000000</td>\n",
       "      <td>151.000000</td>\n",
       "      <td>95.000000</td>\n",
       "      <td>2822.500000</td>\n",
       "      <td>15.500000</td>\n",
       "    </tr>\n",
       "    <tr>\n",
       "      <th>75%</th>\n",
       "      <td>29.000000</td>\n",
       "      <td>8.000000</td>\n",
       "      <td>302.000000</td>\n",
       "      <td>130.000000</td>\n",
       "      <td>3618.250000</td>\n",
       "      <td>17.175000</td>\n",
       "    </tr>\n",
       "    <tr>\n",
       "      <th>max</th>\n",
       "      <td>46.600000</td>\n",
       "      <td>8.000000</td>\n",
       "      <td>455.000000</td>\n",
       "      <td>230.000000</td>\n",
       "      <td>5140.000000</td>\n",
       "      <td>24.800000</td>\n",
       "    </tr>\n",
       "  </tbody>\n",
       "</table>\n",
       "</div>"
      ],
      "text/plain": [
       "       Miles_per_Gallon   Cylinders  Displacement  Horsepower  Weight_in_lbs  \\\n",
       "count        398.000000  406.000000    406.000000  400.000000     406.000000   \n",
       "mean          23.514573    5.475369    194.779557  105.082500    2979.413793   \n",
       "std            7.815984    1.712160    104.922458   38.768779     847.004328   \n",
       "min            9.000000    3.000000     68.000000   46.000000    1613.000000   \n",
       "25%           17.500000    4.000000    105.000000   75.750000    2226.500000   \n",
       "50%           23.000000    4.000000    151.000000   95.000000    2822.500000   \n",
       "75%           29.000000    8.000000    302.000000  130.000000    3618.250000   \n",
       "max           46.600000    8.000000    455.000000  230.000000    5140.000000   \n",
       "\n",
       "       Acceleration  \n",
       "count    406.000000  \n",
       "mean      15.519704  \n",
       "std        2.803359  \n",
       "min        8.000000  \n",
       "25%       13.700000  \n",
       "50%       15.500000  \n",
       "75%       17.175000  \n",
       "max       24.800000  "
      ]
     },
     "execution_count": 103,
     "metadata": {},
     "output_type": "execute_result"
    }
   ],
   "source": [
    "df.describe()"
   ]
  },
  {
   "cell_type": "markdown",
   "id": "3e9042b3",
   "metadata": {},
   "source": [
    "## Some plotting"
   ]
  },
  {
   "cell_type": "code",
   "execution_count": 110,
   "id": "9cc19eff",
   "metadata": {},
   "outputs": [
    {
     "data": {
      "text/plain": [
       "<Axes: xlabel='Miles_per_Gallon', ylabel='Horsepower'>"
      ]
     },
     "execution_count": 110,
     "metadata": {},
     "output_type": "execute_result"
    },
    {
     "data": {
      "image/png": "[encoded data removed]",
      "text/plain": [
       "<Figure size 640x480 with 1 Axes>"
      ]
     },
     "metadata": {},
     "output_type": "display_data"
    }
   ],
   "source": [
    "df.plot(kind='scatter', \n",
    "        x='Miles_per_Gallon', \n",
    "        y='Horsepower')"
   ]
  },
  {
   "cell_type": "code",
   "execution_count": 112,
   "id": "60a9c5d3",
   "metadata": {},
   "outputs": [],
   "source": [
    "import seaborn as sns\n",
    "import matplotlib.pyplot as plt "
   ]
  },
  {
   "cell_type": "code",
   "execution_count": 114,
   "id": "fd1fea88",
   "metadata": {},
   "outputs": [
    {
     "data": {
      "text/plain": [
       "<Axes: xlabel='Miles_per_Gallon', ylabel='Horsepower'>"
      ]
     },
     "execution_count": 114,
     "metadata": {},
     "output_type": "execute_result"
    },
    {
     "data": {
      "image/png": "[encoded data removed]",
      "text/plain": [
       "<Figure size 800x600 with 1 Axes>"
      ]
     },
     "metadata": {},
     "output_type": "display_data"
    }
   ],
   "source": [
    "fig, ax = plt.subplots(1,1, figsize=(8,6))\n",
    "sns.scatterplot(ax=ax, data=df, x='Miles_per_Gallon', y='Horsepower', hue='Origin')"
   ]
  },
  {
   "cell_type": "code",
   "execution_count": null,
   "id": "0ff76cb4",
   "metadata": {},
   "outputs": [],
   "source": []
  }
 ],
 "metadata": {
  "kernelspec": {
   "display_name": "python-ml-2025",
   "language": "python",
   "name": "python3"
  },
  "language_info": {
   "codemirror_mode": {
    "name": "ipython",
    "version": 3
   },
   "file_extension": ".py",
   "mimetype": "text/x-python",
   "name": "python",
   "nbconvert_exporter": "python",
   "pygments_lexer": "ipython3",
   "version": "3.12.10"
  }
 },
 "nbformat": 4,
 "nbformat_minor": 5
}
