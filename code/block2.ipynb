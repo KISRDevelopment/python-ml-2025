{
 "cells": [
  {
   "cell_type": "markdown",
   "id": "ea19055a",
   "metadata": {},
   "source": [
    "# Block 2: Grid-Search\n",
    "\n"
   ]
  },
  {
   "cell_type": "code",
   "execution_count": 8,
   "id": "67057a92",
   "metadata": {},
   "outputs": [],
   "source": [
    "import numpy as np \n",
    "import pandas as pd \n",
    "import matplotlib.pyplot as plt\n",
    "import seaborn as sns"
   ]
  },
  {
   "cell_type": "code",
   "execution_count": 3,
   "id": "bdd932f1",
   "metadata": {},
   "outputs": [
    {
     "data": {
      "text/html": [
       "<div>\n",
       "<style scoped>\n",
       "    .dataframe tbody tr th:only-of-type {\n",
       "        vertical-align: middle;\n",
       "    }\n",
       "\n",
       "    .dataframe tbody tr th {\n",
       "        vertical-align: top;\n",
       "    }\n",
       "\n",
       "    .dataframe thead th {\n",
       "        text-align: right;\n",
       "    }\n",
       "</style>\n",
       "<table border=\"1\" class=\"dataframe\">\n",
       "  <thead>\n",
       "    <tr style=\"text-align: right;\">\n",
       "      <th></th>\n",
       "      <th>Name</th>\n",
       "      <th>Miles_per_Gallon</th>\n",
       "      <th>Cylinders</th>\n",
       "      <th>Displacement</th>\n",
       "      <th>Horsepower</th>\n",
       "      <th>Weight_in_lbs</th>\n",
       "      <th>Acceleration</th>\n",
       "      <th>Year</th>\n",
       "      <th>Origin</th>\n",
       "    </tr>\n",
       "  </thead>\n",
       "  <tbody>\n",
       "    <tr>\n",
       "      <th>0</th>\n",
       "      <td>chevrolet chevelle malibu</td>\n",
       "      <td>18.0</td>\n",
       "      <td>8</td>\n",
       "      <td>307.0</td>\n",
       "      <td>130.0</td>\n",
       "      <td>3504</td>\n",
       "      <td>12.0</td>\n",
       "      <td>1970-01-01</td>\n",
       "      <td>USA</td>\n",
       "    </tr>\n",
       "    <tr>\n",
       "      <th>1</th>\n",
       "      <td>buick skylark 320</td>\n",
       "      <td>15.0</td>\n",
       "      <td>8</td>\n",
       "      <td>350.0</td>\n",
       "      <td>165.0</td>\n",
       "      <td>3693</td>\n",
       "      <td>11.5</td>\n",
       "      <td>1970-01-01</td>\n",
       "      <td>USA</td>\n",
       "    </tr>\n",
       "    <tr>\n",
       "      <th>2</th>\n",
       "      <td>plymouth satellite</td>\n",
       "      <td>18.0</td>\n",
       "      <td>8</td>\n",
       "      <td>318.0</td>\n",
       "      <td>150.0</td>\n",
       "      <td>3436</td>\n",
       "      <td>11.0</td>\n",
       "      <td>1970-01-01</td>\n",
       "      <td>USA</td>\n",
       "    </tr>\n",
       "    <tr>\n",
       "      <th>3</th>\n",
       "      <td>amc rebel sst</td>\n",
       "      <td>16.0</td>\n",
       "      <td>8</td>\n",
       "      <td>304.0</td>\n",
       "      <td>150.0</td>\n",
       "      <td>3433</td>\n",
       "      <td>12.0</td>\n",
       "      <td>1970-01-01</td>\n",
       "      <td>USA</td>\n",
       "    </tr>\n",
       "    <tr>\n",
       "      <th>4</th>\n",
       "      <td>ford torino</td>\n",
       "      <td>17.0</td>\n",
       "      <td>8</td>\n",
       "      <td>302.0</td>\n",
       "      <td>140.0</td>\n",
       "      <td>3449</td>\n",
       "      <td>10.5</td>\n",
       "      <td>1970-01-01</td>\n",
       "      <td>USA</td>\n",
       "    </tr>\n",
       "    <tr>\n",
       "      <th>...</th>\n",
       "      <td>...</td>\n",
       "      <td>...</td>\n",
       "      <td>...</td>\n",
       "      <td>...</td>\n",
       "      <td>...</td>\n",
       "      <td>...</td>\n",
       "      <td>...</td>\n",
       "      <td>...</td>\n",
       "      <td>...</td>\n",
       "    </tr>\n",
       "    <tr>\n",
       "      <th>401</th>\n",
       "      <td>ford mustang gl</td>\n",
       "      <td>27.0</td>\n",
       "      <td>4</td>\n",
       "      <td>140.0</td>\n",
       "      <td>86.0</td>\n",
       "      <td>2790</td>\n",
       "      <td>15.6</td>\n",
       "      <td>1982-01-01</td>\n",
       "      <td>USA</td>\n",
       "    </tr>\n",
       "    <tr>\n",
       "      <th>402</th>\n",
       "      <td>vw pickup</td>\n",
       "      <td>44.0</td>\n",
       "      <td>4</td>\n",
       "      <td>97.0</td>\n",
       "      <td>52.0</td>\n",
       "      <td>2130</td>\n",
       "      <td>24.6</td>\n",
       "      <td>1982-01-01</td>\n",
       "      <td>Europe</td>\n",
       "    </tr>\n",
       "    <tr>\n",
       "      <th>403</th>\n",
       "      <td>dodge rampage</td>\n",
       "      <td>32.0</td>\n",
       "      <td>4</td>\n",
       "      <td>135.0</td>\n",
       "      <td>84.0</td>\n",
       "      <td>2295</td>\n",
       "      <td>11.6</td>\n",
       "      <td>1982-01-01</td>\n",
       "      <td>USA</td>\n",
       "    </tr>\n",
       "    <tr>\n",
       "      <th>404</th>\n",
       "      <td>ford ranger</td>\n",
       "      <td>28.0</td>\n",
       "      <td>4</td>\n",
       "      <td>120.0</td>\n",
       "      <td>79.0</td>\n",
       "      <td>2625</td>\n",
       "      <td>18.6</td>\n",
       "      <td>1982-01-01</td>\n",
       "      <td>USA</td>\n",
       "    </tr>\n",
       "    <tr>\n",
       "      <th>405</th>\n",
       "      <td>chevy s-10</td>\n",
       "      <td>31.0</td>\n",
       "      <td>4</td>\n",
       "      <td>119.0</td>\n",
       "      <td>82.0</td>\n",
       "      <td>2720</td>\n",
       "      <td>19.4</td>\n",
       "      <td>1982-01-01</td>\n",
       "      <td>USA</td>\n",
       "    </tr>\n",
       "  </tbody>\n",
       "</table>\n",
       "<p>406 rows × 9 columns</p>\n",
       "</div>"
      ],
      "text/plain": [
       "                          Name  Miles_per_Gallon  Cylinders  Displacement  \\\n",
       "0    chevrolet chevelle malibu              18.0          8         307.0   \n",
       "1            buick skylark 320              15.0          8         350.0   \n",
       "2           plymouth satellite              18.0          8         318.0   \n",
       "3                amc rebel sst              16.0          8         304.0   \n",
       "4                  ford torino              17.0          8         302.0   \n",
       "..                         ...               ...        ...           ...   \n",
       "401            ford mustang gl              27.0          4         140.0   \n",
       "402                  vw pickup              44.0          4          97.0   \n",
       "403              dodge rampage              32.0          4         135.0   \n",
       "404                ford ranger              28.0          4         120.0   \n",
       "405                 chevy s-10              31.0          4         119.0   \n",
       "\n",
       "     Horsepower  Weight_in_lbs  Acceleration        Year  Origin  \n",
       "0         130.0           3504          12.0  1970-01-01     USA  \n",
       "1         165.0           3693          11.5  1970-01-01     USA  \n",
       "2         150.0           3436          11.0  1970-01-01     USA  \n",
       "3         150.0           3433          12.0  1970-01-01     USA  \n",
       "4         140.0           3449          10.5  1970-01-01     USA  \n",
       "..          ...            ...           ...         ...     ...  \n",
       "401        86.0           2790          15.6  1982-01-01     USA  \n",
       "402        52.0           2130          24.6  1982-01-01  Europe  \n",
       "403        84.0           2295          11.6  1982-01-01     USA  \n",
       "404        79.0           2625          18.6  1982-01-01     USA  \n",
       "405        82.0           2720          19.4  1982-01-01     USA  \n",
       "\n",
       "[406 rows x 9 columns]"
      ]
     },
     "execution_count": 3,
     "metadata": {},
     "output_type": "execute_result"
    }
   ],
   "source": [
    "# load dataset\n",
    "df = pd.read_json('../data/cars.json')\n",
    "df"
   ]
  },
  {
   "cell_type": "code",
   "execution_count": 20,
   "id": "5215a5b8",
   "metadata": {},
   "outputs": [],
   "source": [
    "# build our inputs and outputs\n",
    "X = df['Horsepower'].to_numpy() # N\n",
    "y = df['Miles_per_Gallon'].to_numpy() # N\n",
    "ix_excluded = np.isnan(X) | np.isnan(y)\n",
    "\n",
    "# exclude examples with no horsepower or mpg\n",
    "X = X[~ix_excluded]\n",
    "y = y[~ix_excluded]"
   ]
  },
  {
   "cell_type": "markdown",
   "id": "0fecc49e",
   "metadata": {},
   "source": [
    "## Grid-Search: The Wrong Way"
   ]
  },
  {
   "cell_type": "code",
   "execution_count": 35,
   "id": "a6842b7b",
   "metadata": {},
   "outputs": [
    {
     "data": {
      "text/plain": [
       "(np.float64(37.87878787878789), np.float64(-0.14141414141414121))"
      ]
     },
     "execution_count": 35,
     "metadata": {},
     "output_type": "execute_result"
    }
   ],
   "source": [
    "# now, let's try different values of b0 and b1\n",
    "# we'll do it with a loop, then we will do it the right way\n",
    "\n",
    "# set of b0s\n",
    "b0s = np.linspace(-50, 50, 100)\n",
    "\n",
    "# set of b1s\n",
    "b1s = np.linspace(-2, 2, 100)\n",
    "\n",
    "best_p = None \n",
    "min_loss = np.inf \n",
    "for b0 in b0s:\n",
    "    for b1 in b1s:\n",
    "        yhat = b0 + b1 * X \n",
    "        loss = np.mean(np.square(yhat - y))\n",
    "        if loss < min_loss:\n",
    "            min_loss = loss \n",
    "            best_p = (b0, b1)\n",
    "best_p"
   ]
  },
  {
   "cell_type": "code",
   "execution_count": 36,
   "id": "93ecb20c",
   "metadata": {},
   "outputs": [
    {
     "data": {
      "image/png": "[encoded data removed]",
      "text/plain": [
       "<Figure size 500x400 with 1 Axes>"
      ]
     },
     "metadata": {},
     "output_type": "display_data"
    }
   ],
   "source": [
    "def plot_data(df, best_p):\n",
    "    # lets plot\n",
    "    fig, ax = plt.subplots(1, 1, figsize=(5, 4), sharey=True)\n",
    "    sns.scatterplot(ax=ax, \n",
    "                    data=df, \n",
    "                    y='Miles_per_Gallon', \n",
    "                    x='Horsepower',\n",
    "                    edgecolor='black')\n",
    "    ax.xaxis.set_tick_params(labelsize=14)  \n",
    "    ax.yaxis.set_tick_params(labelsize=14)  \n",
    "    ax.set_ylabel('Miles per Gallon', fontsize=16)\n",
    "    ax.set_xlabel('Horsepower', fontsize=16)\n",
    "\n",
    "    # plot the line\n",
    "\n",
    "    # get params\n",
    "    b0, b1 = best_p\n",
    "\n",
    "    # prepare the points at which the model will be evaluated\n",
    "    max_hp = np.max(df['Horsepower'])\n",
    "    min_hp = np.min(df['Horsepower'])\n",
    "    xs = np.linspace(min_hp, max_hp, 100)\n",
    "\n",
    "    # run the model\n",
    "    yhat = b0 + b1 * xs\n",
    "\n",
    "    # plot line\n",
    "    ax.plot(xs, yhat, linestyle='--', linewidth=2, color='purple')\n",
    "\n",
    "    # set limits\n",
    "    ax.set_ylim([np.min(df['Miles_per_Gallon']), np.max(df['Miles_per_Gallon'])])\n",
    "    ax.grid(True, 'both')\n",
    "\n",
    "plot_data(df, best_p)"
   ]
  },
  {
   "cell_type": "markdown",
   "id": "849d4e3c",
   "metadata": {},
   "source": [
    "## Grid-Search: The Right Way"
   ]
  },
  {
   "cell_type": "code",
   "execution_count": 37,
   "id": "30f6304a",
   "metadata": {},
   "outputs": [
    {
     "data": {
      "text/plain": [
       "array([[-2.        , -2.        , -2.        , ..., -2.        ,\n",
       "        -2.        , -2.        ],\n",
       "       [-1.95959596, -1.95959596, -1.95959596, ..., -1.95959596,\n",
       "        -1.95959596, -1.95959596],\n",
       "       [-1.91919192, -1.91919192, -1.91919192, ..., -1.91919192,\n",
       "        -1.91919192, -1.91919192],\n",
       "       ...,\n",
       "       [ 1.91919192,  1.91919192,  1.91919192, ...,  1.91919192,\n",
       "         1.91919192,  1.91919192],\n",
       "       [ 1.95959596,  1.95959596,  1.95959596, ...,  1.95959596,\n",
       "         1.95959596,  1.95959596],\n",
       "       [ 2.        ,  2.        ,  2.        , ...,  2.        ,\n",
       "         2.        ,  2.        ]], shape=(100, 100))"
      ]
     },
     "execution_count": 37,
     "metadata": {},
     "output_type": "execute_result"
    }
   ],
   "source": [
    "b0s = np.linspace(-50, 50, 100) # R0\n",
    "b1s = np.linspace(-2, 2, 100) # R1\n",
    "B0, B1 = np.meshgrid(b0s, b1s) # Returns two matrices of size R0 x R1\n",
    "B0 # the b0 values of each combination\n",
    "B1 # the b1 values of each combination"
   ]
  },
  {
   "cell_type": "code",
   "execution_count": 38,
   "id": "393b9c44",
   "metadata": {},
   "outputs": [
    {
     "name": "stdout",
     "output_type": "stream",
     "text": [
      "4687\n",
      "37.87878787878789 -0.14141414141414121\n"
     ]
    }
   ],
   "source": [
    "# This will evluate all combinations all at once, taking advantage of modern compute hardware\n",
    "# compare the running times to prove to youself!\n",
    "\n",
    "# broadcasting in action! No loops necessary!\n",
    "# Tracing the shape: R0xR1 + R0xR1x1 * 1x1xN = R0xR1xN\n",
    "Yhat = B0[:,:,None] + B1[:,:, None] * X[None,None, :] # this is why tracing the shape is important!\n",
    "mse = np.mean(np.square(Yhat - y[None,None, :]), axis=2) # R0xR1\n",
    "\n",
    "# now we want to figure out the best parameters\n",
    "ix = mse.argmin()\n",
    "\n",
    "# unfortunately, this prints the flattened index\n",
    "print(ix)\n",
    "\n",
    "# translate into 2D index\n",
    "ix_min_b1, ix_min_b0 = np.unravel_index(ix, mse.shape)\n",
    "\n",
    "# get the parameter values\n",
    "min_b0 = b0s[ix_min_b0]\n",
    "min_b1 = b1s[ix_min_b1]\n",
    "\n",
    "print(min_b0, min_b1)"
   ]
  },
  {
   "cell_type": "code",
   "execution_count": null,
   "id": "66715d2d",
   "metadata": {},
   "outputs": [],
   "source": []
  }
 ],
 "metadata": {
  "kernelspec": {
   "display_name": "python-ml-2025",
   "language": "python",
   "name": "python3"
  },
  "language_info": {
   "codemirror_mode": {
    "name": "ipython",
    "version": 3
   },
   "file_extension": ".py",
   "mimetype": "text/x-python",
   "name": "python",
   "nbconvert_exporter": "python",
   "pygments_lexer": "ipython3",
   "version": "3.12.10"
  }
 },
 "nbformat": 4,
 "nbformat_minor": 5
}
