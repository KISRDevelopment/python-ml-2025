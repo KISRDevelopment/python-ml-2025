{
 "cells": [
  {
   "cell_type": "markdown",
   "id": "fe467c78",
   "metadata": {},
   "source": [
    "# Block 5: Evaluation"
   ]
  },
  {
   "cell_type": "code",
   "execution_count": 3,
   "id": "527ce834",
   "metadata": {},
   "outputs": [],
   "source": [
    "import numpy as np \n",
    "import pandas as pd \n",
    "import matplotlib.pyplot as plt\n",
    "import sklearn.model_selection"
   ]
  },
  {
   "cell_type": "code",
   "execution_count": 4,
   "id": "12542f03",
   "metadata": {},
   "outputs": [
    {
     "name": "stdout",
     "output_type": "stream",
     "text": [
      "TRAIN index: [0 1 2 4 5 6] TEST index: [3 7]\n",
      "TRAIN index: [0 1 2 3 4 7] TEST index: [5 6]\n",
      "TRAIN index: [0 3 4 5 6 7] TEST index: [1 2]\n",
      "TRAIN index: [1 2 3 4 5 6 7] TEST index: [0]\n",
      "TRAIN index: [0 1 2 3 5 6 7] TEST index: [4]\n"
     ]
    }
   ],
   "source": [
    "# Let's define a toy dataset \n",
    "X = np.array([[1, 2], [3, 4], [1, 2], [3, 4], [10, 11], [-1, -2], [0, 0], [3, 3]])\n",
    "y = np.array([1, 2, 3, 4, 5, 6, 7, 8])\n",
    "\n",
    "# use KFold to split the dataset\n",
    "\n",
    "# try using n_splits greater than the number of data points\n",
    "kf = sklearn.model_selection.KFold(n_splits=5, \n",
    "                                   shuffle=True, \n",
    "                                   random_state=43)\n",
    "for train_index, test_index in kf.split(X):\n",
    "    print(\"TRAIN index:\", train_index, \"TEST index:\", test_index)\n",
    "    \n",
    "    # build training and testing splits\n",
    "    Xtrain, ytrain = X[train_index,:], y[train_index]\n",
    "    Xtest, ytest = X[test_index,:], y[test_index]\n",
    "    \n",
    "    # train and evaluate the model ..."
   ]
  },
  {
   "cell_type": "code",
   "execution_count": 5,
   "id": "c977f3b5",
   "metadata": {},
   "outputs": [
    {
     "name": "stdout",
     "output_type": "stream",
     "text": [
      "Before:  (406, 9)\n",
      "After:  (392, 9)\n"
     ]
    }
   ],
   "source": [
    "# load dataset\n",
    "df = pd.read_json('../data/cars.json')\n",
    "\n",
    "# Filter dataframe\n",
    "required_cols = ['Miles_per_Gallon', 'Cylinders', 'Displacement', 'Horsepower', 'Weight_in_lbs', 'Acceleration', 'Origin']\n",
    "\n",
    "# only include rows where ALL columns are not nan\n",
    "ix_included = np.sum(pd.isna(df[required_cols]), axis=1) == 0\n",
    "\n",
    "# exclude examples with no horsepower or mpg\n",
    "print(\"Before: \", df.shape)\n",
    "df = df[ix_included]\n",
    "print(\"After: \", df.shape)\n"
   ]
  },
  {
   "cell_type": "code",
   "execution_count": 9,
   "id": "21df8e42",
   "metadata": {},
   "outputs": [
    {
     "name": "stdout",
     "output_type": "stream",
     "text": [
      "MSE:  17.044916646981076\n",
      "MSE from predict() func:  17.044916646981076\n"
     ]
    }
   ],
   "source": [
    "def optimize(X, y, eta, steps):\n",
    "\n",
    "    # z-score (NxK - 1xK) / 1xK = NxK\n",
    "    X = (X - np.mean(X, axis=0)[None, :]) / np.std(X, axis=0)[None, :]\n",
    "\n",
    "    # add a column of ones\n",
    "    ones_col = np.ones((X.shape[0], 1)) # Nx1\n",
    "    X = np.hstack((ones_col, X))\n",
    "    \n",
    "    # randomly initialize solution \n",
    "    Beta = np.random.rand(X.shape[1]) # K\n",
    "\n",
    "    # iterate for steps\n",
    "    history = []\n",
    "\n",
    "    for i in range(steps):\n",
    "        # compute model predictions\n",
    "        yhat = X @ Beta # N\n",
    "        mse = np.mean(np.square(yhat - y))\n",
    "        history.append([Beta, mse])\n",
    "\n",
    "        # compute gradient at those predictions\n",
    "        # (NxK).T @ N = K\n",
    "        Beta_grad = 2 * X.T @ (yhat - y) / X.shape[0]\n",
    "        \n",
    "        # update solution\n",
    "        Beta = Beta - eta * Beta_grad\n",
    "        \n",
    "    return history \n",
    "\n",
    "def predict(params, Xtest):\n",
    "    # z-score (NxK - 1xK) / 1xK = NxK\n",
    "    Xtest = (Xtest - np.mean(Xtest, axis=0)[None, :]) / np.std(Xtest, axis=0)[None, :]\n",
    "\n",
    "    # add a column of ones\n",
    "    ones_col = np.ones((Xtest.shape[0], 1)) # Nx1\n",
    "    Xtest = np.hstack((ones_col, Xtest))\n",
    "\n",
    "    # compute model predictions\n",
    "    yhat = Xtest @ params # N\n",
    "\n",
    "    return yhat \n",
    "\n",
    "# test the new code\n",
    "\n",
    "# construct input features\n",
    "numeric_features = ['Cylinders', 'Displacement', 'Horsepower', 'Weight_in_lbs', 'Acceleration']\n",
    "X = df[numeric_features].to_numpy()\n",
    "dummies = pd.get_dummies(df['Origin']).to_numpy().astype(float)\n",
    "X = np.hstack((X, dummies))\n",
    "\n",
    "history = optimize(X, df.Miles_per_Gallon.to_numpy(), 0.1, 100)\n",
    "print(\"MSE: \", history[-1][1])\n",
    "\n",
    "yhat = predict(history[-1][0], X)\n",
    "y = df.Miles_per_Gallon.to_numpy()\n",
    "mse = np.mean(np.square(yhat - y))\n",
    "print(\"MSE from predict() func: \", mse)\n"
   ]
  },
  {
   "cell_type": "code",
   "execution_count": null,
   "id": "a6230d3f",
   "metadata": {},
   "outputs": [
    {
     "name": "stdout",
     "output_type": "stream",
     "text": [
      "Average MSE:  36.688542846253334\n",
      "Stderr MSE:  2.7042467351928168\n"
     ]
    }
   ],
   "source": [
    "# run CV\n",
    "# try using n_splits greater than the number of data points\n",
    "kf = sklearn.model_selection.KFold(n_splits=5, \n",
    "                                   shuffle=True, \n",
    "                                   random_state=43)\n",
    "\n",
    "# construct inputs and outputs\n",
    "numeric_features = ['Cylinders', 'Displacement', 'Horsepower', 'Weight_in_lbs', 'Acceleration']\n",
    "X = df[numeric_features].to_numpy()\n",
    "dummies = pd.get_dummies(df['Origin']).to_numpy().astype(float)\n",
    "X = np.hstack((X, dummies))\n",
    "y = df.Miles_per_Gallon.to_numpy()\n",
    "mses = []\n",
    "for train_index, test_index in kf.split(X):\n",
    "    \n",
    "    # build training and testing splits\n",
    "    Xtrain, ytrain = X[train_index,:], y[train_index]\n",
    "    Xtest, ytest = X[test_index,:], y[test_index]\n",
    "    \n",
    "    # train and predict\n",
    "    history = optimize(Xtrain, ytrain, eta = 0.1, steps=100)\n",
    "    final_params, _ = history[-1]\n",
    "    yhat = predict(final_params, Xtest)\n",
    "\n",
    "    # evaluate\n",
    "    mse = np.mean(np.square(yhat - ytest))\n",
    "    mses.append(mse)\n",
    "print(\"Average MSE: \", np.mean(mses))\n",
    "print(\"Stderr MSE: \", np.std(mses)/np.sqrt(len(mses)))"
   ]
  },
  {
   "cell_type": "code",
   "execution_count": null,
   "id": "7bdc913b",
   "metadata": {},
   "outputs": [],
   "source": []
  }
 ],
 "metadata": {
  "kernelspec": {
   "display_name": "python-ml-2025",
   "language": "python",
   "name": "python3"
  },
  "language_info": {
   "codemirror_mode": {
    "name": "ipython",
    "version": 3
   },
   "file_extension": ".py",
   "mimetype": "text/x-python",
   "name": "python",
   "nbconvert_exporter": "python",
   "pygments_lexer": "ipython3",
   "version": "3.12.10"
  }
 },
 "nbformat": 4,
 "nbformat_minor": 5
}
