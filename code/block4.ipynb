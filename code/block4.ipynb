{
 "cells": [
  {
   "cell_type": "markdown",
   "id": "77a5a49c",
   "metadata": {},
   "source": [
    "# Bock 4: Multivariate Linear Regression\n",
    "\n",
    "## Objectives\n",
    "\n",
    "- Learn categorical coding\n",
    "- Create a function that prepares our inputs for training\n",
    "- Create a function that implements the \"forward computation\"\n",
    "- Create a function that implements the optimzation\n",
    "- Create a function that implements the prediction\n",
    "- Run the model using the functions created above"
   ]
  },
  {
   "cell_type": "code",
   "execution_count": 18,
   "id": "c13037fe",
   "metadata": {},
   "outputs": [],
   "source": [
    "import numpy as np \n",
    "import pandas as pd "
   ]
  },
  {
   "cell_type": "code",
   "execution_count": 19,
   "id": "45cfd219",
   "metadata": {},
   "outputs": [
    {
     "name": "stdout",
     "output_type": "stream",
     "text": [
      "Before:  (406, 9)\n",
      "After:  (392, 9)\n"
     ]
    }
   ],
   "source": [
    "# load dataset\n",
    "df = pd.read_json('../data/cars.json')\n",
    "\n",
    "# Filter dataframe\n",
    "required_cols = ['Miles_per_Gallon', 'Cylinders', 'Displacement', 'Horsepower', 'Weight_in_lbs', 'Acceleration', 'Origin']\n",
    "\n",
    "# only include rows where ALL columns are not nan\n",
    "ix_included = np.sum(pd.isna(df[required_cols]), axis=1) == 0\n",
    "\n",
    "# exclude examples with no horsepower or mpg\n",
    "print(\"Before: \", df.shape)\n",
    "df = df[ix_included]\n",
    "print(\"After: \", df.shape)"
   ]
  },
  {
   "cell_type": "code",
   "execution_count": 21,
   "id": "8688bcc7",
   "metadata": {},
   "outputs": [
    {
     "data": {
      "text/html": [
       "<div>\n",
       "<style scoped>\n",
       "    .dataframe tbody tr th:only-of-type {\n",
       "        vertical-align: middle;\n",
       "    }\n",
       "\n",
       "    .dataframe tbody tr th {\n",
       "        vertical-align: top;\n",
       "    }\n",
       "\n",
       "    .dataframe thead th {\n",
       "        text-align: right;\n",
       "    }\n",
       "</style>\n",
       "<table border=\"1\" class=\"dataframe\">\n",
       "  <thead>\n",
       "    <tr style=\"text-align: right;\">\n",
       "      <th></th>\n",
       "      <th>Apple</th>\n",
       "      <th>Banana</th>\n",
       "      <th>Strawberry</th>\n",
       "    </tr>\n",
       "  </thead>\n",
       "  <tbody>\n",
       "    <tr>\n",
       "      <th>0</th>\n",
       "      <td>True</td>\n",
       "      <td>False</td>\n",
       "      <td>False</td>\n",
       "    </tr>\n",
       "    <tr>\n",
       "      <th>1</th>\n",
       "      <td>False</td>\n",
       "      <td>True</td>\n",
       "      <td>False</td>\n",
       "    </tr>\n",
       "    <tr>\n",
       "      <th>2</th>\n",
       "      <td>False</td>\n",
       "      <td>False</td>\n",
       "      <td>True</td>\n",
       "    </tr>\n",
       "  </tbody>\n",
       "</table>\n",
       "</div>"
      ],
      "text/plain": [
       "   Apple  Banana  Strawberry\n",
       "0   True   False       False\n",
       "1  False    True       False\n",
       "2  False   False        True"
      ]
     },
     "execution_count": 21,
     "metadata": {},
     "output_type": "execute_result"
    }
   ],
   "source": [
    "# example of categorical encoding\n",
    "s = pd.Series(['Apple', 'Banana', 'Strawberry'])\n",
    "r = pd.get_dummies(s)\n",
    "r"
   ]
  },
  {
   "cell_type": "code",
   "execution_count": 22,
   "id": "ca8a2c60",
   "metadata": {},
   "outputs": [
    {
     "data": {
      "text/plain": [
       "array([[ 1.        ,  1.48394702,  0.        ,  0.        ,  1.        ],\n",
       "       [ 1.        ,  1.48394702,  0.        ,  0.        ,  1.        ],\n",
       "       [ 1.        ,  1.48394702,  0.        ,  0.        ,  1.        ],\n",
       "       ...,\n",
       "       [ 1.        , -0.86401356,  0.        ,  0.        ,  1.        ],\n",
       "       [ 1.        , -0.86401356,  0.        ,  0.        ,  1.        ],\n",
       "       [ 1.        , -0.86401356,  0.        ,  0.        ,  1.        ]],\n",
       "      shape=(392, 5))"
      ]
     },
     "execution_count": 22,
     "metadata": {},
     "output_type": "execute_result"
    }
   ],
   "source": [
    "def prepare_inputs(df):\n",
    "    # we need to separate categorical from numeric features\n",
    "    # because they require separate processing\n",
    "    # let's get categorical columns\n",
    "    categorical_cols = df.select_dtypes(include='object').columns\n",
    "        \n",
    "    # let's get numeric\n",
    "    ordinal_cols = df.select_dtypes(include='number').columns\n",
    "\n",
    "    # construct input features\n",
    "    X = df[ordinal_cols].to_numpy()\n",
    "\n",
    "    # z-score (NxK' - 1xK') / 1xK' = NxK'\n",
    "    X = (X - np.mean(X, axis=0)[None, :]) / np.std(X, axis=0)[None, :]\n",
    "\n",
    "    # code categorical features\n",
    "    for feature in categorical_cols:\n",
    "        dummies = pd.get_dummies(df[feature]).to_numpy().astype(float)\n",
    "        X = np.hstack((X, dummies)) \n",
    "\n",
    "    # add a column of ones\n",
    "    ones_col = np.ones((X.shape[0], 1)) # Nx1\n",
    "    X = np.hstack((ones_col, X)) # K\n",
    "\n",
    "    return X \n",
    "prepare_inputs(df[['Cylinders', 'Origin']])"
   ]
  },
  {
   "cell_type": "code",
   "execution_count": 23,
   "id": "1cd77c5d",
   "metadata": {},
   "outputs": [
    {
     "name": "stdout",
     "output_type": "stream",
     "text": [
      "[17.52842327 -0.38014354 -0.57425414 -1.86862122 -3.55452421 -0.11681402\n",
      "  5.8074257   7.67167712  5.36318299]\n",
      "17.1171629392896\n"
     ]
    }
   ],
   "source": [
    "def forward_fn(Beta, X):\n",
    "    \"\"\"\n",
    "        Beta: K\n",
    "        X: NxK\n",
    "    \"\"\"\n",
    "    return X @ Beta # NxK @ K = N\n",
    "\n",
    "def optimize(df, y, eta, steps):\n",
    "\n",
    "    X = prepare_inputs(df)\n",
    "    \n",
    "    # randomly initialize solution \n",
    "    Beta = np.random.rand(X.shape[1]) # K\n",
    "\n",
    "    # iterate for steps\n",
    "    history = []\n",
    "\n",
    "    for i in range(steps):\n",
    "        yhat = forward_fn(Beta, X)\n",
    "        mse = np.mean(np.square(yhat - y))\n",
    "        history.append([Beta, mse])\n",
    "\n",
    "        # compute gradient at those predictions\n",
    "        # (NxK).T @ N = K\n",
    "        Beta_grad = 2 * X.T @ (yhat - y) / X.shape[0]\n",
    "        \n",
    "        # update solution\n",
    "        Beta = Beta - eta * Beta_grad\n",
    "        \n",
    "    return Beta, history \n",
    "\n",
    "input_features = ['Cylinders', 'Displacement', 'Horsepower', 'Weight_in_lbs', 'Acceleration', 'Origin']\n",
    "Beta, history = optimize(df[input_features], df.Miles_per_Gallon.to_numpy(), 0.1, 100)\n",
    "final_p, final_mse = history[-1]\n",
    "print(Beta)\n",
    "print(final_mse)"
   ]
  },
  {
   "cell_type": "code",
   "execution_count": 25,
   "id": "bc58e79e",
   "metadata": {},
   "outputs": [
    {
     "data": {
      "text/plain": [
       "array([18.41225338, 15.70394505, 17.7069566 , 17.75405727, 18.24768659,\n",
       "       11.01419255,  9.79535561, 10.3125067 ,  9.20692558, 13.73828016,\n",
       "       15.88787964, 16.50228715, 15.95820713, 14.81744594, 28.99657753,\n",
       "       23.82192666, 23.96642921, 25.30658783, 30.45995212, 31.61897202,\n",
       "       26.17466728, 27.1865113 , 27.06321956, 26.89763001, 24.85583895,\n",
       "        9.24931318, 11.22869888, 10.72062177,  9.94539118, 30.45995212,\n",
       "       27.21410153, 29.64234485, 24.33187769, 20.64829162, 21.21487706,\n",
       "       21.91131493, 21.48557514, 13.52066479, 11.71256818, 14.26533708,\n",
       "       14.85671129,  9.50560369, 10.75281123,  8.85887474, 22.30738254,\n",
       "       27.33730402, 21.43300866, 22.63669382, 27.75539826, 28.44461198,\n",
       "       29.59223119, 29.50081405, 33.02589682, 33.53877554, 31.00623203,\n",
       "       29.53827637, 29.36924755, 28.44835275, 29.34727068, 26.44114783,\n",
       "       27.62426912, 13.24830944, 12.02238696, 14.67210035, 14.39128687,\n",
       "       16.7738253 ,  9.26220499, 12.7154655 , 12.66516527, 11.11702413,\n",
       "       29.59834943, 15.80961171, 15.8385535 , 14.47389193, 14.8939274 ,\n",
       "       23.93258028, 27.3023279 , 24.748574  , 29.1291637 , 26.93734292,\n",
       "       29.49749524, 28.32062366, 28.37117318, 30.50086368, 13.44890028,\n",
       "       16.7738253 , 15.37645362, 15.73921229, 16.21454531,  8.39045901,\n",
       "       12.90659054, 13.16776356, 14.20231648,  8.4341132 ,  6.96054677,\n",
       "       14.64777714, 21.93834237, 21.32258262, 22.90157568, 23.04633263,\n",
       "       23.50323308, 31.11591481, 10.5884857 , 10.20702672, 11.31569158,\n",
       "       11.55521111, 23.597624  , 29.64485028, 27.34543687, 28.9797361 ,\n",
       "       30.80176803, 27.23612009, 25.0511063 , 27.8849318 , 14.98258588,\n",
       "        9.90323023, 31.54080489, 28.96349797, 26.48374476, 24.16254018,\n",
       "       17.86198965, 25.19488812, 25.24249379, 15.11752312, 22.65239903,\n",
       "       23.08593931, 21.12195329, 32.14307698, 26.9731534 , 32.67713071,\n",
       "       26.71479748, 19.25736662, 19.30924776, 19.87682182, 15.19976545,\n",
       "       12.09066782, 13.32289381, 13.03250357, 14.15304526, 28.37554176,\n",
       "       30.37273858, 28.36947472, 34.2558966 , 32.19067661, 28.84278579,\n",
       "       29.31586444, 28.6583639 , 28.37065734, 29.02045937, 30.1965078 ,\n",
       "       21.84644635, 20.4059246 , 21.91117005, 23.12284582, 11.10083538,\n",
       "       13.44014091, 13.10870497, 12.40076964, 18.17814578, 18.46467985,\n",
       "       18.85622422, 19.53622704, 22.06951006, 20.75389135, 19.89201332,\n",
       "       30.85648   , 25.91948906, 23.03146824, 26.29587377, 27.51344589,\n",
       "       28.98604472, 28.05671651, 23.28275912, 30.33900573, 22.23070634,\n",
       "       25.77213015, 24.89813566, 24.56282255, 24.92695092, 33.47071972,\n",
       "       27.19608826, 28.35270639, 25.85177581, 27.92401675, 28.48116359,\n",
       "       14.91561069, 14.46284354, 16.91521641, 14.08802767, 21.75873216,\n",
       "       20.91366652, 23.65240528, 22.73321945, 30.03892419, 29.0423415 ,\n",
       "       30.33052664, 33.47495927, 19.90976816, 21.02452553, 19.37504616,\n",
       "       21.88630509, 30.79753504, 31.88146995, 30.90656314, 26.90839655,\n",
       "       23.40909353, 15.50188506, 23.37890212, 25.32284599, 19.02930455,\n",
       "       12.0707891 , 15.13811356, 16.77897037, 16.24313394, 31.61320866,\n",
       "       28.34593184, 31.25702327, 26.87051044, 32.07850275, 16.09744201,\n",
       "       17.01622659, 14.88571486, 15.00242488, 19.89032737, 20.6146309 ,\n",
       "       19.99775989, 20.34245441, 12.50886246, 13.48742168, 11.53618076,\n",
       "       13.65897192, 29.87790439, 25.23520041, 30.36934225, 25.19266123,\n",
       "       29.58621124, 28.56010819, 32.00774758, 28.84734197, 26.43674483,\n",
       "       25.49716761, 27.27735578, 30.88930953, 30.6023237 , 32.71409267,\n",
       "       31.47843063, 33.15614269, 20.07671798, 16.84693999, 17.69178587,\n",
       "       20.05621228, 22.34726297, 23.73121576, 25.4048811 , 20.8569741 ,\n",
       "       22.22641733, 20.84981961, 23.2531012 , 19.51117722, 19.87630485,\n",
       "       17.9742527 , 17.76268513, 19.28899868, 15.38016382, 28.92859638,\n",
       "       28.12736958, 29.18079626, 28.32040654, 28.29048601, 24.33074999,\n",
       "       24.83133461, 28.73235851, 24.4641968 , 21.79441602, 24.3141107 ,\n",
       "       20.18095334, 30.03566136, 31.31665261, 20.94635088, 23.52471461,\n",
       "       24.61201572, 21.95356734, 20.68962911, 16.87123054, 17.50297385,\n",
       "       15.84101417, 16.60713526, 13.25110356, 15.18512579, 18.32470093,\n",
       "       15.2795865 , 30.34617263, 32.25818232, 29.43994098, 26.12461324,\n",
       "       22.33118238, 16.53081694, 24.30212272, 20.53438995, 28.74426713,\n",
       "       28.88169897, 31.90554149, 29.54375711, 25.43128857, 24.16241877,\n",
       "       23.65462738, 26.02766525, 29.10637139, 32.36144915, 29.02042711,\n",
       "       32.02294415, 25.37657019, 24.661901  , 23.86216975, 21.48478299,\n",
       "       28.78364985, 27.68259706, 29.11198801, 28.84965059, 30.43608686,\n",
       "       31.57805346, 24.19780501, 31.52843407, 30.46182219, 29.32951068,\n",
       "       25.59666907, 24.34486584, 32.71660513, 31.26950166, 31.06374436,\n",
       "       24.34792126, 29.11781106, 26.88256528, 30.40634409, 26.57779016,\n",
       "       25.8526361 , 25.58393429, 23.80563798, 27.1364561 , 33.48665274,\n",
       "       30.36643069, 33.39141168, 31.61318734, 32.08561611, 31.98423797,\n",
       "       32.00906519, 28.94960524, 29.54805049, 27.95359332, 28.99357999,\n",
       "       30.70595246, 30.01209712, 27.71085434, 28.73700278, 23.88358021,\n",
       "       23.93697771, 25.11668839, 24.86655968, 20.46012271, 18.1684247 ,\n",
       "       23.13221743, 21.46489054, 25.86253142, 25.75827399, 26.81028146,\n",
       "       26.27820486, 26.41841864, 25.0741423 , 24.56048848, 29.82686229,\n",
       "       31.74819189, 32.0040837 , 29.33519175, 28.92316488, 30.20787141,\n",
       "       30.72266333, 30.69086025, 32.1838711 , 32.15419428, 32.00729408,\n",
       "       22.67875946, 23.13016534, 25.72634763, 22.8342932 , 27.5965737 ,\n",
       "       27.19506779, 24.2029514 , 25.20031384, 29.9174235 , 27.56867761,\n",
       "       26.21464681, 25.64234091])"
      ]
     },
     "execution_count": 25,
     "metadata": {},
     "output_type": "execute_result"
    }
   ],
   "source": [
    "def predict(Beta, df):\n",
    "    X = prepare_inputs(df)\n",
    "    return forward_fn(Beta, X)\n",
    "\n",
    "yhat = predict(Beta, df[input_features])\n",
    "yhat"
   ]
  },
  {
   "cell_type": "code",
   "execution_count": null,
   "id": "637c673c",
   "metadata": {},
   "outputs": [],
   "source": []
  }
 ],
 "metadata": {
  "kernelspec": {
   "display_name": "python-ml-2025",
   "language": "python",
   "name": "python3"
  },
  "language_info": {
   "codemirror_mode": {
    "name": "ipython",
    "version": 3
   },
   "file_extension": ".py",
   "mimetype": "text/x-python",
   "name": "python",
   "nbconvert_exporter": "python",
   "pygments_lexer": "ipython3",
   "version": "3.12.10"
  }
 },
 "nbformat": 4,
 "nbformat_minor": 5
}
