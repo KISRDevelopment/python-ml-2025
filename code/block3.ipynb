{
 "cells": [
  {
   "cell_type": "markdown",
   "id": "77a5a49c",
   "metadata": {},
   "source": [
    "# Bock 3: Gradient Descent"
   ]
  },
  {
   "cell_type": "code",
   "execution_count": 1,
   "id": "c13037fe",
   "metadata": {},
   "outputs": [],
   "source": [
    "import numpy as np \n",
    "import pandas as pd \n",
    "import matplotlib.pyplot as plt\n",
    "import seaborn as sns"
   ]
  },
  {
   "cell_type": "code",
   "execution_count": 27,
   "id": "45cfd219",
   "metadata": {},
   "outputs": [
    {
     "name": "stdout",
     "output_type": "stream",
     "text": [
      "Before:  (406, 9)\n",
      "After:  (392, 9)\n"
     ]
    }
   ],
   "source": [
    "# load dataset\n",
    "df = pd.read_json('../data/cars.json')\n",
    "\n",
    "# Filter dataframe\n",
    "required_cols = ['Miles_per_Gallon', 'Cylinders', 'Displacement', 'Horsepower', 'Weight_in_lbs', 'Acceleration', 'Origin']\n",
    "\n",
    "# only include rows where ALL columns are not nan\n",
    "ix_included = np.sum(pd.isna(df[required_cols]), axis=1) == 0\n",
    "\n",
    "# exclude examples with no horsepower or mpg\n",
    "print(\"Before: \", df.shape)\n",
    "df = df[ix_included]\n",
    "print(\"After: \", df.shape)"
   ]
  },
  {
   "cell_type": "code",
   "execution_count": 28,
   "id": "ca8a2c60",
   "metadata": {},
   "outputs": [
    {
     "name": "stdout",
     "output_type": "stream",
     "text": [
      "(np.float64(23.445918361194206), np.float64(-6.067872401517799))\n",
      "23.943662938603108\n"
     ]
    }
   ],
   "source": [
    "def optimize(x, y, eta, steps):\n",
    "\n",
    "    # z-score\n",
    "    x = (x - np.mean(x)) / np.std(x)\n",
    "\n",
    "    # randomly initialize solution\n",
    "    beta0, beta1 = np.random.randn(2)\n",
    "\n",
    "    # iterate for steps\n",
    "    history = []\n",
    "\n",
    "    for i in range(steps):\n",
    "        # compute model predictions\n",
    "        yhat = x * beta1 + beta0\n",
    "        mse = np.mean(np.square(yhat - y))\n",
    "        history.append([(beta0, beta1), mse])\n",
    "\n",
    "        # compute gradient at those predictions\n",
    "        beta0_grad = np.mean(2 * (yhat - y))\n",
    "        beta1_grad = np.mean(2 * (yhat - y) * x)\n",
    "        \n",
    "        # update solution\n",
    "        beta0 = beta0 - eta * beta0_grad\n",
    "        beta1 = beta1 - eta * beta1_grad\n",
    "        \n",
    "    return history \n",
    "\n",
    "history = optimize(df.Horsepower.to_numpy(), df.Miles_per_Gallon.to_numpy(), 0.1, 100)\n",
    "final_p, final_mse = history[-1]\n",
    "print(final_p)\n",
    "print(final_mse)"
   ]
  },
  {
   "cell_type": "markdown",
   "id": "dfaf8350",
   "metadata": {},
   "source": [
    "## Other Input Features\n",
    "\n",
    "**WARNING**: Do not do this in real world; you must not select the best feature based on the whole dataset. This is just for illustration purposes."
   ]
  },
  {
   "cell_type": "code",
   "execution_count": 29,
   "id": "5f4e4285",
   "metadata": {},
   "outputs": [
    {
     "name": "stdout",
     "output_type": "stream",
     "text": [
      "Using Cylinders, the MSE is 24.02017956815553\n",
      "Using Displacement, the MSE is 21.37454494009465\n",
      "Using Horsepower, the MSE is 23.943662938603108\n",
      "Using Weight_in_lbs, the MSE is 18.6766165974193\n",
      "Using Acceleration, the MSE is 49.87362732665226\n"
     ]
    }
   ],
   "source": [
    "features = ['Cylinders', 'Displacement', 'Horsepower', 'Weight_in_lbs', 'Acceleration']\n",
    "for feature in features:\n",
    "    history = optimize(df[feature].to_numpy(), df.Miles_per_Gallon.to_numpy(), 0.1, 100)\n",
    "    final_p, final_mse = history[-1]\n",
    "    print(f\"Using {feature}, the MSE is {final_mse}\")\n"
   ]
  },
  {
   "cell_type": "code",
   "execution_count": null,
   "id": "bc58e79e",
   "metadata": {},
   "outputs": [],
   "source": []
  }
 ],
 "metadata": {
  "kernelspec": {
   "display_name": "python-ml-2025",
   "language": "python",
   "name": "python3"
  },
  "language_info": {
   "codemirror_mode": {
    "name": "ipython",
    "version": 3
   },
   "file_extension": ".py",
   "mimetype": "text/x-python",
   "name": "python",
   "nbconvert_exporter": "python",
   "pygments_lexer": "ipython3",
   "version": "3.12.10"
  }
 },
 "nbformat": 4,
 "nbformat_minor": 5
}
